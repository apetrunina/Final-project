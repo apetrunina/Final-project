{
  "nbformat": 4,
  "nbformat_minor": 0,
  "metadata": {
    "colab": {
      "provenance": [],
      "toc_visible": true
    },
    "kernelspec": {
      "name": "python3",
      "display_name": "Python 3"
    },
    "language_info": {
      "name": "python"
    }
  },
  "cells": [
    {
      "cell_type": "markdown",
      "source": [
        "# Установка необходимых пакетов"
      ],
      "metadata": {
        "id": "KARtEbRJCXA4"
      }
    },
    {
      "cell_type": "markdown",
      "source": [
        "Установка Java Development Kit (JDK) версии 8 (OpenJDK).\n",
        "\n",
        "Импорт модуля os.\n",
        "\n",
        "Установка пременной окружения JAVA_HOME."
      ],
      "metadata": {
        "id": "mNgkh_orBT7U"
      }
    },
    {
      "cell_type": "code",
      "source": [
        "!apt-get install openjdk-8-jdk-headless -qq > /dev/null\n",
        "\n",
        "import os\n",
        "os.environ[\"JAVA_HOME\"] = \"/usr/lib/jvm/java-8-openjdk-amd64\""
      ],
      "metadata": {
        "id": "J-RKyp44JGjk"
      },
      "execution_count": 1,
      "outputs": []
    },
    {
      "cell_type": "markdown",
      "source": [
        "Установка библиотеки PySpark, которая предоставляет Python API для работы с Apache Spark.\n",
        "\n",
        "Импорт класса SparkSession из модуля pyspark.sql, который предоставляет средства для работы с данными в Spark SQL.\n",
        "\n",
        "Создание экземпляра объекта SparkSession, который является точкой входа для выполнения операций Spark SQL. Метод builder используется для настройки настроек сессии, а метод getOrCreate получает или создает существующую сессию Spark, если она уже существует.\n"
      ],
      "metadata": {
        "id": "DGBjO0AUBwkT"
      }
    },
    {
      "cell_type": "code",
      "source": [
        "!pip install pyspark\n",
        "\n",
        "from pyspark.sql import SparkSession\n",
        "\n",
        "spark = SparkSession.builder.master(\"local[*]\").getOrCreate()"
      ],
      "metadata": {
        "colab": {
          "base_uri": "https://localhost:8080/"
        },
        "id": "bRT5VJxlJmX5",
        "outputId": "c6b84bef-ec12-4353-9e7a-f0bdf43b46be"
      },
      "execution_count": 2,
      "outputs": [
        {
          "output_type": "stream",
          "name": "stdout",
          "text": [
            "Collecting pyspark\n",
            "  Downloading pyspark-3.5.0.tar.gz (316.9 MB)\n",
            "\u001b[2K     \u001b[90m━━━━━━━━━━━━━━━━━━━━━━━━━━━━━━━━━━━━━━━━\u001b[0m \u001b[32m316.9/316.9 MB\u001b[0m \u001b[31m2.3 MB/s\u001b[0m eta \u001b[36m0:00:00\u001b[0m\n",
            "\u001b[?25h  Preparing metadata (setup.py) ... \u001b[?25l\u001b[?25hdone\n",
            "Requirement already satisfied: py4j==0.10.9.7 in /usr/local/lib/python3.10/dist-packages (from pyspark) (0.10.9.7)\n",
            "Building wheels for collected packages: pyspark\n",
            "  Building wheel for pyspark (setup.py) ... \u001b[?25l\u001b[?25hdone\n",
            "  Created wheel for pyspark: filename=pyspark-3.5.0-py2.py3-none-any.whl size=317425345 sha256=04f4e2a04833ee9ae55d5281e507b88165c4de41046ebf26259fc218bdac985a\n",
            "  Stored in directory: /root/.cache/pip/wheels/41/4e/10/c2cf2467f71c678cfc8a6b9ac9241e5e44a01940da8fbb17fc\n",
            "Successfully built pyspark\n",
            "Installing collected packages: pyspark\n",
            "Successfully installed pyspark-3.5.0\n"
          ]
        }
      ]
    },
    {
      "cell_type": "markdown",
      "source": [
        "# Импорт log-файла и его анализ"
      ],
      "metadata": {
        "id": "7uaUkIP0CfSj"
      }
    },
    {
      "cell_type": "code",
      "source": [
        "df_log = spark.read.text(\"/content/drive/MyDrive/Проект 3.log\")"
      ],
      "metadata": {
        "id": "YEBI0xO5JmbU"
      },
      "execution_count": 3,
      "outputs": []
    },
    {
      "cell_type": "code",
      "source": [
        "df_log.printSchema()"
      ],
      "metadata": {
        "colab": {
          "base_uri": "https://localhost:8080/"
        },
        "id": "7zCtARHSJmgX",
        "outputId": "7b33d51d-facf-44a3-e321-a660c8343480"
      },
      "execution_count": 4,
      "outputs": [
        {
          "output_type": "stream",
          "name": "stdout",
          "text": [
            "root\n",
            " |-- value: string (nullable = true)\n",
            "\n"
          ]
        }
      ]
    },
    {
      "cell_type": "code",
      "source": [
        "df_log.show(truncate=False)"
      ],
      "metadata": {
        "colab": {
          "base_uri": "https://localhost:8080/"
        },
        "id": "atOro8JSKGpX",
        "outputId": "a30b98ac-446a-4101-cd31-1535f22546e3"
      },
      "execution_count": 5,
      "outputs": [
        {
          "output_type": "stream",
          "name": "stdout",
          "text": [
            "+---------------------------------------------------------------------------------------------------------------------------------------------------------------------------------------------------------------------------------------------------------------------------------------------------------------------------------------------------------------------------------------------------------------------------------------------------------------------------------------------------------------------------------------------------+\n",
            "|value                                                                                                                                                                                                                                                                                                                                                                                                                                                                                                                                              |\n",
            "+---------------------------------------------------------------------------------------------------------------------------------------------------------------------------------------------------------------------------------------------------------------------------------------------------------------------------------------------------------------------------------------------------------------------------------------------------------------------------------------------------------------------------------------------------+\n",
            "|54.36.149.41 - - [22/Jan/2019:03:56:14 +0330] \"GET /filter/27|13%20%D9%85%DA%AF%D8%A7%D9%BE%DB%8C%DA%A9%D8%B3%D9%84,27|%DA%A9%D9%85%D8%AA%D8%B1%20%D8%A7%D8%B2%205%20%D9%85%DA%AF%D8%A7%D9%BE%DB%8C%DA%A9%D8%B3%D9%84,p53 HTTP/1.1\" 200 30577 \"-\" \"Mozilla/5.0 (compatible; AhrefsBot/6.1; +http://ahrefs.com/robot/)\" \"-\"                                                                                                                                                                                                                         |\n",
            "|31.56.96.51 - - [22/Jan/2019:03:56:16 +0330] \"GET /image/60844/productModel/200x200 HTTP/1.1\" 200 5667 \"https://www.zanbil.ir/m/filter/b113\" \"Mozilla/5.0 (Linux; Android 6.0; ALE-L21 Build/HuaweiALE-L21) AppleWebKit/537.36 (KHTML, like Gecko) Chrome/66.0.3359.158 Mobile Safari/537.36\" \"-\"                                                                                                                                                                                                                                                  |\n",
            "|31.56.96.51 - - [22/Jan/2019:03:56:16 +0330] \"GET /image/61474/productModel/200x200 HTTP/1.1\" 200 5379 \"https://www.zanbil.ir/m/filter/b113\" \"Mozilla/5.0 (Linux; Android 6.0; ALE-L21 Build/HuaweiALE-L21) AppleWebKit/537.36 (KHTML, like Gecko) Chrome/66.0.3359.158 Mobile Safari/537.36\" \"-\"                                                                                                                                                                                                                                                  |\n",
            "|40.77.167.129 - - [22/Jan/2019:03:56:17 +0330] \"GET /image/14925/productModel/100x100 HTTP/1.1\" 200 1696 \"-\" \"Mozilla/5.0 (compatible; bingbot/2.0; +http://www.bing.com/bingbot.htm)\" \"-\"                                                                                                                                                                                                                                                                                                                                                         |\n",
            "|91.99.72.15 - - [22/Jan/2019:03:56:17 +0330] \"GET /product/31893/62100/%D8%B3%D8%B4%D9%88%D8%A7%D8%B1-%D8%AE%D8%A7%D9%86%DA%AF%DB%8C-%D9%BE%D8%B1%D9%86%D8%B3%D9%84%DB%8C-%D9%85%D8%AF%D9%84-PR257AT HTTP/1.1\" 200 41483 \"-\" \"Mozilla/5.0 (Windows NT 6.2; Win64; x64; rv:16.0)Gecko/16.0 Firefox/16.0\" \"-\"                                                                                                                                                                                                                                        |\n",
            "|40.77.167.129 - - [22/Jan/2019:03:56:17 +0330] \"GET /image/23488/productModel/150x150 HTTP/1.1\" 200 2654 \"-\" \"Mozilla/5.0 (compatible; bingbot/2.0; +http://www.bing.com/bingbot.htm)\" \"-\"                                                                                                                                                                                                                                                                                                                                                         |\n",
            "|40.77.167.129 - - [22/Jan/2019:03:56:18 +0330] \"GET /image/45437/productModel/150x150 HTTP/1.1\" 200 3688 \"-\" \"Mozilla/5.0 (compatible; bingbot/2.0; +http://www.bing.com/bingbot.htm)\" \"-\"                                                                                                                                                                                                                                                                                                                                                         |\n",
            "|40.77.167.129 - - [22/Jan/2019:03:56:18 +0330] \"GET /image/576/article/100x100 HTTP/1.1\" 200 14776 \"-\" \"Mozilla/5.0 (compatible; bingbot/2.0; +http://www.bing.com/bingbot.htm)\" \"-\"                                                                                                                                                                                                                                                                                                                                                               |\n",
            "|66.249.66.194 - - [22/Jan/2019:03:56:18 +0330] \"GET /filter/b41,b665,c150%7C%D8%A8%D8%AE%D8%A7%D8%B1%D9%BE%D8%B2,p56 HTTP/1.1\" 200 34277 \"-\" \"Mozilla/5.0 (compatible; Googlebot/2.1; +http://www.google.com/bot.html)\" \"-\"                                                                                                                                                                                                                                                                                                                        |\n",
            "|40.77.167.129 - - [22/Jan/2019:03:56:18 +0330] \"GET /image/57710/productModel/100x100 HTTP/1.1\" 200 1695 \"-\" \"Mozilla/5.0 (compatible; bingbot/2.0; +http://www.bing.com/bingbot.htm)\" \"-\"                                                                                                                                                                                                                                                                                                                                                         |\n",
            "|207.46.13.136 - - [22/Jan/2019:03:56:18 +0330] \"GET /product/10214 HTTP/1.1\" 200 39677 \"-\" \"Mozilla/5.0 (compatible; bingbot/2.0; +http://www.bing.com/bingbot.htm)\" \"-\"                                                                                                                                                                                                                                                                                                                                                                           |\n",
            "|40.77.167.129 - - [22/Jan/2019:03:56:19 +0330] \"GET /image/578/article/100x100 HTTP/1.1\" 200 9831 \"-\" \"Mozilla/5.0 (compatible; bingbot/2.0; +http://www.bing.com/bingbot.htm)\" \"-\"                                                                                                                                                                                                                                                                                                                                                                |\n",
            "|178.253.33.51 - - [22/Jan/2019:03:56:19 +0330] \"GET /m/product/32574/62991/%D9%85%D8%A7%D8%B4%DB%8C%D9%86-%D8%A7%D8%B5%D9%84%D8%A7%D8%AD-%D8%B5%D9%88%D8%B1%D8%AA-%D9%BE%D8%B1%D9%86%D8%B3%D9%84%DB%8C-%D9%85%D8%AF%D9%84-PR465AT HTTP/1.1\" 200 20406 \"https://www.zanbil.ir/m/filter/p5767%2Ct156?name=%D9%85%D8%A7%D8%B4%DB%8C%D9%86-%D8%A7%D8%B5%D9%84%D8%A7%D8%AD&productType=electric-shavers\" \"Mozilla/5.0 (Linux; Android 5.1; HTC Desire 728 dual sim) AppleWebKit/537.36 (KHTML, like Gecko) Chrome/71.0.3578.83 Mobile Safari/537.36\" \"-\"|\n",
            "|40.77.167.129 - - [22/Jan/2019:03:56:19 +0330] \"GET /image/6229/productModel/100x100 HTTP/1.1\" 200 1796 \"-\" \"Mozilla/5.0 (compatible; bingbot/2.0; +http://www.bing.com/bingbot.htm)\" \"-\"                                                                                                                                                                                                                                                                                                                                                          |\n",
            "|91.99.72.15 - - [22/Jan/2019:03:56:19 +0330] \"GET /product/10075/13903/%D9%85%D8%A7%DB%8C%DA%A9%D8%B1%D9%88%D9%81%D8%B1-%D8%B1%D9%88%D9%85%DB%8C%D8%B2%DB%8C-%D8%B3%D8%A7%D9%85%D8%B3%D9%88%D9%86%DA%AF-%D9%85%D8%AF%D9%84-CE288 HTTP/1.1\" 200 41725 \"-\" \"Mozilla/5.0 (X11; Linux x86_64) AppleWebKit/537.36 (KHTML, like Gecko) Chrome/53.0.2785.92 Safari/537.36\" \"-\"                                                                                                                                                                            |\n",
            "|40.77.167.129 - - [22/Jan/2019:03:56:19 +0330] \"GET /image/6229/productModel/150x150 HTTP/1.1\" 200 2739 \"-\" \"Mozilla/5.0 (compatible; bingbot/2.0; +http://www.bing.com/bingbot.htm)\" \"-\"                                                                                                                                                                                                                                                                                                                                                          |\n",
            "|207.46.13.136 - - [22/Jan/2019:03:56:19 +0330] \"GET /product/14926 HTTP/1.1\" 404 33617 \"-\" \"Mozilla/5.0 (compatible; bingbot/2.0; +http://www.bing.com/bingbot.htm)\" \"-\"                                                                                                                                                                                                                                                                                                                                                                           |\n",
            "|40.77.167.129 - - [22/Jan/2019:03:56:19 +0330] \"GET /image/6248/productModel/150x150 HTTP/1.1\" 200 2788 \"-\" \"Mozilla/5.0 (compatible; bingbot/2.0; +http://www.bing.com/bingbot.htm)\" \"-\"                                                                                                                                                                                                                                                                                                                                                          |\n",
            "|40.77.167.129 - - [22/Jan/2019:03:56:20 +0330] \"GET /image/64815/productModel/150x150 HTTP/1.1\" 200 3481 \"-\" \"Mozilla/5.0 (compatible; bingbot/2.0; +http://www.bing.com/bingbot.htm)\" \"-\"                                                                                                                                                                                                                                                                                                                                                         |\n",
            "|66.249.66.194 - - [22/Jan/2019:03:56:20 +0330] \"GET /m/filter/b2,p6 HTTP/1.1\" 200 19451 \"-\" \"Mozilla/5.0 (Linux; Android 6.0.1; Nexus 5X Build/MMB29P) AppleWebKit/537.36 (KHTML, like Gecko) Chrome/41.0.2272.96 Mobile Safari/537.36 (compatible; Googlebot/2.1; +http://www.google.com/bot.html)\" \"-\"                                                                                                                                                                                                                                           |\n",
            "+---------------------------------------------------------------------------------------------------------------------------------------------------------------------------------------------------------------------------------------------------------------------------------------------------------------------------------------------------------------------------------------------------------------------------------------------------------------------------------------------------------------------------------------------------+\n",
            "only showing top 20 rows\n",
            "\n"
          ]
        }
      ]
    },
    {
      "cell_type": "code",
      "source": [
        "column_names = df_log.columns\n",
        "print(column_names)"
      ],
      "metadata": {
        "colab": {
          "base_uri": "https://localhost:8080/"
        },
        "id": "Qg8dccv3Y3Xk",
        "outputId": "2c3bb63f-0913-433b-f099-8e08e930417e"
      },
      "execution_count": 6,
      "outputs": [
        {
          "output_type": "stream",
          "name": "stdout",
          "text": [
            "['value']\n"
          ]
        }
      ]
    },
    {
      "cell_type": "markdown",
      "source": [
        "Мы видим, что структурно log-файл представляет собой один столбец ('value') и множество строк. В каждой строке содержится информация о HTTP-запросе, включая IP-адрес, дату и время, URL, статус ответа и другие параметры.\n",
        "\n",
        "Для того, чтобы впоследствии объединить этот файл с содержимым csv-файла табличного типа, необходимо преобразовать и упорядочить данные."
      ],
      "metadata": {
        "id": "x5GMcb2jDuOI"
      }
    },
    {
      "cell_type": "code",
      "source": [
        "from pyspark.sql.functions import split, substring, count, sum, col, round"
      ],
      "metadata": {
        "id": "0jWS2IWuWYuA"
      },
      "execution_count": 7,
      "outputs": []
    },
    {
      "cell_type": "markdown",
      "source": [
        "Разделим значения строк на несколько столбцов:\n",
        "\n",
        "\"IP\" - столбец с IP-адресом;\n",
        "\n",
        "\"Timestamp\" - столбец с временной меткой запроса;\n",
        "\n",
        "\"Request\" - столбец с HTTP-запросом;\n",
        "\n",
        "\"Status\"- столбец с кодом состояния HTTP-ответа;\n",
        "\n",
        "\"Size\" - столбец с размером ответа;\n",
        "\n",
        "\"Referrer\" - столбец с источником перехода;\n",
        "\n",
        "\"User-Agent\" - столбец с информацией о браузере и операционной системе."
      ],
      "metadata": {
        "id": "S8kuYkoMEPUO"
      }
    },
    {
      "cell_type": "code",
      "source": [
        "df_log = df_log.withColumn(\"IP\", split(df_log[\"value\"], \" - - \\[\")[0])  # столбец с IP-адресом\n",
        "df_log = df_log.withColumn(\"Timestamp\", split(df_log[\"value\"], \"\\[\")[1].substr(1, 20))  # столбец с временной меткой запроса\n",
        "df_log = df_log.withColumn(\"Request\", split(df_log[\"value\"], \"\\\"\")[1])  # столбец с HTTP-запросом\n",
        "df_log = df_log.withColumn(\"Status\", split(split(df_log[\"value\"], \"\\\"\")[2], \" \")[1])  # столбец с кодом состояния HTTP-ответа\n",
        "df_log = df_log.withColumn(\"Size\", split(split(df_log[\"value\"], \"\\\"\")[2], \" \")[2])  # столбец с размером ответа\n",
        "df_log = df_log.withColumn(\"Referrer\", split(df_log[\"value\"], \"\\\"\")[5])  # столбец с источником перехода\n",
        "df_log = df_log.withColumn(\"User-Agent\", split(df_log[\"value\"], \"\\\"\")[7])  # столбец с информацией о браузере и операционной системе"
      ],
      "metadata": {
        "id": "54fwpuivWYwY"
      },
      "execution_count": 8,
      "outputs": []
    },
    {
      "cell_type": "code",
      "source": [
        "columns_to_select = [\"IP\", \"Timestamp\", \"Request\", \"Status\", \"Size\", \"Referrer\", \"User-Agent\"]\n",
        "df_log_new = df_log.select(columns_to_select)"
      ],
      "metadata": {
        "id": "tk0xgTFiaA-s"
      },
      "execution_count": 9,
      "outputs": []
    },
    {
      "cell_type": "code",
      "source": [
        "df_log_new.show(truncate=False)"
      ],
      "metadata": {
        "colab": {
          "base_uri": "https://localhost:8080/"
        },
        "id": "sYJdgZ8jaBKS",
        "outputId": "4eb3aff6-f3b9-4d17-f0f9-963fefaf2d97"
      },
      "execution_count": 10,
      "outputs": [
        {
          "output_type": "stream",
          "name": "stdout",
          "text": [
            "+-------------+--------------------+-------------------------------------------------------------------------------------------------------------------------------------------------------------------------------------------+------+-----+------------------------------------------------------------------------------------------------------------------------------------------------------------------------------------------------------+----------+\n",
            "|IP           |Timestamp           |Request                                                                                                                                                                                    |Status|Size |Referrer                                                                                                                                                                                              |User-Agent|\n",
            "+-------------+--------------------+-------------------------------------------------------------------------------------------------------------------------------------------------------------------------------------------+------+-----+------------------------------------------------------------------------------------------------------------------------------------------------------------------------------------------------------+----------+\n",
            "|54.36.149.41 |22/Jan/2019:03:56:14|GET /filter/27|13%20%D9%85%DA%AF%D8%A7%D9%BE%DB%8C%DA%A9%D8%B3%D9%84,27|%DA%A9%D9%85%D8%AA%D8%B1%20%D8%A7%D8%B2%205%20%D9%85%DA%AF%D8%A7%D9%BE%DB%8C%DA%A9%D8%B3%D9%84,p53 HTTP/1.1        |200   |30577|Mozilla/5.0 (compatible; AhrefsBot/6.1; +http://ahrefs.com/robot/)                                                                                                                                    |-         |\n",
            "|31.56.96.51  |22/Jan/2019:03:56:16|GET /image/60844/productModel/200x200 HTTP/1.1                                                                                                                                             |200   |5667 |Mozilla/5.0 (Linux; Android 6.0; ALE-L21 Build/HuaweiALE-L21) AppleWebKit/537.36 (KHTML, like Gecko) Chrome/66.0.3359.158 Mobile Safari/537.36                                                        |-         |\n",
            "|31.56.96.51  |22/Jan/2019:03:56:16|GET /image/61474/productModel/200x200 HTTP/1.1                                                                                                                                             |200   |5379 |Mozilla/5.0 (Linux; Android 6.0; ALE-L21 Build/HuaweiALE-L21) AppleWebKit/537.36 (KHTML, like Gecko) Chrome/66.0.3359.158 Mobile Safari/537.36                                                        |-         |\n",
            "|40.77.167.129|22/Jan/2019:03:56:17|GET /image/14925/productModel/100x100 HTTP/1.1                                                                                                                                             |200   |1696 |Mozilla/5.0 (compatible; bingbot/2.0; +http://www.bing.com/bingbot.htm)                                                                                                                               |-         |\n",
            "|91.99.72.15  |22/Jan/2019:03:56:17|GET /product/31893/62100/%D8%B3%D8%B4%D9%88%D8%A7%D8%B1-%D8%AE%D8%A7%D9%86%DA%AF%DB%8C-%D9%BE%D8%B1%D9%86%D8%B3%D9%84%DB%8C-%D9%85%D8%AF%D9%84-PR257AT HTTP/1.1                            |200   |41483|Mozilla/5.0 (Windows NT 6.2; Win64; x64; rv:16.0)Gecko/16.0 Firefox/16.0                                                                                                                              |-         |\n",
            "|40.77.167.129|22/Jan/2019:03:56:17|GET /image/23488/productModel/150x150 HTTP/1.1                                                                                                                                             |200   |2654 |Mozilla/5.0 (compatible; bingbot/2.0; +http://www.bing.com/bingbot.htm)                                                                                                                               |-         |\n",
            "|40.77.167.129|22/Jan/2019:03:56:18|GET /image/45437/productModel/150x150 HTTP/1.1                                                                                                                                             |200   |3688 |Mozilla/5.0 (compatible; bingbot/2.0; +http://www.bing.com/bingbot.htm)                                                                                                                               |-         |\n",
            "|40.77.167.129|22/Jan/2019:03:56:18|GET /image/576/article/100x100 HTTP/1.1                                                                                                                                                    |200   |14776|Mozilla/5.0 (compatible; bingbot/2.0; +http://www.bing.com/bingbot.htm)                                                                                                                               |-         |\n",
            "|66.249.66.194|22/Jan/2019:03:56:18|GET /filter/b41,b665,c150%7C%D8%A8%D8%AE%D8%A7%D8%B1%D9%BE%D8%B2,p56 HTTP/1.1                                                                                                              |200   |34277|Mozilla/5.0 (compatible; Googlebot/2.1; +http://www.google.com/bot.html)                                                                                                                              |-         |\n",
            "|40.77.167.129|22/Jan/2019:03:56:18|GET /image/57710/productModel/100x100 HTTP/1.1                                                                                                                                             |200   |1695 |Mozilla/5.0 (compatible; bingbot/2.0; +http://www.bing.com/bingbot.htm)                                                                                                                               |-         |\n",
            "|207.46.13.136|22/Jan/2019:03:56:18|GET /product/10214 HTTP/1.1                                                                                                                                                                |200   |39677|Mozilla/5.0 (compatible; bingbot/2.0; +http://www.bing.com/bingbot.htm)                                                                                                                               |-         |\n",
            "|40.77.167.129|22/Jan/2019:03:56:19|GET /image/578/article/100x100 HTTP/1.1                                                                                                                                                    |200   |9831 |Mozilla/5.0 (compatible; bingbot/2.0; +http://www.bing.com/bingbot.htm)                                                                                                                               |-         |\n",
            "|178.253.33.51|22/Jan/2019:03:56:19|GET /m/product/32574/62991/%D9%85%D8%A7%D8%B4%DB%8C%D9%86-%D8%A7%D8%B5%D9%84%D8%A7%D8%AD-%D8%B5%D9%88%D8%B1%D8%AA-%D9%BE%D8%B1%D9%86%D8%B3%D9%84%DB%8C-%D9%85%D8%AF%D9%84-PR465AT HTTP/1.1 |200   |20406|Mozilla/5.0 (Linux; Android 5.1; HTC Desire 728 dual sim) AppleWebKit/537.36 (KHTML, like Gecko) Chrome/71.0.3578.83 Mobile Safari/537.36                                                             |-         |\n",
            "|40.77.167.129|22/Jan/2019:03:56:19|GET /image/6229/productModel/100x100 HTTP/1.1                                                                                                                                              |200   |1796 |Mozilla/5.0 (compatible; bingbot/2.0; +http://www.bing.com/bingbot.htm)                                                                                                                               |-         |\n",
            "|91.99.72.15  |22/Jan/2019:03:56:19|GET /product/10075/13903/%D9%85%D8%A7%DB%8C%DA%A9%D8%B1%D9%88%D9%81%D8%B1-%D8%B1%D9%88%D9%85%DB%8C%D8%B2%DB%8C-%D8%B3%D8%A7%D9%85%D8%B3%D9%88%D9%86%DA%AF-%D9%85%D8%AF%D9%84-CE288 HTTP/1.1|200   |41725|Mozilla/5.0 (X11; Linux x86_64) AppleWebKit/537.36 (KHTML, like Gecko) Chrome/53.0.2785.92 Safari/537.36                                                                                              |-         |\n",
            "|40.77.167.129|22/Jan/2019:03:56:19|GET /image/6229/productModel/150x150 HTTP/1.1                                                                                                                                              |200   |2739 |Mozilla/5.0 (compatible; bingbot/2.0; +http://www.bing.com/bingbot.htm)                                                                                                                               |-         |\n",
            "|207.46.13.136|22/Jan/2019:03:56:19|GET /product/14926 HTTP/1.1                                                                                                                                                                |404   |33617|Mozilla/5.0 (compatible; bingbot/2.0; +http://www.bing.com/bingbot.htm)                                                                                                                               |-         |\n",
            "|40.77.167.129|22/Jan/2019:03:56:19|GET /image/6248/productModel/150x150 HTTP/1.1                                                                                                                                              |200   |2788 |Mozilla/5.0 (compatible; bingbot/2.0; +http://www.bing.com/bingbot.htm)                                                                                                                               |-         |\n",
            "|40.77.167.129|22/Jan/2019:03:56:20|GET /image/64815/productModel/150x150 HTTP/1.1                                                                                                                                             |200   |3481 |Mozilla/5.0 (compatible; bingbot/2.0; +http://www.bing.com/bingbot.htm)                                                                                                                               |-         |\n",
            "|66.249.66.194|22/Jan/2019:03:56:20|GET /m/filter/b2,p6 HTTP/1.1                                                                                                                                                               |200   |19451|Mozilla/5.0 (Linux; Android 6.0.1; Nexus 5X Build/MMB29P) AppleWebKit/537.36 (KHTML, like Gecko) Chrome/41.0.2272.96 Mobile Safari/537.36 (compatible; Googlebot/2.1; +http://www.google.com/bot.html)|-         |\n",
            "+-------------+--------------------+-------------------------------------------------------------------------------------------------------------------------------------------------------------------------------------------+------+-----+------------------------------------------------------------------------------------------------------------------------------------------------------------------------------------------------------+----------+\n",
            "only showing top 20 rows\n",
            "\n"
          ]
        }
      ]
    },
    {
      "cell_type": "markdown",
      "source": [
        "Структура файла значительно улучшилась, но мы видим, что значения устройства попадает в столбец \"Referrer\", хотелось бы, чтобы эти значения состояли в отдельном столбце"
      ],
      "metadata": {
        "id": "QdFoKGnMFBBT"
      }
    },
    {
      "cell_type": "code",
      "source": [
        "unique_user_agents = df_log_new.select(\"User-Agent\").distinct()\n",
        "count_unique_user_agents = unique_user_agents.count()\n",
        "print(count_unique_user_agents)"
      ],
      "metadata": {
        "colab": {
          "base_uri": "https://localhost:8080/"
        },
        "id": "DVqaJZkdaBMs",
        "outputId": "4611de07-64b6-4802-9b98-bb7011ac669d"
      },
      "execution_count": 11,
      "outputs": [
        {
          "output_type": "stream",
          "name": "stdout",
          "text": [
            "1558\n"
          ]
        }
      ]
    },
    {
      "cell_type": "code",
      "source": [
        "from pyspark.sql.functions import regexp_extract, regexp_replace"
      ],
      "metadata": {
        "id": "CL11u9wx3agj"
      },
      "execution_count": 12,
      "outputs": []
    },
    {
      "cell_type": "markdown",
      "source": [
        "Извлечем значения в скобках в отдельный столбец"
      ],
      "metadata": {
        "id": "14JuXtfJFc5k"
      }
    },
    {
      "cell_type": "code",
      "source": [
        "df_log_new = df_log_new.withColumn(\"Device\", regexp_extract(df_log_new.Referrer, r\"\\((.*?)\\)\", 1))"
      ],
      "metadata": {
        "id": "IiLUmAxJ3mPQ"
      },
      "execution_count": 13,
      "outputs": []
    },
    {
      "cell_type": "code",
      "source": [
        "# Удаление данных из столбца Referrer, которые содержатся в столбце Device\n",
        "df_log_new = df_log_new.withColumn(\"Referrer\", regexp_replace(df_log_new.Referrer, r\"\\(.*?\\)\", \"\"))"
      ],
      "metadata": {
        "id": "VGs1ICEg4Xd7"
      },
      "execution_count": 14,
      "outputs": []
    },
    {
      "cell_type": "code",
      "source": [
        "df_log_new.show(truncate=False)"
      ],
      "metadata": {
        "colab": {
          "base_uri": "https://localhost:8080/"
        },
        "id": "tH3wIDo53yxO",
        "outputId": "93a49101-f329-47b2-d013-13f9c5d37275"
      },
      "execution_count": 15,
      "outputs": [
        {
          "output_type": "stream",
          "name": "stdout",
          "text": [
            "+-------------+--------------------+-------------------------------------------------------------------------------------------------------------------------------------------------------------------------------------------+------+-----+--------------------------------------------------------------------------+----------+----------------------------------------------------------+\n",
            "|IP           |Timestamp           |Request                                                                                                                                                                                    |Status|Size |Referrer                                                                  |User-Agent|Device                                                    |\n",
            "+-------------+--------------------+-------------------------------------------------------------------------------------------------------------------------------------------------------------------------------------------+------+-----+--------------------------------------------------------------------------+----------+----------------------------------------------------------+\n",
            "|54.36.149.41 |22/Jan/2019:03:56:14|GET /filter/27|13%20%D9%85%DA%AF%D8%A7%D9%BE%DB%8C%DA%A9%D8%B3%D9%84,27|%DA%A9%D9%85%D8%AA%D8%B1%20%D8%A7%D8%B2%205%20%D9%85%DA%AF%D8%A7%D9%BE%DB%8C%DA%A9%D8%B3%D9%84,p53 HTTP/1.1        |200   |30577|Mozilla/5.0                                                               |-         |compatible; AhrefsBot/6.1; +http://ahrefs.com/robot/      |\n",
            "|31.56.96.51  |22/Jan/2019:03:56:16|GET /image/60844/productModel/200x200 HTTP/1.1                                                                                                                                             |200   |5667 |Mozilla/5.0  AppleWebKit/537.36  Chrome/66.0.3359.158 Mobile Safari/537.36|-         |Linux; Android 6.0; ALE-L21 Build/HuaweiALE-L21           |\n",
            "|31.56.96.51  |22/Jan/2019:03:56:16|GET /image/61474/productModel/200x200 HTTP/1.1                                                                                                                                             |200   |5379 |Mozilla/5.0  AppleWebKit/537.36  Chrome/66.0.3359.158 Mobile Safari/537.36|-         |Linux; Android 6.0; ALE-L21 Build/HuaweiALE-L21           |\n",
            "|40.77.167.129|22/Jan/2019:03:56:17|GET /image/14925/productModel/100x100 HTTP/1.1                                                                                                                                             |200   |1696 |Mozilla/5.0                                                               |-         |compatible; bingbot/2.0; +http://www.bing.com/bingbot.htm |\n",
            "|91.99.72.15  |22/Jan/2019:03:56:17|GET /product/31893/62100/%D8%B3%D8%B4%D9%88%D8%A7%D8%B1-%D8%AE%D8%A7%D9%86%DA%AF%DB%8C-%D9%BE%D8%B1%D9%86%D8%B3%D9%84%DB%8C-%D9%85%D8%AF%D9%84-PR257AT HTTP/1.1                            |200   |41483|Mozilla/5.0 Gecko/16.0 Firefox/16.0                                       |-         |Windows NT 6.2; Win64; x64; rv:16.0                       |\n",
            "|40.77.167.129|22/Jan/2019:03:56:17|GET /image/23488/productModel/150x150 HTTP/1.1                                                                                                                                             |200   |2654 |Mozilla/5.0                                                               |-         |compatible; bingbot/2.0; +http://www.bing.com/bingbot.htm |\n",
            "|40.77.167.129|22/Jan/2019:03:56:18|GET /image/45437/productModel/150x150 HTTP/1.1                                                                                                                                             |200   |3688 |Mozilla/5.0                                                               |-         |compatible; bingbot/2.0; +http://www.bing.com/bingbot.htm |\n",
            "|40.77.167.129|22/Jan/2019:03:56:18|GET /image/576/article/100x100 HTTP/1.1                                                                                                                                                    |200   |14776|Mozilla/5.0                                                               |-         |compatible; bingbot/2.0; +http://www.bing.com/bingbot.htm |\n",
            "|66.249.66.194|22/Jan/2019:03:56:18|GET /filter/b41,b665,c150%7C%D8%A8%D8%AE%D8%A7%D8%B1%D9%BE%D8%B2,p56 HTTP/1.1                                                                                                              |200   |34277|Mozilla/5.0                                                               |-         |compatible; Googlebot/2.1; +http://www.google.com/bot.html|\n",
            "|40.77.167.129|22/Jan/2019:03:56:18|GET /image/57710/productModel/100x100 HTTP/1.1                                                                                                                                             |200   |1695 |Mozilla/5.0                                                               |-         |compatible; bingbot/2.0; +http://www.bing.com/bingbot.htm |\n",
            "|207.46.13.136|22/Jan/2019:03:56:18|GET /product/10214 HTTP/1.1                                                                                                                                                                |200   |39677|Mozilla/5.0                                                               |-         |compatible; bingbot/2.0; +http://www.bing.com/bingbot.htm |\n",
            "|40.77.167.129|22/Jan/2019:03:56:19|GET /image/578/article/100x100 HTTP/1.1                                                                                                                                                    |200   |9831 |Mozilla/5.0                                                               |-         |compatible; bingbot/2.0; +http://www.bing.com/bingbot.htm |\n",
            "|178.253.33.51|22/Jan/2019:03:56:19|GET /m/product/32574/62991/%D9%85%D8%A7%D8%B4%DB%8C%D9%86-%D8%A7%D8%B5%D9%84%D8%A7%D8%AD-%D8%B5%D9%88%D8%B1%D8%AA-%D9%BE%D8%B1%D9%86%D8%B3%D9%84%DB%8C-%D9%85%D8%AF%D9%84-PR465AT HTTP/1.1 |200   |20406|Mozilla/5.0  AppleWebKit/537.36  Chrome/71.0.3578.83 Mobile Safari/537.36 |-         |Linux; Android 5.1; HTC Desire 728 dual sim               |\n",
            "|40.77.167.129|22/Jan/2019:03:56:19|GET /image/6229/productModel/100x100 HTTP/1.1                                                                                                                                              |200   |1796 |Mozilla/5.0                                                               |-         |compatible; bingbot/2.0; +http://www.bing.com/bingbot.htm |\n",
            "|91.99.72.15  |22/Jan/2019:03:56:19|GET /product/10075/13903/%D9%85%D8%A7%DB%8C%DA%A9%D8%B1%D9%88%D9%81%D8%B1-%D8%B1%D9%88%D9%85%DB%8C%D8%B2%DB%8C-%D8%B3%D8%A7%D9%85%D8%B3%D9%88%D9%86%DA%AF-%D9%85%D8%AF%D9%84-CE288 HTTP/1.1|200   |41725|Mozilla/5.0  AppleWebKit/537.36  Chrome/53.0.2785.92 Safari/537.36        |-         |X11; Linux x86_64                                         |\n",
            "|40.77.167.129|22/Jan/2019:03:56:19|GET /image/6229/productModel/150x150 HTTP/1.1                                                                                                                                              |200   |2739 |Mozilla/5.0                                                               |-         |compatible; bingbot/2.0; +http://www.bing.com/bingbot.htm |\n",
            "|207.46.13.136|22/Jan/2019:03:56:19|GET /product/14926 HTTP/1.1                                                                                                                                                                |404   |33617|Mozilla/5.0                                                               |-         |compatible; bingbot/2.0; +http://www.bing.com/bingbot.htm |\n",
            "|40.77.167.129|22/Jan/2019:03:56:19|GET /image/6248/productModel/150x150 HTTP/1.1                                                                                                                                              |200   |2788 |Mozilla/5.0                                                               |-         |compatible; bingbot/2.0; +http://www.bing.com/bingbot.htm |\n",
            "|40.77.167.129|22/Jan/2019:03:56:20|GET /image/64815/productModel/150x150 HTTP/1.1                                                                                                                                             |200   |3481 |Mozilla/5.0                                                               |-         |compatible; bingbot/2.0; +http://www.bing.com/bingbot.htm |\n",
            "|66.249.66.194|22/Jan/2019:03:56:20|GET /m/filter/b2,p6 HTTP/1.1                                                                                                                                                               |200   |19451|Mozilla/5.0  AppleWebKit/537.36  Chrome/41.0.2272.96 Mobile Safari/537.36 |-         |Linux; Android 6.0.1; Nexus 5X Build/MMB29P               |\n",
            "+-------------+--------------------+-------------------------------------------------------------------------------------------------------------------------------------------------------------------------------------------+------+-----+--------------------------------------------------------------------------+----------+----------------------------------------------------------+\n",
            "only showing top 20 rows\n",
            "\n"
          ]
        }
      ]
    },
    {
      "cell_type": "code",
      "source": [
        "import pyspark.sql.functions as F"
      ],
      "metadata": {
        "id": "Os9xAtlMQJto"
      },
      "execution_count": 16,
      "outputs": []
    },
    {
      "cell_type": "code",
      "source": [
        "# Проверка на наличие пропущенных значений\n",
        "df_log_new.select([F.count(F.when(F.col(c).isNull(), c)).alias(c) for c in df_log_new.columns]).show()"
      ],
      "metadata": {
        "colab": {
          "base_uri": "https://localhost:8080/"
        },
        "id": "K7B4TMJvQLIK",
        "outputId": "b3fdf267-bac1-488d-d4a4-8ae8d7d53ed8"
      },
      "execution_count": 17,
      "outputs": [
        {
          "output_type": "stream",
          "name": "stdout",
          "text": [
            "+---+---------+-------+------+----+--------+----------+------+\n",
            "| IP|Timestamp|Request|Status|Size|Referrer|User-Agent|Device|\n",
            "+---+---------+-------+------+----+--------+----------+------+\n",
            "|  0|        0|      0|     0|   0|       0|         0|     0|\n",
            "+---+---------+-------+------+----+--------+----------+------+\n",
            "\n"
          ]
        }
      ]
    },
    {
      "cell_type": "code",
      "source": [
        "unique_user_agents = df_log_new.groupBy(\"User-Agent\").count()\n",
        "unique_user_agents.show(20, truncate=False)"
      ],
      "metadata": {
        "colab": {
          "base_uri": "https://localhost:8080/"
        },
        "id": "COC4zoQCTNtF",
        "outputId": "1db3e23c-0d96-432a-d2a0-31d7eb73a887"
      },
      "execution_count": 18,
      "outputs": [
        {
          "output_type": "stream",
          "name": "stdout",
          "text": [
            "+---------------+-----+\n",
            "|User-Agent     |count|\n",
            "+---------------+-----+\n",
            "|5.160.222.39   |7    |\n",
            "|10.16.209.128  |1    |\n",
            "|5.120.126.172  |9    |\n",
            "|5.125.28.183   |14   |\n",
            "|79.127.0.178   |4    |\n",
            "|37.129.253.117 |16   |\n",
            "|5.112.157.124  |2    |\n",
            "|78.38.193.27   |3    |\n",
            "|5.235.199.183  |65   |\n",
            "|83.123.163.193 |18   |\n",
            "|5.236.217.44   |18   |\n",
            "|216.52.207.114 |68   |\n",
            "|5.120.251.244  |1    |\n",
            "|5.116.116.63   |56   |\n",
            "|5.122.249.42   |1    |\n",
            "|5.115.154.42   |6    |\n",
            "|5.233.212.248  |2    |\n",
            "|5.116.149.132  |1    |\n",
            "|151.233.253.107|10   |\n",
            "|94.23.238.218  |1    |\n",
            "+---------------+-----+\n",
            "only showing top 20 rows\n",
            "\n"
          ]
        }
      ]
    },
    {
      "cell_type": "code",
      "source": [
        "df_log_new.printSchema()"
      ],
      "metadata": {
        "colab": {
          "base_uri": "https://localhost:8080/"
        },
        "id": "HC24FqJwTkPl",
        "outputId": "0fd57013-9553-4e38-990d-398016e4e9be"
      },
      "execution_count": 19,
      "outputs": [
        {
          "output_type": "stream",
          "name": "stdout",
          "text": [
            "root\n",
            " |-- IP: string (nullable = true)\n",
            " |-- Timestamp: string (nullable = true)\n",
            " |-- Request: string (nullable = true)\n",
            " |-- Status: string (nullable = true)\n",
            " |-- Size: string (nullable = true)\n",
            " |-- Referrer: string (nullable = true)\n",
            " |-- User-Agent: string (nullable = true)\n",
            " |-- Device: string (nullable = true)\n",
            "\n"
          ]
        }
      ]
    },
    {
      "cell_type": "code",
      "source": [
        "# Подсчет общего количества строк в DataFrame\n",
        "total_rows = df_log_new.count()"
      ],
      "metadata": {
        "id": "buwGqrfbT7z1"
      },
      "execution_count": 20,
      "outputs": []
    },
    {
      "cell_type": "code",
      "source": [
        "# Подсчет количества уникальных строк в DataFrame\n",
        "unique_rows = df_log_new.distinct().count()"
      ],
      "metadata": {
        "id": "oX4APn83T-f4"
      },
      "execution_count": 21,
      "outputs": []
    },
    {
      "cell_type": "code",
      "source": [
        "# Вычисление количества дубликатов\n",
        "duplicate_rows = total_rows - unique_rows"
      ],
      "metadata": {
        "id": "GeLTOJQ-UB7J"
      },
      "execution_count": 22,
      "outputs": []
    },
    {
      "cell_type": "code",
      "source": [
        "print(f\"Количество дубликатов: {duplicate_rows}\")"
      ],
      "metadata": {
        "colab": {
          "base_uri": "https://localhost:8080/"
        },
        "id": "Kw9DNPz_UFHN",
        "outputId": "d18f2d7c-2070-459a-ee38-6000536ec630"
      },
      "execution_count": 23,
      "outputs": [
        {
          "output_type": "stream",
          "name": "stdout",
          "text": [
            "Количество дубликатов: 110791\n"
          ]
        }
      ]
    },
    {
      "cell_type": "code",
      "source": [
        "print(f\"Количество уникальных значений: {unique_rows}\")"
      ],
      "metadata": {
        "colab": {
          "base_uri": "https://localhost:8080/"
        },
        "id": "xhLD1RL1VBVd",
        "outputId": "2b579997-2d75-4771-834b-05e2c4d53090"
      },
      "execution_count": 24,
      "outputs": [
        {
          "output_type": "stream",
          "name": "stdout",
          "text": [
            "Количество уникальных значений: 10254361\n"
          ]
        }
      ]
    },
    {
      "cell_type": "code",
      "source": [
        "# Группировка данных по уникальным паттернам и подсчет количества вхождений\n",
        "pattern_counts = df_log_new.groupBy(\"IP\", \"Timestamp\", \"Request\", \"Status\", \"Size\", \"Referrer\", \"User-Agent\", \"Device\").count()\n"
      ],
      "metadata": {
        "id": "B1tnLhLeXMoL"
      },
      "execution_count": 25,
      "outputs": []
    },
    {
      "cell_type": "code",
      "source": [
        "# Сортировка по количеству вхождений в убывающем порядке\n",
        "sorted_patterns = pattern_counts.orderBy(col(\"count\").desc())"
      ],
      "metadata": {
        "id": "s48K1CgjXcHN"
      },
      "execution_count": 26,
      "outputs": []
    },
    {
      "cell_type": "code",
      "source": [
        "# Вывод отсортированного списка повторяющихся паттернов\n",
        "sorted_patterns.show(truncate=False)"
      ],
      "metadata": {
        "colab": {
          "base_uri": "https://localhost:8080/"
        },
        "id": "MJzbASwoXflf",
        "outputId": "3e6b22c5-3e72-43c3-b082-22b37f4c6647"
      },
      "execution_count": 27,
      "outputs": [
        {
          "output_type": "stream",
          "name": "stdout",
          "text": [
            "+---------------+--------------------+---------------------------------------------------------------------------------------------------------------------------+------+----+-------------------------------------------------------------------------+----------+------------------------------------+-----+\n",
            "|IP             |Timestamp           |Request                                                                                                                    |Status|Size|Referrer                                                                 |User-Agent|Device                              |count|\n",
            "+---------------+--------------------+---------------------------------------------------------------------------------------------------------------------------+------+----+-------------------------------------------------------------------------+----------+------------------------------------+-----+\n",
            "|5.219.193.129  |25/Jan/2019:00:12:34|GET /static/images/exists.png HTTP/1.1                                                                                     |200   |2212|Mozilla/5.0  AppleWebKit/537.36  Chrome/49.0.2623.112 Safari/537.36      |-         |Windows NT 5.1                      |25   |\n",
            "|213.217.43.17  |26/Jan/2019:12:22:04|GET /order/create?price=270000&deliverySourceStation=20 HTTP/1.1                                                           |302   |0   |Mozilla/5.0  AppleWebKit/537.36  Chrome/71.0.3578.98 Safari/537.36       |-         |Windows NT 6.1                      |16   |\n",
            "|46.209.238.195 |24/Jan/2019:10:35:04|GET /order/create?price=470000&deliverySourceStation=6 HTTP/1.1                                                            |302   |0   |Mozilla/5.0  AppleWebKit/537.36  Chrome/65.0.3325.181 Safari/537.36      |-         |Windows NT 6.1; Win64; x64          |16   |\n",
            "|213.217.43.17  |26/Jan/2019:12:21:58|GET /order/create?price=270000&deliverySourceStation=20 HTTP/1.1                                                           |302   |0   |Mozilla/5.0  AppleWebKit/537.36  Chrome/71.0.3578.98 Safari/537.36       |-         |Windows NT 6.1                      |16   |\n",
            "|213.217.43.17  |26/Jan/2019:12:19:39|GET /order/create?price=270000&deliverySourceStation=20 HTTP/1.1                                                           |302   |0   |Mozilla/5.0  AppleWebKit/537.36  Chrome/71.0.3578.98 Safari/537.36       |-         |Windows NT 6.1                      |15   |\n",
            "|213.217.43.17  |26/Jan/2019:12:20:52|GET /order/create?price=270000&deliverySourceStation=20 HTTP/1.1                                                           |302   |0   |Mozilla/5.0  AppleWebKit/537.36  Chrome/71.0.3578.98 Safari/537.36       |-         |Windows NT 6.1                      |15   |\n",
            "|89.221.90.155  |23/Jan/2019:13:35:14|GET /order/create?price=89000&deliverySourceStation=6 HTTP/1.1                                                             |302   |0   |Mozilla/5.0  Gecko/20100101 Firefox/64.0                                 |-         |Windows NT 6.3; Win64; x64; rv:64.0 |15   |\n",
            "|213.217.43.17  |26/Jan/2019:12:22:22|GET /order/create?price=270000&deliverySourceStation=20 HTTP/1.1                                                           |302   |0   |Mozilla/5.0  AppleWebKit/537.36  Chrome/71.0.3578.98 Safari/537.36       |-         |Windows NT 6.1                      |15   |\n",
            "|2.185.150.95   |22/Jan/2019:12:03:24|GET /order/create?price=260000&deliverySourceStation=15 HTTP/1.1                                                           |302   |0   |Mozilla/5.0  AppleWebKit/537.36  Chrome/71.0.3578.98 Safari/537.36       |-         |Windows NT 10.0; WOW64              |15   |\n",
            "|5.219.193.129  |25/Jan/2019:00:12:33|GET /static/images/exists.png HTTP/1.1                                                                                     |200   |2212|Mozilla/5.0  AppleWebKit/537.36  Chrome/49.0.2623.112 Safari/537.36      |-         |Windows NT 5.1                      |15   |\n",
            "|213.217.43.17  |26/Jan/2019:12:19:57|GET /order/create?price=270000&deliverySourceStation=20 HTTP/1.1                                                           |302   |0   |Mozilla/5.0  AppleWebKit/537.36  Chrome/71.0.3578.98 Safari/537.36       |-         |Windows NT 6.1                      |14   |\n",
            "|46.209.238.195 |24/Jan/2019:10:34:59|GET /order/create?price=470000&deliverySourceStation=6 HTTP/1.1                                                            |302   |0   |Mozilla/5.0  AppleWebKit/537.36  Chrome/65.0.3325.181 Safari/537.36      |-         |Windows NT 6.1; Win64; x64          |14   |\n",
            "|213.217.43.17  |26/Jan/2019:12:20:30|GET /order/create?price=270000&deliverySourceStation=20 HTTP/1.1                                                           |302   |0   |Mozilla/5.0  AppleWebKit/537.36  Chrome/71.0.3578.98 Safari/537.36       |-         |Windows NT 6.1                      |14   |\n",
            "|46.209.238.195 |24/Jan/2019:10:35:05|GET /order/create?price=470000&deliverySourceStation=6 HTTP/1.1                                                            |302   |0   |Mozilla/5.0  AppleWebKit/537.36  Chrome/65.0.3325.181 Safari/537.36      |-         |Windows NT 6.1; Win64; x64          |14   |\n",
            "|46.209.238.195 |24/Jan/2019:10:35:12|GET /order/create?price=470000&deliverySourceStation=6 HTTP/1.1                                                            |302   |0   |Mozilla/5.0  AppleWebKit/537.36  Chrome/65.0.3325.181 Safari/537.36      |-         |Windows NT 6.1; Win64; x64          |14   |\n",
            "|2.176.64.99    |26/Jan/2019:13:43:02|GET /order/create?price=470000&deliverySourceStation=6 HTTP/1.1                                                            |302   |0   |Mozilla/5.0  Gecko/20100101 Firefox/64.0                                 |-         |Windows NT 10.0; Win64; x64; rv:64.0|13   |\n",
            "|151.239.120.156|23/Jan/2019:04:01:31|GET /order/create/deliveryMethodForm?chkConfirmLawsSite=on&price20=270000.0&deliverySourceStation=6&price6=69000.0 HTTP/1.1|302   |0   |Mozilla/5.0  AppleWebKit/537.36  Chrome/71.0.3578.99 Mobile Safari/537.36|-         |Linux; Android 7.0; LG-H860         |13   |\n",
            "|46.209.238.195 |24/Jan/2019:10:35:27|GET /order/create?price=470000&deliverySourceStation=6 HTTP/1.1                                                            |302   |0   |Mozilla/5.0  AppleWebKit/537.36  Chrome/65.0.3325.181 Safari/537.36      |-         |Windows NT 6.1; Win64; x64          |13   |\n",
            "|2.177.11.212   |22/Jan/2019:16:06:56|GET /order/create?price=199000&deliverySourceStation=6 HTTP/1.1                                                            |302   |0   |Mozilla/5.0  AppleWebKit/537.36  Chrome/70.0.3538.102 Safari/537.36      |-         |Windows NT 10.0; Win64; x64         |13   |\n",
            "|213.217.43.17  |26/Jan/2019:12:20:26|GET /order/create?price=270000&deliverySourceStation=20 HTTP/1.1                                                           |302   |0   |Mozilla/5.0  AppleWebKit/537.36  Chrome/71.0.3578.98 Safari/537.36       |-         |Windows NT 6.1                      |13   |\n",
            "+---------------+--------------------+---------------------------------------------------------------------------------------------------------------------------+------+----+-------------------------------------------------------------------------+----------+------------------------------------+-----+\n",
            "only showing top 20 rows\n",
            "\n"
          ]
        }
      ]
    },
    {
      "cell_type": "markdown",
      "source": [
        "# Импорт csv-файла и его анализ"
      ],
      "metadata": {
        "id": "_M19KegbM624"
      }
    },
    {
      "cell_type": "code",
      "source": [
        "df_csv = spark.read.csv(\"/content/drive/MyDrive/Проект 3.csv\", header=True)"
      ],
      "metadata": {
        "id": "mM_4EOEGdPIE"
      },
      "execution_count": 28,
      "outputs": []
    },
    {
      "cell_type": "code",
      "source": [
        "df_csv.printSchema()"
      ],
      "metadata": {
        "colab": {
          "base_uri": "https://localhost:8080/"
        },
        "id": "bNKQDNsVdgc2",
        "outputId": "c3c4d846-b745-4f87-b659-d172a4d5259b"
      },
      "execution_count": 29,
      "outputs": [
        {
          "output_type": "stream",
          "name": "stdout",
          "text": [
            "root\n",
            " |-- client: string (nullable = true)\n",
            " |-- hostname: string (nullable = true)\n",
            " |-- alias_list: string (nullable = true)\n",
            " |-- address_list: string (nullable = true)\n",
            "\n"
          ]
        }
      ]
    },
    {
      "cell_type": "code",
      "source": [
        "df_csv.show(truncate=False)"
      ],
      "metadata": {
        "colab": {
          "base_uri": "https://localhost:8080/"
        },
        "id": "ydsvmR2ldySN",
        "outputId": "5bfda3e7-808b-47f0-808b-1ec819ce4df7"
      },
      "execution_count": 30,
      "outputs": [
        {
          "output_type": "stream",
          "name": "stdout",
          "text": [
            "+---------------+-------------------------------+--------------------------------+-------------------+\n",
            "|client         |hostname                       |alias_list                      |address_list       |\n",
            "+---------------+-------------------------------+--------------------------------+-------------------+\n",
            "|5.123.144.95   |5.123.144.95                   |[Errno 1] Unknown host          |NULL               |\n",
            "|5.122.76.187   |5.122.76.187                   |[Errno 1] Unknown host          |NULL               |\n",
            "|5.215.249.99   |5.215.249.99                   |[Errno 1] Unknown host          |NULL               |\n",
            "|31.56.102.211  |31-56-102-211.shatel.ir        |['211.102.56.31.in-addr.arpa']  |['31.56.102.211']  |\n",
            "|5.123.166.223  |5.123.166.223                  |[Errno 1] Unknown host          |NULL               |\n",
            "|5.160.26.98    |5.160.26.98                    |[Errno 1] Unknown host          |NULL               |\n",
            "|5.127.147.132  |5.127.147.132                  |[Errno 1] Unknown host          |NULL               |\n",
            "|158.58.30.218  |158.58.30.218                  |[Errno 1] Unknown host          |NULL               |\n",
            "|86.55.230.86   |86.55.230.86                   |[Errno 1] Unknown host          |NULL               |\n",
            "|89.35.65.186   |89.35.65.186                   |[Errno 1] Unknown host          |NULL               |\n",
            "|5.120.208.157  |5.120.208.157                  |[Errno 1] Unknown host          |NULL               |\n",
            "|192.15.193.5   |192.15.193.5                   |[Errno 1] Unknown host          |NULL               |\n",
            "|46.41.210.95   |46.41.210.95                   |[Errno 1] Unknown host          |NULL               |\n",
            "|188.158.178.115|adsl-188-158-178-115.sabanet.ir|['115.178.158.188.in-addr.arpa']|['188.158.178.115']|\n",
            "|5.211.205.186  |5.211.205.186                  |[Errno 1] Unknown host          |NULL               |\n",
            "|5.122.221.229  |5.122.221.229                  |[Errno 1] Unknown host          |NULL               |\n",
            "|5.112.87.152   |5.112.87.152                   |[Errno 1] Unknown host          |NULL               |\n",
            "|5.214.59.242   |5.214.59.242                   |[Errno 1] Unknown host          |NULL               |\n",
            "|5.121.39.243   |5.121.39.243                   |[Errno 1] Unknown host          |NULL               |\n",
            "|5.124.223.22   |5.124.223.22                   |[Errno 1] Unknown host          |NULL               |\n",
            "+---------------+-------------------------------+--------------------------------+-------------------+\n",
            "only showing top 20 rows\n",
            "\n"
          ]
        }
      ]
    },
    {
      "cell_type": "markdown",
      "source": [
        "# Объединение двух потоков данных"
      ],
      "metadata": {
        "id": "wLGUNlBnUBT9"
      }
    },
    {
      "cell_type": "markdown",
      "source": [
        "Объединим два датафрейма по типу \"inner\""
      ],
      "metadata": {
        "id": "-ISptFKrOGcX"
      }
    },
    {
      "cell_type": "code",
      "source": [
        "joined_df = df_csv.join(df_log_new, df_csv[\"client\"] == df_log_new[\"IP\"], \"inner\")"
      ],
      "metadata": {
        "id": "1JLRUEwafYf3"
      },
      "execution_count": 31,
      "outputs": []
    },
    {
      "cell_type": "code",
      "source": [
        "joined_df.printSchema()"
      ],
      "metadata": {
        "colab": {
          "base_uri": "https://localhost:8080/"
        },
        "id": "ywTQ1iOXqv7Q",
        "outputId": "9d9b3be8-b35c-4c41-92bb-59edc19e2f2b"
      },
      "execution_count": 32,
      "outputs": [
        {
          "output_type": "stream",
          "name": "stdout",
          "text": [
            "root\n",
            " |-- client: string (nullable = true)\n",
            " |-- hostname: string (nullable = true)\n",
            " |-- alias_list: string (nullable = true)\n",
            " |-- address_list: string (nullable = true)\n",
            " |-- IP: string (nullable = true)\n",
            " |-- Timestamp: string (nullable = true)\n",
            " |-- Request: string (nullable = true)\n",
            " |-- Status: string (nullable = true)\n",
            " |-- Size: string (nullable = true)\n",
            " |-- Referrer: string (nullable = true)\n",
            " |-- User-Agent: string (nullable = true)\n",
            " |-- Device: string (nullable = true)\n",
            "\n"
          ]
        }
      ]
    },
    {
      "cell_type": "markdown",
      "source": [
        "Так как датафреймы объединены по типу \"inner\", значение столбцов \"client\" и \"IP\" идентичны. Поэтому, чтобы не утяжелять датафрейм, удалим один из столбцоы (я выбрала \"IP\")"
      ],
      "metadata": {
        "id": "-MH6Mq6lOM4D"
      }
    },
    {
      "cell_type": "code",
      "source": [
        "joined_df = joined_df.drop(\"IP\")"
      ],
      "metadata": {
        "id": "53JUCqSGsc2J"
      },
      "execution_count": 33,
      "outputs": []
    },
    {
      "cell_type": "code",
      "source": [
        "joined_df.show()"
      ],
      "metadata": {
        "colab": {
          "base_uri": "https://localhost:8080/"
        },
        "id": "R7I3EyfiM2kz",
        "outputId": "b7d84131-3206-444f-f4f4-c39a70ecda8f"
      },
      "execution_count": 34,
      "outputs": [
        {
          "output_type": "stream",
          "name": "stdout",
          "text": [
            "+-----------+-----------+--------------------+------------+--------------------+--------------------+------+-----+--------------------+----------+--------------------+\n",
            "|     client|   hostname|          alias_list|address_list|           Timestamp|             Request|Status| Size|            Referrer|User-Agent|              Device|\n",
            "+-----------+-----------+--------------------+------------+--------------------+--------------------+------+-----+--------------------+----------+--------------------+\n",
            "|1.234.99.77|1.234.99.77|[Errno 1] Unknown...|        NULL|25/Jan/2019:04:12:00|GET /filter/b1,p6...|   200|31739|Mozilla/5.0  like...|         -|Windows NT 10.0; ...|\n",
            "|1.234.99.77|1.234.99.77|[Errno 1] Unknown...|        NULL|25/Jan/2019:04:12:01|GET /image/%7B%7B...|   200|    5|Mozilla/5.0  like...|         -|Windows NT 10.0; ...|\n",
            "|1.234.99.77|1.234.99.77|[Errno 1] Unknown...|        NULL|25/Jan/2019:04:12:01|GET /image/19/bra...|   200| 2595|Mozilla/5.0  like...|         -|Windows NT 10.0; ...|\n",
            "|1.234.99.77|1.234.99.77|[Errno 1] Unknown...|        NULL|25/Jan/2019:04:12:01|GET /image/2/bran...|   200| 4842|Mozilla/5.0  like...|         -|Windows NT 10.0; ...|\n",
            "|1.234.99.77|1.234.99.77|[Errno 1] Unknown...|        NULL|25/Jan/2019:04:12:01|GET /image/1/bran...|   200| 3924|Mozilla/5.0  like...|         -|Windows NT 10.0; ...|\n",
            "|1.234.99.77|1.234.99.77|[Errno 1] Unknown...|        NULL|25/Jan/2019:04:12:02|GET /static/image...|   200| 7370|Mozilla/5.0  like...|         -|Windows NT 10.0; ...|\n",
            "|1.234.99.77|1.234.99.77|[Errno 1] Unknown...|        NULL|25/Jan/2019:04:12:02|GET /static/image...|   200| 2212|Mozilla/5.0  like...|         -|Windows NT 10.0; ...|\n",
            "|1.234.99.77|1.234.99.77|[Errno 1] Unknown...|        NULL|25/Jan/2019:04:12:02|GET /image/59682/...|   200| 2642|Mozilla/5.0  like...|         -|Windows NT 10.0; ...|\n",
            "|1.234.99.77|1.234.99.77|[Errno 1] Unknown...|        NULL|25/Jan/2019:04:12:02|GET /image/61088/...|   200| 5440|Mozilla/5.0  like...|         -|Windows NT 10.0; ...|\n",
            "|1.234.99.77|1.234.99.77|[Errno 1] Unknown...|        NULL|25/Jan/2019:04:12:02|GET /image/59649/...|   200| 2437|Mozilla/5.0  like...|         -|Windows NT 10.0; ...|\n",
            "|1.234.99.77|1.234.99.77|[Errno 1] Unknown...|        NULL|25/Jan/2019:04:12:03|GET /image/62421/...|   200| 2610|Mozilla/5.0  like...|         -|Windows NT 10.0; ...|\n",
            "|1.234.99.77|1.234.99.77|[Errno 1] Unknown...|        NULL|25/Jan/2019:04:12:03|GET /image/58883/...|   200| 2801|Mozilla/5.0  like...|         -|Windows NT 10.0; ...|\n",
            "|1.234.99.77|1.234.99.77|[Errno 1] Unknown...|        NULL|25/Jan/2019:04:12:03|GET /image/65391/...|   200| 2631|Mozilla/5.0  like...|         -|Windows NT 10.0; ...|\n",
            "|1.234.99.77|1.234.99.77|[Errno 1] Unknown...|        NULL|25/Jan/2019:04:12:03|GET /image/126/ar...|   200|10121|Mozilla/5.0  like...|         -|Windows NT 10.0; ...|\n",
            "|1.234.99.77|1.234.99.77|[Errno 1] Unknown...|        NULL|25/Jan/2019:04:12:03|GET /image/61088/...|   200| 3279|Mozilla/5.0  like...|         -|Windows NT 10.0; ...|\n",
            "|1.234.99.77|1.234.99.77|[Errno 1] Unknown...|        NULL|25/Jan/2019:04:12:03|GET /image/79/art...|   200|11795|Mozilla/5.0  like...|         -|Windows NT 10.0; ...|\n",
            "|1.234.99.77|1.234.99.77|[Errno 1] Unknown...|        NULL|25/Jan/2019:04:12:03|GET /static/bundl...|   200|55531|Mozilla/5.0  like...|         -|Windows NT 10.0; ...|\n",
            "|1.234.99.77|1.234.99.77|[Errno 1] Unknown...|        NULL|25/Jan/2019:04:12:03|GET /image/1166/a...|   200|22107|Mozilla/5.0  like...|         -|Windows NT 10.0; ...|\n",
            "|1.234.99.77|1.234.99.77|[Errno 1] Unknown...|        NULL|25/Jan/2019:04:12:03|GET /static/image...|   200| 7146|Mozilla/5.0  like...|         -|Windows NT 10.0; ...|\n",
            "|1.234.99.77|1.234.99.77|[Errno 1] Unknown...|        NULL|25/Jan/2019:04:12:03|GET /static/image...|   200| 3863|Mozilla/5.0  like...|         -|Windows NT 10.0; ...|\n",
            "+-----------+-----------+--------------------+------------+--------------------+--------------------+------+-----+--------------------+----------+--------------------+\n",
            "only showing top 20 rows\n",
            "\n"
          ]
        }
      ]
    },
    {
      "cell_type": "markdown",
      "source": [
        "# Выполнение скриптов для формирования витрины"
      ],
      "metadata": {
        "id": "xaFYSZ1tOu7n"
      }
    },
    {
      "cell_type": "code",
      "source": [
        "from pyspark.sql.window import Window\n",
        "from pyspark.sql.functions import monotonically_increasing_id, split\n",
        "from pyspark.sql import functions as F"
      ],
      "metadata": {
        "id": "tc6qWWTAtOC1"
      },
      "execution_count": 35,
      "outputs": []
    },
    {
      "cell_type": "code",
      "source": [
        "# 1. Суррогатный ключ устройства\n",
        "df_with_device_id = joined_df.withColumn(\"Device_id\", monotonically_increasing_id())"
      ],
      "metadata": {
        "id": "-bcfqDXkwI9f"
      },
      "execution_count": 36,
      "outputs": []
    },
    {
      "cell_type": "code",
      "source": [
        "# 2. Название устройства\n",
        "df_with_device_name = df_with_device_id.withColumn(\"Device_name\", split(df_with_device_id[\"Device\"], \";\")[0])"
      ],
      "metadata": {
        "id": "92KcVtOMwNIQ"
      },
      "execution_count": 37,
      "outputs": []
    },
    {
      "cell_type": "code",
      "source": [
        "# 3. Количество пользователей\n",
        "user_count = joined_df.select(\"client\").distinct().count()\n",
        "df_with_user_count = joined_df.withColumn(\"User_count\", F.lit(user_count))\n",
        "df_with_user_count = df_with_user_count.withColumn(\"User_count\", F.lit(user_count))"
      ],
      "metadata": {
        "id": "fq9glW2nwP2t"
      },
      "execution_count": 38,
      "outputs": []
    },
    {
      "cell_type": "code",
      "source": [
        "# 4. Доля пользователей данного устройства от общего числа пользователей\n",
        "device_user_count = df_with_device_name.select(\"client\", \"Device_id\").distinct().groupBy(\"Device_id\").count()\n",
        "device_user_count = device_user_count.withColumn(\"User_percentage\", device_user_count[\"count\"] / user_count)"
      ],
      "metadata": {
        "id": "gGhjOD98xD0m"
      },
      "execution_count": 39,
      "outputs": []
    },
    {
      "cell_type": "code",
      "source": [
        "# 5. Количество совершенных действий для данного устройства\n",
        "action_count = df_with_device_name.groupBy(\"Device_id\").count()\n",
        "df_with_action_count = df_with_device_name.withColumn(\"Action_count\", F.col(\"Device_id\")) \\\n",
        "    .join(action_count, \"Device_id\")"
      ],
      "metadata": {
        "id": "ppFREkqCxH4X"
      },
      "execution_count": 40,
      "outputs": []
    },
    {
      "cell_type": "code",
      "source": [
        "# 6. Доля совершенных действий с данного устройства относительно других устройств\n",
        "total_action_count = df_with_device_name.select(\"client\", \"Device_id\").distinct().groupBy(\"Device_id\").count()\n",
        "device_action_count = df_with_device_name.groupBy(\"Device_id\").count()\n",
        "device_action_percentage = device_action_count.join(total_action_count, \"Device_id\") \\\n",
        "    .withColumn(\"Action_percentage\", device_action_count[\"count\"] / total_action_count[\"count\"])"
      ],
      "metadata": {
        "id": "ffTX8ob-xP4B"
      },
      "execution_count": 41,
      "outputs": []
    },
    {
      "cell_type": "code",
      "source": [
        "# 7. Список из 5 самых популярных браузеров, используемых на данном устройстве различными пользователями,\n",
        "# с указанием доли использования для данного браузера относительно остальных браузеров\n",
        "top_browsers = df_with_device_name.groupBy(\"Device_id\", \"User-Agent\").count()\n",
        "window_spec = Window.partitionBy(\"Device_id\").orderBy(F.desc(\"count\"))\n",
        "top_browsers = top_browsers.withColumn(\"Rank\", F.row_number().over(window_spec))\n",
        "top_browsers = top_browsers.filter(F.col(\"Rank\") <= 5)\n",
        "total_counts = top_browsers.groupBy(\"Device_id\").agg(F.sum(\"count\").alias(\"Total_count\"))\n",
        "top_browsers = top_browsers.join(total_counts, on=\"Device_id\", how=\"inner\")\n",
        "top_browsers = top_browsers.withColumn(\"% of Total\", F.expr(f\"(`count` / Total_count) * 100\"))\n",
        "top_browsers = top_browsers.select(\n",
        "    \"Device_id\",\n",
        "    F.col(\"User-Agent\").alias(\"Browser\"),\n",
        "    \"% of Total\"\n",
        ")\n",
        "top_browsers = top_browsers.orderBy(F.desc(\"% of Total\")).limit(5)"
      ],
      "metadata": {
        "id": "XxGU76zfyMvj"
      },
      "execution_count": 42,
      "outputs": []
    },
    {
      "cell_type": "code",
      "source": [
        "# 8. Количество ответов сервера, отличных от 200, на данном устройстве\n",
        "error_count = df_with_device_name.filter(F.col(\"Status\") != \"200\").groupBy(\"Device_id\").count()\n",
        "\n",
        "df_with_error_count = df_with_device_name.join(\n",
        "    error_count.select(\"Device_id\", \"count\").withColumnRenamed(\"count\", \"Error_count\"),\n",
        "    on=\"Device_id\",\n",
        "    how=\"left\"\n",
        ")"
      ],
      "metadata": {
        "id": "SH_bx--oyQQ_"
      },
      "execution_count": 43,
      "outputs": []
    },
    {
      "cell_type": "code",
      "source": [
        "# 9. Для каждого из ответов сервера, отличных от 200, сформировать поле, в котором будет содержаться\n",
        "# количество ответов данного типа\n",
        "error_responses = df_with_device_name.filter(F.col(\"Status\") != \"200\").groupBy(\"Device_id\", \"Status\").count()\n",
        "error_response_cols = error_responses.select(\"Status\").distinct().rdd.flatMap(lambda x: x).collect()\n",
        "\n",
        "for col in error_response_cols:\n",
        "    error_responses = error_responses.withColumn(col, F.when(F.col(\"Status\") == col, F.col(\"count\")).otherwise(0))"
      ],
      "metadata": {
        "id": "jSL5s9ybyT7R"
      },
      "execution_count": 44,
      "outputs": []
    },
    {
      "cell_type": "markdown",
      "source": [
        "# Создание финального датафрейма"
      ],
      "metadata": {
        "id": "Rz6OikAXPApV"
      }
    },
    {
      "cell_type": "code",
      "source": [
        "data_mart = df_with_device_name \\\n",
        "    .join(df_with_user_count.select(\"client\", \"User_count\"), \"client\", \"left\") \\\n",
        "    .join(device_user_count.select(\"Device_id\", \"User_percentage\"), \"Device_id\", \"left\") \\\n",
        "    .join(df_with_action_count.select(\"Device_id\", \"Action_count\"), \"Device_id\", \"left\") \\\n",
        "    .join(device_action_percentage.select(\"Device_id\", \"Action_percentage\"), \"Device_id\", \"left\") \\\n",
        "    .join(top_browsers.select(\"Device_id\", \"Browser\", \"% of Total\"), \"Device_id\", \"left\") \\\n",
        "    .join(df_with_error_count.select(\"Device_id\", \"Error_count\"), \"Device_id\", \"left\") \\\n",
        "    .join(error_responses, \"Device_id\", \"left\") \\\n",
        "    .select(\"Device_id\", \"Device_name\", \"User_count\", \"User_percentage\", \"Action_count\", \"Action_percentage\", \"% of Total\", \"Error_count\", *error_response_cols)\n",
        "\n",
        "data_mart.printSchema()"
      ],
      "metadata": {
        "colab": {
          "base_uri": "https://localhost:8080/"
        },
        "id": "KKkMOdb9LbLa",
        "outputId": "c876a96e-05de-4545-b5e7-917fc4718955"
      },
      "execution_count": 45,
      "outputs": [
        {
          "output_type": "stream",
          "name": "stdout",
          "text": [
            "root\n",
            " |-- Device_id: long (nullable = false)\n",
            " |-- Device_name: string (nullable = true)\n",
            " |-- User_count: integer (nullable = true)\n",
            " |-- User_percentage: double (nullable = true)\n",
            " |-- Action_count: long (nullable = true)\n",
            " |-- Action_percentage: double (nullable = true)\n",
            " |-- % of Total: double (nullable = true)\n",
            " |-- Error_count: long (nullable = true)\n",
            " |-- 408: long (nullable = true)\n",
            " |-- 401: long (nullable = true)\n",
            " |-- 302: long (nullable = true)\n",
            " |-- 502: long (nullable = true)\n",
            " |-- 404: long (nullable = true)\n",
            " |-- 403: long (nullable = true)\n",
            " |-- 500: long (nullable = true)\n",
            " |-- 304: long (nullable = true)\n",
            " |-- 400: long (nullable = true)\n",
            " |-- 499: long (nullable = true)\n",
            " |-- 504: long (nullable = true)\n",
            " |-- 301: long (nullable = true)\n",
            " |-- 414: long (nullable = true)\n",
            " |-- 405: long (nullable = true)\n",
            " |-- 206: long (nullable = true)\n",
            "\n"
          ]
        }
      ]
    },
    {
      "cell_type": "markdown",
      "source": [
        "# Пример использования Apache Airflow для автоматического запуска скрипта"
      ],
      "metadata": {
        "id": "HqHb1jS0PIl5"
      }
    },
    {
      "cell_type": "code",
      "source": [
        "!pip install apache-airflow"
      ],
      "metadata": {
        "colab": {
          "base_uri": "https://localhost:8080/"
        },
        "id": "H_xcDkRINrmg",
        "outputId": "ea088619-2af3-4619-c894-90eb7d3ab1a3"
      },
      "execution_count": 46,
      "outputs": [
        {
          "output_type": "stream",
          "name": "stdout",
          "text": [
            "Collecting apache-airflow\n",
            "  Downloading apache_airflow-2.7.3-py3-none-any.whl (12.9 MB)\n",
            "\u001b[2K     \u001b[90m━━━━━━━━━━━━━━━━━━━━━━━━━━━━━━━━━━━━━━━━\u001b[0m \u001b[32m12.9/12.9 MB\u001b[0m \u001b[31m47.6 MB/s\u001b[0m eta \u001b[36m0:00:00\u001b[0m\n",
            "\u001b[?25hCollecting WTForms<3.1.0 (from apache-airflow)\n",
            "  Downloading WTForms-3.0.1-py3-none-any.whl (136 kB)\n",
            "\u001b[2K     \u001b[90m━━━━━━━━━━━━━━━━━━━━━━━━━━━━━━━━━━━━━━━━\u001b[0m \u001b[32m136.5/136.5 kB\u001b[0m \u001b[31m14.6 MB/s\u001b[0m eta \u001b[36m0:00:00\u001b[0m\n",
            "\u001b[?25hCollecting alembic<2.0,>=1.6.3 (from apache-airflow)\n",
            "  Downloading alembic-1.13.0-py3-none-any.whl (230 kB)\n",
            "\u001b[2K     \u001b[90m━━━━━━━━━━━━━━━━━━━━━━━━━━━━━━━━━━━━━━━━\u001b[0m \u001b[32m230.6/230.6 kB\u001b[0m \u001b[31m19.5 MB/s\u001b[0m eta \u001b[36m0:00:00\u001b[0m\n",
            "\u001b[?25hCollecting argcomplete>=1.10 (from apache-airflow)\n",
            "  Downloading argcomplete-3.1.6-py3-none-any.whl (41 kB)\n",
            "\u001b[2K     \u001b[90m━━━━━━━━━━━━━━━━━━━━━━━━━━━━━━━━━━━━━━━━\u001b[0m \u001b[32m41.7/41.7 kB\u001b[0m \u001b[31m4.4 MB/s\u001b[0m eta \u001b[36m0:00:00\u001b[0m\n",
            "\u001b[?25hCollecting asgiref (from apache-airflow)\n",
            "  Downloading asgiref-3.7.2-py3-none-any.whl (24 kB)\n",
            "Requirement already satisfied: attrs>=22.1.0 in /usr/local/lib/python3.10/dist-packages (from apache-airflow) (23.1.0)\n",
            "Requirement already satisfied: blinker in /usr/lib/python3/dist-packages (from apache-airflow) (1.4)\n",
            "Collecting cattrs>=22.1.0 (from apache-airflow)\n",
            "  Downloading cattrs-23.2.3-py3-none-any.whl (57 kB)\n",
            "\u001b[2K     \u001b[90m━━━━━━━━━━━━━━━━━━━━━━━━━━━━━━━━━━━━━━━━\u001b[0m \u001b[32m57.5/57.5 kB\u001b[0m \u001b[31m7.0 MB/s\u001b[0m eta \u001b[36m0:00:00\u001b[0m\n",
            "\u001b[?25hCollecting colorlog<5.0,>=4.0.2 (from apache-airflow)\n",
            "  Downloading colorlog-4.8.0-py2.py3-none-any.whl (10 kB)\n",
            "Collecting configupdater>=3.1.1 (from apache-airflow)\n",
            "  Downloading ConfigUpdater-3.2-py2.py3-none-any.whl (34 kB)\n",
            "Collecting connexion[flask]<3.0,>=2.10.0 (from apache-airflow)\n",
            "  Downloading connexion-2.14.2-py2.py3-none-any.whl (95 kB)\n",
            "\u001b[2K     \u001b[90m━━━━━━━━━━━━━━━━━━━━━━━━━━━━━━━━━━━━━━━━\u001b[0m \u001b[32m95.1/95.1 kB\u001b[0m \u001b[31m9.8 MB/s\u001b[0m eta \u001b[36m0:00:00\u001b[0m\n",
            "\u001b[?25hCollecting cron-descriptor>=1.2.24 (from apache-airflow)\n",
            "  Downloading cron_descriptor-1.4.0.tar.gz (29 kB)\n",
            "  Preparing metadata (setup.py) ... \u001b[?25l\u001b[?25hdone\n",
            "Collecting croniter>=0.3.17 (from apache-airflow)\n",
            "  Downloading croniter-2.0.1-py2.py3-none-any.whl (19 kB)\n",
            "Requirement already satisfied: cryptography>=0.9.3 in /usr/local/lib/python3.10/dist-packages (from apache-airflow) (41.0.7)\n",
            "Collecting deprecated>=1.2.13 (from apache-airflow)\n",
            "  Downloading Deprecated-1.2.14-py2.py3-none-any.whl (9.6 kB)\n",
            "Collecting dill>=0.2.2 (from apache-airflow)\n",
            "  Downloading dill-0.3.7-py3-none-any.whl (115 kB)\n",
            "\u001b[2K     \u001b[90m━━━━━━━━━━━━━━━━━━━━━━━━━━━━━━━━━━━━━━━━\u001b[0m \u001b[32m115.3/115.3 kB\u001b[0m \u001b[31m13.3 MB/s\u001b[0m eta \u001b[36m0:00:00\u001b[0m\n",
            "\u001b[?25hRequirement already satisfied: flask<2.3,>=2.2 in /usr/local/lib/python3.10/dist-packages (from apache-airflow) (2.2.5)\n",
            "Collecting flask-appbuilder==4.3.6 (from apache-airflow)\n",
            "  Downloading Flask_AppBuilder-4.3.6-py3-none-any.whl (1.7 MB)\n",
            "\u001b[2K     \u001b[90m━━━━━━━━━━━━━━━━━━━━━━━━━━━━━━━━━━━━━━━━\u001b[0m \u001b[32m1.7/1.7 MB\u001b[0m \u001b[31m77.9 MB/s\u001b[0m eta \u001b[36m0:00:00\u001b[0m\n",
            "\u001b[?25hCollecting flask-caching>=1.5.0 (from apache-airflow)\n",
            "  Downloading Flask_Caching-2.1.0-py3-none-any.whl (28 kB)\n",
            "Collecting flask-login>=0.6.2 (from apache-airflow)\n",
            "  Downloading Flask_Login-0.6.3-py3-none-any.whl (17 kB)\n",
            "Collecting flask-session>=0.4.0 (from apache-airflow)\n",
            "  Downloading flask_session-0.5.0-py3-none-any.whl (7.2 kB)\n",
            "Collecting flask-wtf>=0.15 (from apache-airflow)\n",
            "  Downloading flask_wtf-1.2.1-py3-none-any.whl (12 kB)\n",
            "Collecting google-re2>=1.0 (from apache-airflow)\n",
            "  Downloading google_re2-1.1-3-cp310-cp310-manylinux_2_24_x86_64.manylinux_2_28_x86_64.whl (511 kB)\n",
            "\u001b[2K     \u001b[90m━━━━━━━━━━━━━━━━━━━━━━━━━━━━━━━━━━━━━━━━\u001b[0m \u001b[32m511.3/511.3 kB\u001b[0m \u001b[31m40.4 MB/s\u001b[0m eta \u001b[36m0:00:00\u001b[0m\n",
            "\u001b[?25hRequirement already satisfied: graphviz>=0.12 in /usr/local/lib/python3.10/dist-packages (from apache-airflow) (0.20.1)\n",
            "Collecting gunicorn>=20.1.0 (from apache-airflow)\n",
            "  Downloading gunicorn-21.2.0-py3-none-any.whl (80 kB)\n",
            "\u001b[2K     \u001b[90m━━━━━━━━━━━━━━━━━━━━━━━━━━━━━━━━━━━━━━━━\u001b[0m \u001b[32m80.2/80.2 kB\u001b[0m \u001b[31m8.3 MB/s\u001b[0m eta \u001b[36m0:00:00\u001b[0m\n",
            "\u001b[?25hCollecting httpx (from apache-airflow)\n",
            "  Downloading httpx-0.25.2-py3-none-any.whl (74 kB)\n",
            "\u001b[2K     \u001b[90m━━━━━━━━━━━━━━━━━━━━━━━━━━━━━━━━━━━━━━━━\u001b[0m \u001b[32m75.0/75.0 kB\u001b[0m \u001b[31m8.6 MB/s\u001b[0m eta \u001b[36m0:00:00\u001b[0m\n",
            "\u001b[?25hRequirement already satisfied: itsdangerous>=2.0 in /usr/local/lib/python3.10/dist-packages (from apache-airflow) (2.1.2)\n",
            "Requirement already satisfied: jinja2>=3.0.0 in /usr/local/lib/python3.10/dist-packages (from apache-airflow) (3.1.2)\n",
            "Requirement already satisfied: jsonschema>=4.18.0 in /usr/local/lib/python3.10/dist-packages (from apache-airflow) (4.19.2)\n",
            "Collecting lazy-object-proxy (from apache-airflow)\n",
            "  Downloading lazy_object_proxy-1.9.0-cp310-cp310-manylinux_2_5_x86_64.manylinux1_x86_64.manylinux_2_17_x86_64.manylinux2014_x86_64.whl (63 kB)\n",
            "\u001b[2K     \u001b[90m━━━━━━━━━━━━━━━━━━━━━━━━━━━━━━━━━━━━━━━━\u001b[0m \u001b[32m63.3/63.3 kB\u001b[0m \u001b[31m6.6 MB/s\u001b[0m eta \u001b[36m0:00:00\u001b[0m\n",
            "\u001b[?25hRequirement already satisfied: linkify-it-py>=2.0.0 in /usr/local/lib/python3.10/dist-packages (from apache-airflow) (2.0.2)\n",
            "Collecting lockfile>=0.12.2 (from apache-airflow)\n",
            "  Downloading lockfile-0.12.2-py2.py3-none-any.whl (13 kB)\n",
            "Requirement already satisfied: markdown>=3.0 in /usr/local/lib/python3.10/dist-packages (from apache-airflow) (3.5.1)\n",
            "Requirement already satisfied: markdown-it-py>=2.1.0 in /usr/local/lib/python3.10/dist-packages (from apache-airflow) (3.0.0)\n",
            "Requirement already satisfied: markupsafe>=1.1.1 in /usr/local/lib/python3.10/dist-packages (from apache-airflow) (2.1.3)\n",
            "Collecting marshmallow-oneofschema>=2.0.1 (from apache-airflow)\n",
            "  Downloading marshmallow_oneofschema-3.0.1-py2.py3-none-any.whl (5.8 kB)\n",
            "Requirement already satisfied: mdit-py-plugins>=0.3.0 in /usr/local/lib/python3.10/dist-packages (from apache-airflow) (0.4.0)\n",
            "Collecting opentelemetry-api>=1.15.0 (from apache-airflow)\n",
            "  Downloading opentelemetry_api-1.21.0-py3-none-any.whl (57 kB)\n",
            "\u001b[2K     \u001b[90m━━━━━━━━━━━━━━━━━━━━━━━━━━━━━━━━━━━━━━━━\u001b[0m \u001b[32m57.9/57.9 kB\u001b[0m \u001b[31m4.5 MB/s\u001b[0m eta \u001b[36m0:00:00\u001b[0m\n",
            "\u001b[?25hCollecting opentelemetry-exporter-otlp (from apache-airflow)\n",
            "  Downloading opentelemetry_exporter_otlp-1.21.0-py3-none-any.whl (7.0 kB)\n",
            "Requirement already satisfied: packaging>=14.0 in /usr/local/lib/python3.10/dist-packages (from apache-airflow) (23.2)\n",
            "Collecting pathspec>=0.9.0 (from apache-airflow)\n",
            "  Downloading pathspec-0.11.2-py3-none-any.whl (29 kB)\n",
            "Collecting pendulum<3.0,>=2.0 (from apache-airflow)\n",
            "  Downloading pendulum-2.1.2.tar.gz (81 kB)\n",
            "\u001b[2K     \u001b[90m━━━━━━━━━━━━━━━━━━━━━━━━━━━━━━━━━━━━━━━━\u001b[0m \u001b[32m81.2/81.2 kB\u001b[0m \u001b[31m8.6 MB/s\u001b[0m eta \u001b[36m0:00:00\u001b[0m\n",
            "\u001b[?25h  Installing build dependencies ... \u001b[?25l\u001b[?25hdone\n",
            "  Getting requirements to build wheel ... \u001b[?25l\u001b[?25hdone\n",
            "  Preparing metadata (pyproject.toml) ... \u001b[?25l\u001b[?25hdone\n",
            "Requirement already satisfied: pluggy>=1.0 in /usr/local/lib/python3.10/dist-packages (from apache-airflow) (1.3.0)\n",
            "Requirement already satisfied: psutil>=4.2.0 in /usr/local/lib/python3.10/dist-packages (from apache-airflow) (5.9.5)\n",
            "Requirement already satisfied: pydantic>=1.10.0 in /usr/local/lib/python3.10/dist-packages (from apache-airflow) (1.10.13)\n",
            "Requirement already satisfied: pygments>=2.0.1 in /usr/local/lib/python3.10/dist-packages (from apache-airflow) (2.16.1)\n",
            "Requirement already satisfied: pyjwt>=2.0.0 in /usr/lib/python3/dist-packages (from apache-airflow) (2.3.0)\n",
            "Collecting python-daemon>=3.0.0 (from apache-airflow)\n",
            "  Downloading python_daemon-3.0.1-py3-none-any.whl (31 kB)\n",
            "Requirement already satisfied: python-dateutil>=2.3 in /usr/local/lib/python3.10/dist-packages (from apache-airflow) (2.8.2)\n",
            "Collecting python-nvd3>=0.15.0 (from apache-airflow)\n",
            "  Downloading python-nvd3-0.15.0.tar.gz (31 kB)\n",
            "  Preparing metadata (setup.py) ... \u001b[?25l\u001b[?25hdone\n",
            "Requirement already satisfied: python-slugify>=5.0 in /usr/local/lib/python3.10/dist-packages (from apache-airflow) (8.0.1)\n",
            "Collecting rfc3339-validator>=0.1.4 (from apache-airflow)\n",
            "  Downloading rfc3339_validator-0.1.4-py2.py3-none-any.whl (3.5 kB)\n",
            "Requirement already satisfied: rich>=12.4.4 in /usr/local/lib/python3.10/dist-packages (from apache-airflow) (13.7.0)\n",
            "Collecting rich-argparse>=1.0.0 (from apache-airflow)\n",
            "  Downloading rich_argparse-1.4.0-py3-none-any.whl (19 kB)\n",
            "Collecting setproctitle>=1.1.8 (from apache-airflow)\n",
            "  Downloading setproctitle-1.3.3-cp310-cp310-manylinux_2_5_x86_64.manylinux1_x86_64.manylinux_2_17_x86_64.manylinux2014_x86_64.whl (30 kB)\n",
            "Collecting sqlalchemy<2.0,>=1.4.28 (from apache-airflow)\n",
            "  Downloading SQLAlchemy-1.4.50-cp310-cp310-manylinux_2_5_x86_64.manylinux1_x86_64.manylinux_2_17_x86_64.manylinux2014_x86_64.whl (1.6 MB)\n",
            "\u001b[2K     \u001b[90m━━━━━━━━━━━━━━━━━━━━━━━━━━━━━━━━━━━━━━━━\u001b[0m \u001b[32m1.6/1.6 MB\u001b[0m \u001b[31m85.5 MB/s\u001b[0m eta \u001b[36m0:00:00\u001b[0m\n",
            "\u001b[?25hCollecting sqlalchemy-jsonfield>=1.0 (from apache-airflow)\n",
            "  Downloading SQLAlchemy_JSONField-1.0.2-py3-none-any.whl (10 kB)\n",
            "Requirement already satisfied: tabulate>=0.7.5 in /usr/local/lib/python3.10/dist-packages (from apache-airflow) (0.9.0)\n",
            "Requirement already satisfied: tenacity!=8.2.0,>=6.2.0 in /usr/local/lib/python3.10/dist-packages (from apache-airflow) (8.2.3)\n",
            "Requirement already satisfied: termcolor>=1.1.0 in /usr/local/lib/python3.10/dist-packages (from apache-airflow) (2.3.0)\n",
            "Requirement already satisfied: typing-extensions>=4.0.0 in /usr/local/lib/python3.10/dist-packages (from apache-airflow) (4.5.0)\n",
            "Collecting unicodecsv>=0.14.1 (from apache-airflow)\n",
            "  Downloading unicodecsv-0.14.1.tar.gz (10 kB)\n",
            "  Preparing metadata (setup.py) ... \u001b[?25l\u001b[?25hdone\n",
            "Requirement already satisfied: werkzeug>=2.0 in /usr/local/lib/python3.10/dist-packages (from apache-airflow) (3.0.1)\n",
            "Collecting apache-airflow-providers-common-sql (from apache-airflow)\n",
            "  Downloading apache_airflow_providers_common_sql-1.8.1-py3-none-any.whl (39 kB)\n",
            "Collecting apache-airflow-providers-ftp (from apache-airflow)\n",
            "  Downloading apache_airflow_providers_ftp-3.6.1-py3-none-any.whl (18 kB)\n",
            "Collecting apache-airflow-providers-http (from apache-airflow)\n",
            "  Downloading apache_airflow_providers_http-4.7.0-py3-none-any.whl (25 kB)\n",
            "Collecting apache-airflow-providers-imap (from apache-airflow)\n",
            "  Downloading apache_airflow_providers_imap-3.4.0-py3-none-any.whl (17 kB)\n",
            "Collecting apache-airflow-providers-sqlite (from apache-airflow)\n",
            "  Downloading apache_airflow_providers_sqlite-3.5.0-py3-none-any.whl (13 kB)\n",
            "Collecting apispec[yaml]<7,>=6.0.0 (from flask-appbuilder==4.3.6->apache-airflow)\n",
            "  Downloading apispec-6.3.0-py3-none-any.whl (29 kB)\n",
            "Collecting colorama<1,>=0.3.9 (from flask-appbuilder==4.3.6->apache-airflow)\n",
            "  Downloading colorama-0.4.6-py2.py3-none-any.whl (25 kB)\n",
            "Requirement already satisfied: click<9,>=8 in /usr/local/lib/python3.10/dist-packages (from flask-appbuilder==4.3.6->apache-airflow) (8.1.7)\n",
            "Collecting email-validator<2,>=1.0.5 (from flask-appbuilder==4.3.6->apache-airflow)\n",
            "  Downloading email_validator-1.3.1-py2.py3-none-any.whl (22 kB)\n",
            "Collecting Flask-Babel<3,>=1 (from flask-appbuilder==4.3.6->apache-airflow)\n",
            "  Downloading Flask_Babel-2.0.0-py3-none-any.whl (9.3 kB)\n",
            "Collecting Flask-Limiter<4,>3 (from flask-appbuilder==4.3.6->apache-airflow)\n",
            "  Downloading Flask_Limiter-3.5.0-py3-none-any.whl (28 kB)\n",
            "Collecting Flask-SQLAlchemy<3,>=2.4 (from flask-appbuilder==4.3.6->apache-airflow)\n",
            "  Downloading Flask_SQLAlchemy-2.5.1-py2.py3-none-any.whl (17 kB)\n",
            "Collecting Flask-JWT-Extended<5.0.0,>=4.0.0 (from flask-appbuilder==4.3.6->apache-airflow)\n",
            "  Downloading Flask_JWT_Extended-4.5.3-py2.py3-none-any.whl (22 kB)\n",
            "Collecting marshmallow<4,>=3.18.0 (from flask-appbuilder==4.3.6->apache-airflow)\n",
            "  Downloading marshmallow-3.20.1-py3-none-any.whl (49 kB)\n",
            "\u001b[2K     \u001b[90m━━━━━━━━━━━━━━━━━━━━━━━━━━━━━━━━━━━━━━━━\u001b[0m \u001b[32m49.4/49.4 kB\u001b[0m \u001b[31m5.4 MB/s\u001b[0m eta \u001b[36m0:00:00\u001b[0m\n",
            "\u001b[?25hCollecting marshmallow-sqlalchemy<0.27.0,>=0.22.0 (from flask-appbuilder==4.3.6->apache-airflow)\n",
            "  Downloading marshmallow_sqlalchemy-0.26.1-py2.py3-none-any.whl (15 kB)\n",
            "Collecting prison<1.0.0,>=0.2.1 (from flask-appbuilder==4.3.6->apache-airflow)\n",
            "  Downloading prison-0.2.1-py2.py3-none-any.whl (5.8 kB)\n",
            "Collecting sqlalchemy-utils<1,>=0.32.21 (from flask-appbuilder==4.3.6->apache-airflow)\n",
            "  Downloading SQLAlchemy_Utils-0.41.1-py3-none-any.whl (92 kB)\n",
            "\u001b[2K     \u001b[90m━━━━━━━━━━━━━━━━━━━━━━━━━━━━━━━━━━━━━━━━\u001b[0m \u001b[32m92.6/92.6 kB\u001b[0m \u001b[31m10.2 MB/s\u001b[0m eta \u001b[36m0:00:00\u001b[0m\n",
            "\u001b[?25hCollecting Mako (from alembic<2.0,>=1.6.3->apache-airflow)\n",
            "  Downloading Mako-1.3.0-py3-none-any.whl (78 kB)\n",
            "\u001b[2K     \u001b[90m━━━━━━━━━━━━━━━━━━━━━━━━━━━━━━━━━━━━━━━━\u001b[0m \u001b[32m78.6/78.6 kB\u001b[0m \u001b[31m8.5 MB/s\u001b[0m eta \u001b[36m0:00:00\u001b[0m\n",
            "\u001b[?25hRequirement already satisfied: exceptiongroup>=1.1.1 in /usr/local/lib/python3.10/dist-packages (from cattrs>=22.1.0->apache-airflow) (1.2.0)\n",
            "Collecting clickclick<21,>=1.2 (from connexion[flask]<3.0,>=2.10.0->apache-airflow)\n",
            "  Downloading clickclick-20.10.2-py2.py3-none-any.whl (7.4 kB)\n",
            "Requirement already satisfied: PyYAML<7,>=5.1 in /usr/local/lib/python3.10/dist-packages (from connexion[flask]<3.0,>=2.10.0->apache-airflow) (6.0.1)\n",
            "Requirement already satisfied: requests<3,>=2.9.1 in /usr/local/lib/python3.10/dist-packages (from connexion[flask]<3.0,>=2.10.0->apache-airflow) (2.31.0)\n",
            "Collecting inflection<0.6,>=0.3.1 (from connexion[flask]<3.0,>=2.10.0->apache-airflow)\n",
            "  Downloading inflection-0.5.1-py2.py3-none-any.whl (9.5 kB)\n",
            "Collecting werkzeug>=2.0 (from apache-airflow)\n",
            "  Downloading Werkzeug-2.2.3-py3-none-any.whl (233 kB)\n",
            "\u001b[2K     \u001b[90m━━━━━━━━━━━━━━━━━━━━━━━━━━━━━━━━━━━━━━━━\u001b[0m \u001b[32m233.6/233.6 kB\u001b[0m \u001b[31m23.2 MB/s\u001b[0m eta \u001b[36m0:00:00\u001b[0m\n",
            "\u001b[?25hRequirement already satisfied: pytz>2021.1 in /usr/local/lib/python3.10/dist-packages (from croniter>=0.3.17->apache-airflow) (2023.3.post1)\n",
            "Requirement already satisfied: cffi>=1.12 in /usr/local/lib/python3.10/dist-packages (from cryptography>=0.9.3->apache-airflow) (1.16.0)\n",
            "Requirement already satisfied: wrapt<2,>=1.10 in /usr/local/lib/python3.10/dist-packages (from deprecated>=1.2.13->apache-airflow) (1.14.1)\n",
            "Collecting cachelib<0.10.0,>=0.9.0 (from flask-caching>=1.5.0->apache-airflow)\n",
            "  Downloading cachelib-0.9.0-py3-none-any.whl (15 kB)\n",
            "Requirement already satisfied: jsonschema-specifications>=2023.03.6 in /usr/local/lib/python3.10/dist-packages (from jsonschema>=4.18.0->apache-airflow) (2023.11.2)\n",
            "Requirement already satisfied: referencing>=0.28.4 in /usr/local/lib/python3.10/dist-packages (from jsonschema>=4.18.0->apache-airflow) (0.31.1)\n",
            "Requirement already satisfied: rpds-py>=0.7.1 in /usr/local/lib/python3.10/dist-packages (from jsonschema>=4.18.0->apache-airflow) (0.13.2)\n",
            "Requirement already satisfied: uc-micro-py in /usr/local/lib/python3.10/dist-packages (from linkify-it-py>=2.0.0->apache-airflow) (1.0.2)\n",
            "Requirement already satisfied: mdurl~=0.1 in /usr/local/lib/python3.10/dist-packages (from markdown-it-py>=2.1.0->apache-airflow) (0.1.2)\n",
            "Requirement already satisfied: importlib-metadata<7.0,>=6.0 in /usr/local/lib/python3.10/dist-packages (from opentelemetry-api>=1.15.0->apache-airflow) (6.8.0)\n",
            "Collecting pytzdata>=2020.1 (from pendulum<3.0,>=2.0->apache-airflow)\n",
            "  Downloading pytzdata-2020.1-py2.py3-none-any.whl (489 kB)\n",
            "\u001b[2K     \u001b[90m━━━━━━━━━━━━━━━━━━━━━━━━━━━━━━━━━━━━━━━━\u001b[0m \u001b[32m490.0/490.0 kB\u001b[0m \u001b[31m38.9 MB/s\u001b[0m eta \u001b[36m0:00:00\u001b[0m\n",
            "\u001b[?25hRequirement already satisfied: docutils in /usr/local/lib/python3.10/dist-packages (from python-daemon>=3.0.0->apache-airflow) (0.18.1)\n",
            "Requirement already satisfied: setuptools>=62.4.0 in /usr/local/lib/python3.10/dist-packages (from python-daemon>=3.0.0->apache-airflow) (67.7.2)\n",
            "Requirement already satisfied: six>=1.5 in /usr/local/lib/python3.10/dist-packages (from python-dateutil>=2.3->apache-airflow) (1.16.0)\n",
            "Requirement already satisfied: text-unidecode>=1.3 in /usr/local/lib/python3.10/dist-packages (from python-slugify>=5.0->apache-airflow) (1.3)\n",
            "Requirement already satisfied: greenlet!=0.4.17 in /usr/local/lib/python3.10/dist-packages (from sqlalchemy<2.0,>=1.4.28->apache-airflow) (3.0.1)\n",
            "Requirement already satisfied: sqlparse>=0.4.2 in /usr/local/lib/python3.10/dist-packages (from apache-airflow-providers-common-sql->apache-airflow) (0.4.4)\n",
            "Requirement already satisfied: aiohttp in /usr/local/lib/python3.10/dist-packages (from apache-airflow-providers-http->apache-airflow) (3.9.1)\n",
            "Collecting requests-toolbelt (from apache-airflow-providers-http->apache-airflow)\n",
            "  Downloading requests_toolbelt-1.0.0-py2.py3-none-any.whl (54 kB)\n",
            "\u001b[2K     \u001b[90m━━━━━━━━━━━━━━━━━━━━━━━━━━━━━━━━━━━━━━━━\u001b[0m \u001b[32m54.5/54.5 kB\u001b[0m \u001b[31m6.4 MB/s\u001b[0m eta \u001b[36m0:00:00\u001b[0m\n",
            "\u001b[?25hRequirement already satisfied: anyio in /usr/local/lib/python3.10/dist-packages (from httpx->apache-airflow) (3.7.1)\n",
            "Requirement already satisfied: certifi in /usr/local/lib/python3.10/dist-packages (from httpx->apache-airflow) (2023.11.17)\n",
            "Collecting httpcore==1.* (from httpx->apache-airflow)\n",
            "  Downloading httpcore-1.0.2-py3-none-any.whl (76 kB)\n",
            "\u001b[2K     \u001b[90m━━━━━━━━━━━━━━━━━━━━━━━━━━━━━━━━━━━━━━━━\u001b[0m \u001b[32m76.9/76.9 kB\u001b[0m \u001b[31m8.8 MB/s\u001b[0m eta \u001b[36m0:00:00\u001b[0m\n",
            "\u001b[?25hRequirement already satisfied: idna in /usr/local/lib/python3.10/dist-packages (from httpx->apache-airflow) (3.6)\n",
            "Requirement already satisfied: sniffio in /usr/local/lib/python3.10/dist-packages (from httpx->apache-airflow) (1.3.0)\n",
            "Collecting h11<0.15,>=0.13 (from httpcore==1.*->httpx->apache-airflow)\n",
            "  Downloading h11-0.14.0-py3-none-any.whl (58 kB)\n",
            "\u001b[2K     \u001b[90m━━━━━━━━━━━━━━━━━━━━━━━━━━━━━━━━━━━━━━━━\u001b[0m \u001b[32m58.3/58.3 kB\u001b[0m \u001b[31m6.6 MB/s\u001b[0m eta \u001b[36m0:00:00\u001b[0m\n",
            "\u001b[?25hCollecting opentelemetry-exporter-otlp-proto-grpc==1.21.0 (from opentelemetry-exporter-otlp->apache-airflow)\n",
            "  Downloading opentelemetry_exporter_otlp_proto_grpc-1.21.0-py3-none-any.whl (18 kB)\n",
            "Collecting opentelemetry-exporter-otlp-proto-http==1.21.0 (from opentelemetry-exporter-otlp->apache-airflow)\n",
            "  Downloading opentelemetry_exporter_otlp_proto_http-1.21.0-py3-none-any.whl (16 kB)\n",
            "Collecting backoff<3.0.0,>=1.10.0 (from opentelemetry-exporter-otlp-proto-grpc==1.21.0->opentelemetry-exporter-otlp->apache-airflow)\n",
            "  Downloading backoff-2.2.1-py3-none-any.whl (15 kB)\n",
            "Requirement already satisfied: googleapis-common-protos~=1.52 in /usr/local/lib/python3.10/dist-packages (from opentelemetry-exporter-otlp-proto-grpc==1.21.0->opentelemetry-exporter-otlp->apache-airflow) (1.61.0)\n",
            "Requirement already satisfied: grpcio<2.0.0,>=1.0.0 in /usr/local/lib/python3.10/dist-packages (from opentelemetry-exporter-otlp-proto-grpc==1.21.0->opentelemetry-exporter-otlp->apache-airflow) (1.59.3)\n",
            "Collecting opentelemetry-exporter-otlp-proto-common==1.21.0 (from opentelemetry-exporter-otlp-proto-grpc==1.21.0->opentelemetry-exporter-otlp->apache-airflow)\n",
            "  Downloading opentelemetry_exporter_otlp_proto_common-1.21.0-py3-none-any.whl (17 kB)\n",
            "Collecting opentelemetry-proto==1.21.0 (from opentelemetry-exporter-otlp-proto-grpc==1.21.0->opentelemetry-exporter-otlp->apache-airflow)\n",
            "  Downloading opentelemetry_proto-1.21.0-py3-none-any.whl (50 kB)\n",
            "\u001b[2K     \u001b[90m━━━━━━━━━━━━━━━━━━━━━━━━━━━━━━━━━━━━━━━━\u001b[0m \u001b[32m50.8/50.8 kB\u001b[0m \u001b[31m5.5 MB/s\u001b[0m eta \u001b[36m0:00:00\u001b[0m\n",
            "\u001b[?25hCollecting opentelemetry-sdk~=1.21.0 (from opentelemetry-exporter-otlp-proto-grpc==1.21.0->opentelemetry-exporter-otlp->apache-airflow)\n",
            "  Downloading opentelemetry_sdk-1.21.0-py3-none-any.whl (105 kB)\n",
            "\u001b[2K     \u001b[90m━━━━━━━━━━━━━━━━━━━━━━━━━━━━━━━━━━━━━━━━\u001b[0m \u001b[32m105.3/105.3 kB\u001b[0m \u001b[31m12.2 MB/s\u001b[0m eta \u001b[36m0:00:00\u001b[0m\n",
            "\u001b[?25hRequirement already satisfied: protobuf<5.0,>=3.19 in /usr/local/lib/python3.10/dist-packages (from opentelemetry-proto==1.21.0->opentelemetry-exporter-otlp-proto-grpc==1.21.0->opentelemetry-exporter-otlp->apache-airflow) (3.20.3)\n",
            "Requirement already satisfied: pycparser in /usr/local/lib/python3.10/dist-packages (from cffi>=1.12->cryptography>=0.9.3->apache-airflow) (2.21)\n",
            "Collecting dnspython>=1.15.0 (from email-validator<2,>=1.0.5->flask-appbuilder==4.3.6->apache-airflow)\n",
            "  Downloading dnspython-2.4.2-py3-none-any.whl (300 kB)\n",
            "\u001b[2K     \u001b[90m━━━━━━━━━━━━━━━━━━━━━━━━━━━━━━━━━━━━━━━━\u001b[0m \u001b[32m300.4/300.4 kB\u001b[0m \u001b[31m26.0 MB/s\u001b[0m eta \u001b[36m0:00:00\u001b[0m\n",
            "\u001b[?25hRequirement already satisfied: Babel>=2.3 in /usr/local/lib/python3.10/dist-packages (from Flask-Babel<3,>=1->flask-appbuilder==4.3.6->apache-airflow) (2.13.1)\n",
            "Collecting limits>=2.8 (from Flask-Limiter<4,>3->flask-appbuilder==4.3.6->apache-airflow)\n",
            "  Downloading limits-3.7.0-py3-none-any.whl (43 kB)\n",
            "\u001b[2K     \u001b[90m━━━━━━━━━━━━━━━━━━━━━━━━━━━━━━━━━━━━━━━━\u001b[0m \u001b[32m43.1/43.1 kB\u001b[0m \u001b[31m4.4 MB/s\u001b[0m eta \u001b[36m0:00:00\u001b[0m\n",
            "\u001b[?25hCollecting ordered-set<5,>4 (from Flask-Limiter<4,>3->flask-appbuilder==4.3.6->apache-airflow)\n",
            "  Downloading ordered_set-4.1.0-py3-none-any.whl (7.6 kB)\n",
            "Requirement already satisfied: zipp>=0.5 in /usr/local/lib/python3.10/dist-packages (from importlib-metadata<7.0,>=6.0->opentelemetry-api>=1.15.0->apache-airflow) (3.17.0)\n",
            "Requirement already satisfied: charset-normalizer<4,>=2 in /usr/local/lib/python3.10/dist-packages (from requests<3,>=2.9.1->connexion[flask]<3.0,>=2.10.0->apache-airflow) (3.3.2)\n",
            "Requirement already satisfied: urllib3<3,>=1.21.1 in /usr/local/lib/python3.10/dist-packages (from requests<3,>=2.9.1->connexion[flask]<3.0,>=2.10.0->apache-airflow) (2.0.7)\n",
            "Requirement already satisfied: multidict<7.0,>=4.5 in /usr/local/lib/python3.10/dist-packages (from aiohttp->apache-airflow-providers-http->apache-airflow) (6.0.4)\n",
            "Requirement already satisfied: yarl<2.0,>=1.0 in /usr/local/lib/python3.10/dist-packages (from aiohttp->apache-airflow-providers-http->apache-airflow) (1.9.3)\n",
            "Requirement already satisfied: frozenlist>=1.1.1 in /usr/local/lib/python3.10/dist-packages (from aiohttp->apache-airflow-providers-http->apache-airflow) (1.4.0)\n",
            "Requirement already satisfied: aiosignal>=1.1.2 in /usr/local/lib/python3.10/dist-packages (from aiohttp->apache-airflow-providers-http->apache-airflow) (1.3.1)\n",
            "Requirement already satisfied: async-timeout<5.0,>=4.0 in /usr/local/lib/python3.10/dist-packages (from aiohttp->apache-airflow-providers-http->apache-airflow) (4.0.3)\n",
            "Requirement already satisfied: importlib-resources>=1.3 in /usr/local/lib/python3.10/dist-packages (from limits>=2.8->Flask-Limiter<4,>3->flask-appbuilder==4.3.6->apache-airflow) (6.1.1)\n",
            "Collecting opentelemetry-semantic-conventions==0.42b0 (from opentelemetry-sdk~=1.21.0->opentelemetry-exporter-otlp-proto-grpc==1.21.0->opentelemetry-exporter-otlp->apache-airflow)\n",
            "  Downloading opentelemetry_semantic_conventions-0.42b0-py3-none-any.whl (36 kB)\n",
            "Building wheels for collected packages: cron-descriptor, pendulum, python-nvd3, unicodecsv\n",
            "  Building wheel for cron-descriptor (setup.py) ... \u001b[?25l\u001b[?25hdone\n",
            "  Created wheel for cron-descriptor: filename=cron_descriptor-1.4.0-py3-none-any.whl size=49837 sha256=06b214f5b3479e8dae94bb05ce5eff3e8bb1276d6c397e9c840a00f2b6a51602\n",
            "  Stored in directory: /root/.cache/pip/wheels/98/ff/fb/d908f229155ad6b65c7a34e9d35774fd1f40579241c3a5f924\n",
            "  Building wheel for pendulum (pyproject.toml) ... \u001b[?25l\u001b[?25hdone\n",
            "  Created wheel for pendulum: filename=pendulum-2.1.2-cp310-cp310-manylinux_2_35_x86_64.whl size=158448 sha256=c959dcd339a656bfd279d1721b4f1a60d2bc9b664702611521e56d10fec966d5\n",
            "  Stored in directory: /root/.cache/pip/wheels/2e/41/ed/f113e4c9dc10f6c846d69f412e9cd9aa429960a3e2e485a4f9\n",
            "  Building wheel for python-nvd3 (setup.py) ... \u001b[?25l\u001b[?25hdone\n",
            "  Created wheel for python-nvd3: filename=python_nvd3-0.15.0-py3-none-any.whl size=38145 sha256=91a6f83aaf650d2705d5abfd803602b306d9561ecbad6ece809f6d3053fe3aa2\n",
            "  Stored in directory: /root/.cache/pip/wheels/80/e7/4e/d99e473adde7dd21b9938d4d32bf823ca334e7979632d6a64c\n",
            "  Building wheel for unicodecsv (setup.py) ... \u001b[?25l\u001b[?25hdone\n",
            "  Created wheel for unicodecsv: filename=unicodecsv-0.14.1-py3-none-any.whl size=10745 sha256=c890da98e32e0a1d116107f8a675af5990cf46c63ed161a2410d8fd412e391ed\n",
            "  Stored in directory: /root/.cache/pip/wheels/9c/ea/66/8e45247b09052a933eb1a680b7c64802298faba58aac9b346b\n",
            "Successfully built cron-descriptor pendulum python-nvd3 unicodecsv\n",
            "Installing collected packages: unicodecsv, lockfile, cron-descriptor, colorlog, WTForms, werkzeug, sqlalchemy, setproctitle, rfc3339-validator, pytzdata, python-daemon, prison, pathspec, ordered-set, opentelemetry-semantic-conventions, opentelemetry-proto, marshmallow, Mako, lazy-object-proxy, inflection, h11, gunicorn, google-re2, dnspython, dill, deprecated, configupdater, colorama, clickclick, cattrs, cachelib, backoff, asgiref, argcomplete, apispec, sqlalchemy-utils, sqlalchemy-jsonfield, requests-toolbelt, python-nvd3, pendulum, opentelemetry-exporter-otlp-proto-common, opentelemetry-api, marshmallow-sqlalchemy, marshmallow-oneofschema, limits, httpcore, email-validator, croniter, alembic, rich-argparse, opentelemetry-sdk, httpx, flask-wtf, Flask-SQLAlchemy, flask-session, flask-login, Flask-Limiter, Flask-JWT-Extended, flask-caching, Flask-Babel, opentelemetry-exporter-otlp-proto-http, opentelemetry-exporter-otlp-proto-grpc, flask-appbuilder, connexion, opentelemetry-exporter-otlp, apache-airflow-providers-common-sql, apache-airflow-providers-sqlite, apache-airflow-providers-imap, apache-airflow-providers-http, apache-airflow-providers-ftp, apache-airflow\n",
            "  Attempting uninstall: werkzeug\n",
            "    Found existing installation: Werkzeug 3.0.1\n",
            "    Uninstalling Werkzeug-3.0.1:\n",
            "      Successfully uninstalled Werkzeug-3.0.1\n",
            "  Attempting uninstall: sqlalchemy\n",
            "    Found existing installation: SQLAlchemy 2.0.23\n",
            "    Uninstalling SQLAlchemy-2.0.23:\n",
            "      Successfully uninstalled SQLAlchemy-2.0.23\n",
            "\u001b[31mERROR: pip's dependency resolver does not currently take into account all the packages that are installed. This behaviour is the source of the following dependency conflicts.\n",
            "ipython-sql 0.5.0 requires sqlalchemy>=2.0, but you have sqlalchemy 1.4.50 which is incompatible.\u001b[0m\u001b[31m\n",
            "\u001b[0mSuccessfully installed Flask-Babel-2.0.0 Flask-JWT-Extended-4.5.3 Flask-Limiter-3.5.0 Flask-SQLAlchemy-2.5.1 Mako-1.3.0 WTForms-3.0.1 alembic-1.13.0 apache-airflow-2.7.3 apache-airflow-providers-common-sql-1.8.1 apache-airflow-providers-ftp-3.6.1 apache-airflow-providers-http-4.7.0 apache-airflow-providers-imap-3.4.0 apache-airflow-providers-sqlite-3.5.0 apispec-6.3.0 argcomplete-3.1.6 asgiref-3.7.2 backoff-2.2.1 cachelib-0.9.0 cattrs-23.2.3 clickclick-20.10.2 colorama-0.4.6 colorlog-4.8.0 configupdater-3.2 connexion-2.14.2 cron-descriptor-1.4.0 croniter-2.0.1 deprecated-1.2.14 dill-0.3.7 dnspython-2.4.2 email-validator-1.3.1 flask-appbuilder-4.3.6 flask-caching-2.1.0 flask-login-0.6.3 flask-session-0.5.0 flask-wtf-1.2.1 google-re2-1.1 gunicorn-21.2.0 h11-0.14.0 httpcore-1.0.2 httpx-0.25.2 inflection-0.5.1 lazy-object-proxy-1.9.0 limits-3.7.0 lockfile-0.12.2 marshmallow-3.20.1 marshmallow-oneofschema-3.0.1 marshmallow-sqlalchemy-0.26.1 opentelemetry-api-1.21.0 opentelemetry-exporter-otlp-1.21.0 opentelemetry-exporter-otlp-proto-common-1.21.0 opentelemetry-exporter-otlp-proto-grpc-1.21.0 opentelemetry-exporter-otlp-proto-http-1.21.0 opentelemetry-proto-1.21.0 opentelemetry-sdk-1.21.0 opentelemetry-semantic-conventions-0.42b0 ordered-set-4.1.0 pathspec-0.11.2 pendulum-2.1.2 prison-0.2.1 python-daemon-3.0.1 python-nvd3-0.15.0 pytzdata-2020.1 requests-toolbelt-1.0.0 rfc3339-validator-0.1.4 rich-argparse-1.4.0 setproctitle-1.3.3 sqlalchemy-1.4.50 sqlalchemy-jsonfield-1.0.2 sqlalchemy-utils-0.41.1 unicodecsv-0.14.1 werkzeug-2.2.3\n"
          ]
        }
      ]
    },
    {
      "cell_type": "code",
      "source": [
        "!mkdir ~/airflow"
      ],
      "metadata": {
        "id": "mXq4D4ZOODtj"
      },
      "execution_count": 47,
      "outputs": []
    },
    {
      "cell_type": "code",
      "source": [
        "!echo \"[core]\" >> ~/airflow/airflow.cfg\n",
        "!echo \"dags_folder = /content/dags\" >> ~/airflow/airflow.cfg"
      ],
      "metadata": {
        "id": "mr807Vp2OGEv"
      },
      "execution_count": 48,
      "outputs": []
    },
    {
      "cell_type": "code",
      "source": [
        "!mkdir /content/dags"
      ],
      "metadata": {
        "id": "OYP1Jb7AOO8z"
      },
      "execution_count": 49,
      "outputs": []
    },
    {
      "cell_type": "code",
      "source": [
        "from datetime import datetime, timedelta\n",
        "from airflow.models import DAG\n",
        "from airflow.operators.dummy_operator import DummyOperator\n",
        "from airflow.operators.python import PythonOperator"
      ],
      "metadata": {
        "colab": {
          "base_uri": "https://localhost:8080/",
          "height": 49
        },
        "id": "WSW-7ZNXSRYr",
        "outputId": "953fd7aa-5a99-4a97-86b2-dcd1935d8889"
      },
      "execution_count": 55,
      "outputs": [
        {
          "output_type": "display_data",
          "data": {
            "text/plain": [
              "\u001b[1;33m<\u001b[0m\u001b[1;33mipython-input-\u001b[0m\u001b[1;33m55\u001b[0m\u001b[1;33m-8630675c8c20\u001b[0m\u001b[1;33m>\u001b[0m\u001b[1;33m:\u001b[0m\u001b[1;33m3\u001b[0m\u001b[1;33m DeprecationWarning\u001b[0m\u001b[33m: The `airflow.operators.dummy_operator.DummyOperator` class is deprecated. Please use `\u001b[0m\u001b[33m'airflow.operators.empty.EmptyOperator'\u001b[0m\u001b[33m`.\u001b[0m\n"
            ],
            "text/html": [
              "<pre style=\"white-space:pre;overflow-x:auto;line-height:normal;font-family:Menlo,'DejaVu Sans Mono',consolas,'Courier New',monospace\"><span style=\"color: #808000; text-decoration-color: #808000; font-weight: bold\">&lt;ipython-input-</span><span style=\"color: #808000; text-decoration-color: #808000; font-weight: bold\">55</span><span style=\"color: #808000; text-decoration-color: #808000; font-weight: bold\">-8630675c8c20&gt;:</span><span style=\"color: #808000; text-decoration-color: #808000; font-weight: bold\">3</span><span style=\"color: #808000; text-decoration-color: #808000; font-weight: bold\"> DeprecationWarning</span><span style=\"color: #808000; text-decoration-color: #808000\">: The `airflow.operators.dummy_operator.DummyOperator` class is deprecated. Please use `</span><span style=\"color: #808000; text-decoration-color: #808000\">'airflow.operators.empty.EmptyOperator'</span><span style=\"color: #808000; text-decoration-color: #808000\">`.</span>\n",
              "</pre>\n"
            ]
          },
          "metadata": {}
        }
      ]
    },
    {
      "cell_type": "code",
      "source": [
        "default_args = {\n",
        "    'owner': 'airflow',\n",
        "    'start_date': datetime(2023, 12, 25),\n",
        "    'retry_delay': timedelta(minutes=5),\n",
        "    'schedule_interval': '0 0 * * MON',\n",
        "}"
      ],
      "metadata": {
        "id": "kjJYwWbpUuyX"
      },
      "execution_count": 56,
      "outputs": []
    },
    {
      "cell_type": "code",
      "source": [
        "def execute_my_dag():\n",
        "    exec(open('/content/dags/my_dag.py').read())"
      ],
      "metadata": {
        "id": "K9BgJwz8VBb1"
      },
      "execution_count": 57,
      "outputs": []
    },
    {
      "cell_type": "code",
      "source": [
        "with DAG('my_dag', default_args=default_args, max_active_tasks=1, schedule=default_args['schedule_interval']) as dag:\n",
        "    start = DummyOperator(task_id='start')\n",
        "    execute = PythonOperator(task_id='execute_my_dag', python_callable=execute_my_dag)\n",
        "    end = DummyOperator(task_id='end')\n",
        "\n",
        "start >> execute >> end"
      ],
      "metadata": {
        "colab": {
          "base_uri": "https://localhost:8080/"
        },
        "id": "EHWpqBk7VDA_",
        "outputId": "223b710e-cd78-4551-d688-04fb9363e866"
      },
      "execution_count": 58,
      "outputs": [
        {
          "output_type": "execute_result",
          "data": {
            "text/plain": [
              "<Task(EmptyOperator): end>"
            ]
          },
          "metadata": {},
          "execution_count": 58
        }
      ]
    },
    {
      "cell_type": "code",
      "source": [
        "!airflow webserver --port 8080"
      ],
      "metadata": {
        "colab": {
          "base_uri": "https://localhost:8080/"
        },
        "id": "87ab09P6VW-Q",
        "outputId": "d6fde649-6e70-4ee6-d7a1-d2fa21869b3e"
      },
      "execution_count": 59,
      "outputs": [
        {
          "output_type": "stream",
          "name": "stdout",
          "text": [
            "[\u001b[34m2023-12-04T18:54:06.250+0000\u001b[0m] {\u001b[34mconfiguration.py:\u001b[0m2049} INFO\u001b[0m - Creating new FAB webserver config file in: \u001b[01m/root/airflow/webserver_config.py\u001b[22m\u001b[0m\n",
            "\n",
            "Please confirm database initialize (or wait 4 seconds to skip it). Are you sure? [y/N]\n",
            "[\u001b[34m2023-12-04T18:54:11.966+0000\u001b[0m] {\u001b[34mdb.py:\u001b[0m903} INFO\u001b[0m - Log template table does not exist (added in 2.3.0); skipping log template sync.\u001b[0m\n",
            "  ____________       _____________\n",
            " ____    |__( )_________  __/__  /________      __\n",
            "____  /| |_  /__  ___/_  /_ __  /_  __ \\_ | /| / /\n",
            "___  ___ |  / _  /   _  __/ _  / / /_/ /_ |/ |/ /\n",
            " _/_/  |_/_/  /_/    /_/    /_/  \\____/____/|__/\n",
            "Running the Gunicorn Server with:\n",
            "Workers: 4 sync\n",
            "Host: 0.0.0.0:8080\n",
            "Timeout: 120\n",
            "Logfiles: - -\n",
            "Access Logformat: \n",
            "=================================================================\n",
            "\u001b[1;33m/usr/local/lib/python3.10/dist-packages/flask_limiter/\u001b[0m\u001b[1;33mextension.py\u001b[0m\u001b[1;33m:\u001b[0m\u001b[1;33m336\u001b[0m\u001b[1;33m UserWarning\u001b[0m\u001b[33m: Using the in-memory storage for tracking rate limits as no storage was explicitly specified. This is not recommended for production use. See: \u001b[0m\u001b[4;33mhttps://flask-limiter.readthedocs.io#configuring-a-storage-backend\u001b[0m\u001b[33m for documentation about configuring the storage backend.\u001b[0m\n",
            "[\u001b[34m2023-12-04T18:54:13.868+0000\u001b[0m] {\u001b[34mmanager.py:\u001b[0m102} INFO\u001b[0m - Security DB not found Creating all Models from Base\u001b[0m\n",
            "[\u001b[34m2023-12-04T18:54:14.819+0000\u001b[0m] {\u001b[34mmanager.py:\u001b[0m104} INFO\u001b[0m - Security DB Created\u001b[0m\n",
            "[\u001b[34m2023-12-04T18:54:14.844+0000\u001b[0m] {\u001b[34mmanager.py:\u001b[0m239} INFO\u001b[0m - Inserted Role: %s\u001b[0m\n",
            "[\u001b[34m2023-12-04T18:54:14.860+0000\u001b[0m] {\u001b[34mmanager.py:\u001b[0m239} INFO\u001b[0m - Inserted Role: %s\u001b[0m\n",
            "[\u001b[34m2023-12-04T18:54:14.865+0000\u001b[0m] {\u001b[34mmanager.py:\u001b[0m670} \u001b[33mWARNING\u001b[0m - \u001b[33mNo user yet created, use flask fab command to do it.\u001b[0m\n",
            "[\u001b[34m2023-12-04T18:54:14.973+0000\u001b[0m] {\u001b[34mmanager.py:\u001b[0m499} INFO\u001b[0m - Created Permission View: %s\u001b[0m\n",
            "[\u001b[34m2023-12-04T18:54:14.988+0000\u001b[0m] {\u001b[34mmanager.py:\u001b[0m555} INFO\u001b[0m - Added Permission %s to role %s\u001b[0m\n",
            "[\u001b[34m2023-12-04T18:54:15.016+0000\u001b[0m] {\u001b[34mmanager.py:\u001b[0m499} INFO\u001b[0m - Created Permission View: %s\u001b[0m\n",
            "[\u001b[34m2023-12-04T18:54:15.031+0000\u001b[0m] {\u001b[34mmanager.py:\u001b[0m555} INFO\u001b[0m - Added Permission %s to role %s\u001b[0m\n",
            "[\u001b[34m2023-12-04T18:54:15.071+0000\u001b[0m] {\u001b[34mmanager.py:\u001b[0m499} INFO\u001b[0m - Created Permission View: %s\u001b[0m\n",
            "[\u001b[34m2023-12-04T18:54:15.087+0000\u001b[0m] {\u001b[34mmanager.py:\u001b[0m555} INFO\u001b[0m - Added Permission %s to role %s\u001b[0m\n",
            "[\u001b[34m2023-12-04T18:54:15.108+0000\u001b[0m] {\u001b[34mmanager.py:\u001b[0m499} INFO\u001b[0m - Created Permission View: %s\u001b[0m\n",
            "[\u001b[34m2023-12-04T18:54:15.126+0000\u001b[0m] {\u001b[34mmanager.py:\u001b[0m555} INFO\u001b[0m - Added Permission %s to role %s\u001b[0m\n",
            "[\u001b[34m2023-12-04T18:54:15.162+0000\u001b[0m] {\u001b[34mmanager.py:\u001b[0m499} INFO\u001b[0m - Created Permission View: %s\u001b[0m\n",
            "[\u001b[34m2023-12-04T18:54:15.179+0000\u001b[0m] {\u001b[34mmanager.py:\u001b[0m555} INFO\u001b[0m - Added Permission %s to role %s\u001b[0m\n",
            "[\u001b[34m2023-12-04T18:54:15.197+0000\u001b[0m] {\u001b[34mmanager.py:\u001b[0m499} INFO\u001b[0m - Created Permission View: %s\u001b[0m\n",
            "[\u001b[34m2023-12-04T18:54:15.213+0000\u001b[0m] {\u001b[34mmanager.py:\u001b[0m555} INFO\u001b[0m - Added Permission %s to role %s\u001b[0m\n",
            "[\u001b[34m2023-12-04T18:54:15.299+0000\u001b[0m] {\u001b[34mmanager.py:\u001b[0m499} INFO\u001b[0m - Created Permission View: %s\u001b[0m\n",
            "[\u001b[34m2023-12-04T18:54:15.315+0000\u001b[0m] {\u001b[34mmanager.py:\u001b[0m555} INFO\u001b[0m - Added Permission %s to role %s\u001b[0m\n",
            "[\u001b[34m2023-12-04T18:54:15.333+0000\u001b[0m] {\u001b[34mmanager.py:\u001b[0m499} INFO\u001b[0m - Created Permission View: %s\u001b[0m\n",
            "[\u001b[34m2023-12-04T18:54:15.349+0000\u001b[0m] {\u001b[34mmanager.py:\u001b[0m555} INFO\u001b[0m - Added Permission %s to role %s\u001b[0m\n",
            "[\u001b[34m2023-12-04T18:54:15.367+0000\u001b[0m] {\u001b[34mmanager.py:\u001b[0m499} INFO\u001b[0m - Created Permission View: %s\u001b[0m\n",
            "[\u001b[34m2023-12-04T18:54:15.382+0000\u001b[0m] {\u001b[34mmanager.py:\u001b[0m555} INFO\u001b[0m - Added Permission %s to role %s\u001b[0m\n",
            "[\u001b[34m2023-12-04T18:54:15.409+0000\u001b[0m] {\u001b[34mmanager.py:\u001b[0m499} INFO\u001b[0m - Created Permission View: %s\u001b[0m\n",
            "[\u001b[34m2023-12-04T18:54:15.425+0000\u001b[0m] {\u001b[34mmanager.py:\u001b[0m555} INFO\u001b[0m - Added Permission %s to role %s\u001b[0m\n",
            "[\u001b[34m2023-12-04T18:54:15.468+0000\u001b[0m] {\u001b[34mmanager.py:\u001b[0m499} INFO\u001b[0m - Created Permission View: %s\u001b[0m\n",
            "[\u001b[34m2023-12-04T18:54:15.484+0000\u001b[0m] {\u001b[34mmanager.py:\u001b[0m555} INFO\u001b[0m - Added Permission %s to role %s\u001b[0m\n",
            "[\u001b[34m2023-12-04T18:54:15.516+0000\u001b[0m] {\u001b[34mmanager.py:\u001b[0m499} INFO\u001b[0m - Created Permission View: %s\u001b[0m\n",
            "[\u001b[34m2023-12-04T18:54:15.532+0000\u001b[0m] {\u001b[34mmanager.py:\u001b[0m555} INFO\u001b[0m - Added Permission %s to role %s\u001b[0m\n",
            "[\u001b[34m2023-12-04T18:54:15.585+0000\u001b[0m] {\u001b[34mmanager.py:\u001b[0m499} INFO\u001b[0m - Created Permission View: %s\u001b[0m\n",
            "[\u001b[34m2023-12-04T18:54:15.601+0000\u001b[0m] {\u001b[34mmanager.py:\u001b[0m555} INFO\u001b[0m - Added Permission %s to role %s\u001b[0m\n",
            "[\u001b[34m2023-12-04T18:54:15.619+0000\u001b[0m] {\u001b[34mmanager.py:\u001b[0m499} INFO\u001b[0m - Created Permission View: %s\u001b[0m\n",
            "[\u001b[34m2023-12-04T18:54:15.639+0000\u001b[0m] {\u001b[34mmanager.py:\u001b[0m555} INFO\u001b[0m - Added Permission %s to role %s\u001b[0m\n",
            "[\u001b[34m2023-12-04T18:54:15.657+0000\u001b[0m] {\u001b[34mmanager.py:\u001b[0m499} INFO\u001b[0m - Created Permission View: %s\u001b[0m\n",
            "[\u001b[34m2023-12-04T18:54:15.672+0000\u001b[0m] {\u001b[34mmanager.py:\u001b[0m555} INFO\u001b[0m - Added Permission %s to role %s\u001b[0m\n",
            "[\u001b[34m2023-12-04T18:54:15.690+0000\u001b[0m] {\u001b[34mmanager.py:\u001b[0m499} INFO\u001b[0m - Created Permission View: %s\u001b[0m\n",
            "[\u001b[34m2023-12-04T18:54:15.707+0000\u001b[0m] {\u001b[34mmanager.py:\u001b[0m555} INFO\u001b[0m - Added Permission %s to role %s\u001b[0m\n",
            "[\u001b[34m2023-12-04T18:54:15.744+0000\u001b[0m] {\u001b[34mmanager.py:\u001b[0m499} INFO\u001b[0m - Created Permission View: %s\u001b[0m\n",
            "[\u001b[34m2023-12-04T18:54:15.761+0000\u001b[0m] {\u001b[34mmanager.py:\u001b[0m555} INFO\u001b[0m - Added Permission %s to role %s\u001b[0m\n",
            "[\u001b[34m2023-12-04T18:54:15.799+0000\u001b[0m] {\u001b[34mmanager.py:\u001b[0m499} INFO\u001b[0m - Created Permission View: %s\u001b[0m\n",
            "[\u001b[34m2023-12-04T18:54:15.813+0000\u001b[0m] {\u001b[34mmanager.py:\u001b[0m555} INFO\u001b[0m - Added Permission %s to role %s\u001b[0m\n",
            "[\u001b[34m2023-12-04T18:54:15.841+0000\u001b[0m] {\u001b[34mmanager.py:\u001b[0m499} INFO\u001b[0m - Created Permission View: %s\u001b[0m\n",
            "[\u001b[34m2023-12-04T18:54:15.856+0000\u001b[0m] {\u001b[34mmanager.py:\u001b[0m555} INFO\u001b[0m - Added Permission %s to role %s\u001b[0m\n",
            "[\u001b[34m2023-12-04T18:54:15.902+0000\u001b[0m] {\u001b[34mmanager.py:\u001b[0m499} INFO\u001b[0m - Created Permission View: %s\u001b[0m\n",
            "[\u001b[34m2023-12-04T18:54:15.916+0000\u001b[0m] {\u001b[34mmanager.py:\u001b[0m555} INFO\u001b[0m - Added Permission %s to role %s\u001b[0m\n",
            "[\u001b[34m2023-12-04T18:54:15.945+0000\u001b[0m] {\u001b[34mmanager.py:\u001b[0m499} INFO\u001b[0m - Created Permission View: %s\u001b[0m\n",
            "[\u001b[34m2023-12-04T18:54:15.959+0000\u001b[0m] {\u001b[34mmanager.py:\u001b[0m555} INFO\u001b[0m - Added Permission %s to role %s\u001b[0m\n",
            "[\u001b[34m2023-12-04T18:54:16.012+0000\u001b[0m] {\u001b[34mmanager.py:\u001b[0m499} INFO\u001b[0m - Created Permission View: %s\u001b[0m\n",
            "[\u001b[34m2023-12-04T18:54:16.024+0000\u001b[0m] {\u001b[34mmanager.py:\u001b[0m555} INFO\u001b[0m - Added Permission %s to role %s\u001b[0m\n",
            "[\u001b[34m2023-12-04T18:54:16.055+0000\u001b[0m] {\u001b[34mmanager.py:\u001b[0m499} INFO\u001b[0m - Created Permission View: %s\u001b[0m\n",
            "[\u001b[34m2023-12-04T18:54:16.069+0000\u001b[0m] {\u001b[34mmanager.py:\u001b[0m555} INFO\u001b[0m - Added Permission %s to role %s\u001b[0m\n",
            "[\u001b[34m2023-12-04T18:54:16.114+0000\u001b[0m] {\u001b[34mmanager.py:\u001b[0m499} INFO\u001b[0m - Created Permission View: %s\u001b[0m\n",
            "[\u001b[34m2023-12-04T18:54:16.129+0000\u001b[0m] {\u001b[34mmanager.py:\u001b[0m555} INFO\u001b[0m - Added Permission %s to role %s\u001b[0m\n",
            "[\u001b[34m2023-12-04T18:54:16.158+0000\u001b[0m] {\u001b[34mmanager.py:\u001b[0m499} INFO\u001b[0m - Created Permission View: %s\u001b[0m\n",
            "[\u001b[34m2023-12-04T18:54:16.171+0000\u001b[0m] {\u001b[34mmanager.py:\u001b[0m555} INFO\u001b[0m - Added Permission %s to role %s\u001b[0m\n",
            "[\u001b[34m2023-12-04T18:54:16.614+0000\u001b[0m] {\u001b[34mmanager.py:\u001b[0m499} INFO\u001b[0m - Created Permission View: %s\u001b[0m\n",
            "[\u001b[34m2023-12-04T18:54:16.626+0000\u001b[0m] {\u001b[34mmanager.py:\u001b[0m555} INFO\u001b[0m - Added Permission %s to role %s\u001b[0m\n",
            "[\u001b[34m2023-12-04T18:54:16.642+0000\u001b[0m] {\u001b[34mmanager.py:\u001b[0m499} INFO\u001b[0m - Created Permission View: %s\u001b[0m\n",
            "[\u001b[34m2023-12-04T18:54:16.655+0000\u001b[0m] {\u001b[34mmanager.py:\u001b[0m555} INFO\u001b[0m - Added Permission %s to role %s\u001b[0m\n",
            "[\u001b[34m2023-12-04T18:54:16.671+0000\u001b[0m] {\u001b[34mmanager.py:\u001b[0m499} INFO\u001b[0m - Created Permission View: %s\u001b[0m\n",
            "[\u001b[34m2023-12-04T18:54:16.685+0000\u001b[0m] {\u001b[34mmanager.py:\u001b[0m555} INFO\u001b[0m - Added Permission %s to role %s\u001b[0m\n",
            "[\u001b[34m2023-12-04T18:54:16.699+0000\u001b[0m] {\u001b[34mmanager.py:\u001b[0m499} INFO\u001b[0m - Created Permission View: %s\u001b[0m\n",
            "[\u001b[34m2023-12-04T18:54:16.712+0000\u001b[0m] {\u001b[34mmanager.py:\u001b[0m555} INFO\u001b[0m - Added Permission %s to role %s\u001b[0m\n",
            "[\u001b[34m2023-12-04T18:54:16.733+0000\u001b[0m] {\u001b[34mmanager.py:\u001b[0m499} INFO\u001b[0m - Created Permission View: %s\u001b[0m\n",
            "[\u001b[34m2023-12-04T18:54:16.748+0000\u001b[0m] {\u001b[34mmanager.py:\u001b[0m555} INFO\u001b[0m - Added Permission %s to role %s\u001b[0m\n",
            "[\u001b[34m2023-12-04T18:54:16.784+0000\u001b[0m] {\u001b[34mmanager.py:\u001b[0m499} INFO\u001b[0m - Created Permission View: %s\u001b[0m\n",
            "[\u001b[34m2023-12-04T18:54:16.799+0000\u001b[0m] {\u001b[34mmanager.py:\u001b[0m555} INFO\u001b[0m - Added Permission %s to role %s\u001b[0m\n",
            "[\u001b[34m2023-12-04T18:54:16.843+0000\u001b[0m] {\u001b[34mmanager.py:\u001b[0m499} INFO\u001b[0m - Created Permission View: %s\u001b[0m\n",
            "[\u001b[34m2023-12-04T18:54:16.858+0000\u001b[0m] {\u001b[34mmanager.py:\u001b[0m555} INFO\u001b[0m - Added Permission %s to role %s\u001b[0m\n",
            "[\u001b[34m2023-12-04T18:54:16.873+0000\u001b[0m] {\u001b[34mmanager.py:\u001b[0m499} INFO\u001b[0m - Created Permission View: %s\u001b[0m\n",
            "[\u001b[34m2023-12-04T18:54:16.889+0000\u001b[0m] {\u001b[34mmanager.py:\u001b[0m555} INFO\u001b[0m - Added Permission %s to role %s\u001b[0m\n",
            "[\u001b[34m2023-12-04T18:54:16.946+0000\u001b[0m] {\u001b[34mmanager.py:\u001b[0m499} INFO\u001b[0m - Created Permission View: %s\u001b[0m\n",
            "[\u001b[34m2023-12-04T18:54:16.965+0000\u001b[0m] {\u001b[34mmanager.py:\u001b[0m555} INFO\u001b[0m - Added Permission %s to role %s\u001b[0m\n",
            "[\u001b[34m2023-12-04T18:54:16.980+0000\u001b[0m] {\u001b[34mmanager.py:\u001b[0m499} INFO\u001b[0m - Created Permission View: %s\u001b[0m\n",
            "[\u001b[34m2023-12-04T18:54:16.993+0000\u001b[0m] {\u001b[34mmanager.py:\u001b[0m555} INFO\u001b[0m - Added Permission %s to role %s\u001b[0m\n",
            "[\u001b[34m2023-12-04T18:54:17.045+0000\u001b[0m] {\u001b[34mmanager.py:\u001b[0m499} INFO\u001b[0m - Created Permission View: %s\u001b[0m\n",
            "[\u001b[34m2023-12-04T18:54:17.062+0000\u001b[0m] {\u001b[34mmanager.py:\u001b[0m555} INFO\u001b[0m - Added Permission %s to role %s\u001b[0m\n",
            "[\u001b[34m2023-12-04T18:54:17.079+0000\u001b[0m] {\u001b[34mmanager.py:\u001b[0m499} INFO\u001b[0m - Created Permission View: %s\u001b[0m\n",
            "[\u001b[34m2023-12-04T18:54:17.094+0000\u001b[0m] {\u001b[34mmanager.py:\u001b[0m555} INFO\u001b[0m - Added Permission %s to role %s\u001b[0m\n",
            "[\u001b[34m2023-12-04T18:54:17.110+0000\u001b[0m] {\u001b[34mmanager.py:\u001b[0m499} INFO\u001b[0m - Created Permission View: %s\u001b[0m\n",
            "[\u001b[34m2023-12-04T18:54:17.124+0000\u001b[0m] {\u001b[34mmanager.py:\u001b[0m555} INFO\u001b[0m - Added Permission %s to role %s\u001b[0m\n",
            "[\u001b[34m2023-12-04T18:54:17.143+0000\u001b[0m] {\u001b[34mmanager.py:\u001b[0m499} INFO\u001b[0m - Created Permission View: %s\u001b[0m\n",
            "[\u001b[34m2023-12-04T18:54:17.161+0000\u001b[0m] {\u001b[34mmanager.py:\u001b[0m555} INFO\u001b[0m - Added Permission %s to role %s\u001b[0m\n",
            "[\u001b[34m2023-12-04T18:54:17.177+0000\u001b[0m] {\u001b[34mmanager.py:\u001b[0m499} INFO\u001b[0m - Created Permission View: %s\u001b[0m\n",
            "[\u001b[34m2023-12-04T18:54:17.192+0000\u001b[0m] {\u001b[34mmanager.py:\u001b[0m555} INFO\u001b[0m - Added Permission %s to role %s\u001b[0m\n",
            "[\u001b[34m2023-12-04T18:54:17.226+0000\u001b[0m] {\u001b[34mmanager.py:\u001b[0m499} INFO\u001b[0m - Created Permission View: %s\u001b[0m\n",
            "[\u001b[34m2023-12-04T18:54:17.240+0000\u001b[0m] {\u001b[34mmanager.py:\u001b[0m555} INFO\u001b[0m - Added Permission %s to role %s\u001b[0m\n",
            "[\u001b[34m2023-12-04T18:54:17.285+0000\u001b[0m] {\u001b[34mmanager.py:\u001b[0m499} INFO\u001b[0m - Created Permission View: %s\u001b[0m\n",
            "[\u001b[34m2023-12-04T18:54:17.301+0000\u001b[0m] {\u001b[34mmanager.py:\u001b[0m555} INFO\u001b[0m - Added Permission %s to role %s\u001b[0m\n",
            "[\u001b[34m2023-12-04T18:54:17.314+0000\u001b[0m] {\u001b[34mmanager.py:\u001b[0m499} INFO\u001b[0m - Created Permission View: %s\u001b[0m\n",
            "[\u001b[34m2023-12-04T18:54:17.326+0000\u001b[0m] {\u001b[34mmanager.py:\u001b[0m555} INFO\u001b[0m - Added Permission %s to role %s\u001b[0m\n",
            "[\u001b[34m2023-12-04T18:54:17.339+0000\u001b[0m] {\u001b[34mmanager.py:\u001b[0m499} INFO\u001b[0m - Created Permission View: %s\u001b[0m\n",
            "[\u001b[34m2023-12-04T18:54:17.352+0000\u001b[0m] {\u001b[34mmanager.py:\u001b[0m555} INFO\u001b[0m - Added Permission %s to role %s\u001b[0m\n",
            "[\u001b[34m2023-12-04T18:54:17.364+0000\u001b[0m] {\u001b[34mmanager.py:\u001b[0m499} INFO\u001b[0m - Created Permission View: %s\u001b[0m\n",
            "[\u001b[34m2023-12-04T18:54:17.375+0000\u001b[0m] {\u001b[34mmanager.py:\u001b[0m555} INFO\u001b[0m - Added Permission %s to role %s\u001b[0m\n",
            "[\u001b[34m2023-12-04T18:54:17.388+0000\u001b[0m] {\u001b[34mmanager.py:\u001b[0m499} INFO\u001b[0m - Created Permission View: %s\u001b[0m\n",
            "[\u001b[34m2023-12-04T18:54:17.404+0000\u001b[0m] {\u001b[34mmanager.py:\u001b[0m555} INFO\u001b[0m - Added Permission %s to role %s\u001b[0m\n",
            "[\u001b[34m2023-12-04T18:54:17.452+0000\u001b[0m] {\u001b[34mmanager.py:\u001b[0m499} INFO\u001b[0m - Created Permission View: %s\u001b[0m\n",
            "[\u001b[34m2023-12-04T18:54:17.466+0000\u001b[0m] {\u001b[34mmanager.py:\u001b[0m555} INFO\u001b[0m - Added Permission %s to role %s\u001b[0m\n",
            "[\u001b[34m2023-12-04T18:54:17.481+0000\u001b[0m] {\u001b[34mmanager.py:\u001b[0m499} INFO\u001b[0m - Created Permission View: %s\u001b[0m\n",
            "[\u001b[34m2023-12-04T18:54:17.493+0000\u001b[0m] {\u001b[34mmanager.py:\u001b[0m555} INFO\u001b[0m - Added Permission %s to role %s\u001b[0m\n",
            "[\u001b[34m2023-12-04T18:54:17.548+0000\u001b[0m] {\u001b[34mmanager.py:\u001b[0m499} INFO\u001b[0m - Created Permission View: %s\u001b[0m\n",
            "[\u001b[34m2023-12-04T18:54:17.562+0000\u001b[0m] {\u001b[34mmanager.py:\u001b[0m555} INFO\u001b[0m - Added Permission %s to role %s\u001b[0m\n",
            "[\u001b[34m2023-12-04T18:54:17.576+0000\u001b[0m] {\u001b[34mmanager.py:\u001b[0m499} INFO\u001b[0m - Created Permission View: %s\u001b[0m\n",
            "[\u001b[34m2023-12-04T18:54:17.589+0000\u001b[0m] {\u001b[34mmanager.py:\u001b[0m555} INFO\u001b[0m - Added Permission %s to role %s\u001b[0m\n",
            "[\u001b[34m2023-12-04T18:54:17.625+0000\u001b[0m] {\u001b[34mmanager.py:\u001b[0m499} INFO\u001b[0m - Created Permission View: %s\u001b[0m\n",
            "[\u001b[34m2023-12-04T18:54:17.639+0000\u001b[0m] {\u001b[34mmanager.py:\u001b[0m555} INFO\u001b[0m - Added Permission %s to role %s\u001b[0m\n",
            "[\u001b[34m2023-12-04T18:54:17.654+0000\u001b[0m] {\u001b[34mmanager.py:\u001b[0m499} INFO\u001b[0m - Created Permission View: %s\u001b[0m\n",
            "[\u001b[34m2023-12-04T18:54:17.667+0000\u001b[0m] {\u001b[34mmanager.py:\u001b[0m555} INFO\u001b[0m - Added Permission %s to role %s\u001b[0m\n",
            "[\u001b[34m2023-12-04T18:54:17.720+0000\u001b[0m] {\u001b[34mmanager.py:\u001b[0m499} INFO\u001b[0m - Created Permission View: %s\u001b[0m\n",
            "[\u001b[34m2023-12-04T18:54:17.734+0000\u001b[0m] {\u001b[34mmanager.py:\u001b[0m555} INFO\u001b[0m - Added Permission %s to role %s\u001b[0m\n",
            "[\u001b[34m2023-12-04T18:54:17.752+0000\u001b[0m] {\u001b[34mmanager.py:\u001b[0m499} INFO\u001b[0m - Created Permission View: %s\u001b[0m\n",
            "[\u001b[34m2023-12-04T18:54:17.767+0000\u001b[0m] {\u001b[34mmanager.py:\u001b[0m555} INFO\u001b[0m - Added Permission %s to role %s\u001b[0m\n",
            "[\u001b[34m2023-12-04T18:54:17.782+0000\u001b[0m] {\u001b[34mmanager.py:\u001b[0m499} INFO\u001b[0m - Created Permission View: %s\u001b[0m\n",
            "[\u001b[34m2023-12-04T18:54:17.796+0000\u001b[0m] {\u001b[34mmanager.py:\u001b[0m555} INFO\u001b[0m - Added Permission %s to role %s\u001b[0m\n",
            "[\u001b[34m2023-12-04T18:54:17.810+0000\u001b[0m] {\u001b[34mmanager.py:\u001b[0m499} INFO\u001b[0m - Created Permission View: %s\u001b[0m\n",
            "[\u001b[34m2023-12-04T18:54:17.824+0000\u001b[0m] {\u001b[34mmanager.py:\u001b[0m555} INFO\u001b[0m - Added Permission %s to role %s\u001b[0m\n",
            "[\u001b[34m2023-12-04T18:54:17.839+0000\u001b[0m] {\u001b[34mmanager.py:\u001b[0m499} INFO\u001b[0m - Created Permission View: %s\u001b[0m\n",
            "[\u001b[34m2023-12-04T18:54:17.852+0000\u001b[0m] {\u001b[34mmanager.py:\u001b[0m555} INFO\u001b[0m - Added Permission %s to role %s\u001b[0m\n",
            "[\u001b[34m2023-12-04T18:54:17.902+0000\u001b[0m] {\u001b[34mmanager.py:\u001b[0m499} INFO\u001b[0m - Created Permission View: %s\u001b[0m\n",
            "[\u001b[34m2023-12-04T18:54:17.916+0000\u001b[0m] {\u001b[34mmanager.py:\u001b[0m555} INFO\u001b[0m - Added Permission %s to role %s\u001b[0m\n",
            "[\u001b[34m2023-12-04T18:54:17.929+0000\u001b[0m] {\u001b[34mmanager.py:\u001b[0m499} INFO\u001b[0m - Created Permission View: %s\u001b[0m\n",
            "[\u001b[34m2023-12-04T18:54:17.942+0000\u001b[0m] {\u001b[34mmanager.py:\u001b[0m555} INFO\u001b[0m - Added Permission %s to role %s\u001b[0m\n",
            "[\u001b[34m2023-12-04T18:54:17.965+0000\u001b[0m] {\u001b[34mmanager.py:\u001b[0m499} INFO\u001b[0m - Created Permission View: %s\u001b[0m\n",
            "[\u001b[34m2023-12-04T18:54:17.977+0000\u001b[0m] {\u001b[34mmanager.py:\u001b[0m555} INFO\u001b[0m - Added Permission %s to role %s\u001b[0m\n",
            "[\u001b[34m2023-12-04T18:54:18.004+0000\u001b[0m] {\u001b[34mmanager.py:\u001b[0m499} INFO\u001b[0m - Created Permission View: %s\u001b[0m\n",
            "[\u001b[34m2023-12-04T18:54:18.018+0000\u001b[0m] {\u001b[34mmanager.py:\u001b[0m555} INFO\u001b[0m - Added Permission %s to role %s\u001b[0m\n",
            "[\u001b[34m2023-12-04T18:54:18.043+0000\u001b[0m] {\u001b[34mmanager.py:\u001b[0m499} INFO\u001b[0m - Created Permission View: %s\u001b[0m\n",
            "[\u001b[34m2023-12-04T18:54:18.057+0000\u001b[0m] {\u001b[34mmanager.py:\u001b[0m555} INFO\u001b[0m - Added Permission %s to role %s\u001b[0m\n",
            "[\u001b[34m2023-12-04T18:54:18.084+0000\u001b[0m] {\u001b[34mmanager.py:\u001b[0m499} INFO\u001b[0m - Created Permission View: %s\u001b[0m\n",
            "[\u001b[34m2023-12-04T18:54:18.098+0000\u001b[0m] {\u001b[34mmanager.py:\u001b[0m555} INFO\u001b[0m - Added Permission %s to role %s\u001b[0m\n",
            "[\u001b[34m2023-12-04T18:54:18.120+0000\u001b[0m] {\u001b[34mmanager.py:\u001b[0m499} INFO\u001b[0m - Created Permission View: %s\u001b[0m\n",
            "[\u001b[34m2023-12-04T18:54:18.133+0000\u001b[0m] {\u001b[34mmanager.py:\u001b[0m555} INFO\u001b[0m - Added Permission %s to role %s\u001b[0m\n",
            "[\u001b[34m2023-12-04T18:54:18.172+0000\u001b[0m] {\u001b[34mmanager.py:\u001b[0m499} INFO\u001b[0m - Created Permission View: %s\u001b[0m\n",
            "[\u001b[34m2023-12-04T18:54:18.187+0000\u001b[0m] {\u001b[34mmanager.py:\u001b[0m555} INFO\u001b[0m - Added Permission %s to role %s\u001b[0m\n",
            "[\u001b[34m2023-12-04T18:54:18.201+0000\u001b[0m] {\u001b[34mmanager.py:\u001b[0m499} INFO\u001b[0m - Created Permission View: %s\u001b[0m\n",
            "[\u001b[34m2023-12-04T18:54:18.214+0000\u001b[0m] {\u001b[34mmanager.py:\u001b[0m555} INFO\u001b[0m - Added Permission %s to role %s\u001b[0m\n",
            "[\u001b[34m2023-12-04T18:54:18.251+0000\u001b[0m] {\u001b[34mmanager.py:\u001b[0m499} INFO\u001b[0m - Created Permission View: %s\u001b[0m\n",
            "[\u001b[34m2023-12-04T18:54:18.266+0000\u001b[0m] {\u001b[34mmanager.py:\u001b[0m555} INFO\u001b[0m - Added Permission %s to role %s\u001b[0m\n",
            "[\u001b[34m2023-12-04T18:54:18.285+0000\u001b[0m] {\u001b[34mmanager.py:\u001b[0m499} INFO\u001b[0m - Created Permission View: %s\u001b[0m\n",
            "[\u001b[34m2023-12-04T18:54:18.301+0000\u001b[0m] {\u001b[34mmanager.py:\u001b[0m555} INFO\u001b[0m - Added Permission %s to role %s\u001b[0m\n",
            "[\u001b[34m2023-12-04T18:54:18.351+0000\u001b[0m] {\u001b[34mmanager.py:\u001b[0m499} INFO\u001b[0m - Created Permission View: %s\u001b[0m\n",
            "[\u001b[34m2023-12-04T18:54:18.365+0000\u001b[0m] {\u001b[34mmanager.py:\u001b[0m555} INFO\u001b[0m - Added Permission %s to role %s\u001b[0m\n",
            "[\u001b[34m2023-12-04T18:54:18.381+0000\u001b[0m] {\u001b[34mmanager.py:\u001b[0m499} INFO\u001b[0m - Created Permission View: %s\u001b[0m\n",
            "[\u001b[34m2023-12-04T18:54:18.395+0000\u001b[0m] {\u001b[34mmanager.py:\u001b[0m555} INFO\u001b[0m - Added Permission %s to role %s\u001b[0m\n",
            "[\u001b[34m2023-12-04T18:54:18.412+0000\u001b[0m] {\u001b[34mmanager.py:\u001b[0m499} INFO\u001b[0m - Created Permission View: %s\u001b[0m\n",
            "[\u001b[34m2023-12-04T18:54:18.426+0000\u001b[0m] {\u001b[34mmanager.py:\u001b[0m555} INFO\u001b[0m - Added Permission %s to role %s\u001b[0m\n",
            "[\u001b[34m2023-12-04T18:54:18.441+0000\u001b[0m] {\u001b[34mmanager.py:\u001b[0m499} INFO\u001b[0m - Created Permission View: %s\u001b[0m\n",
            "[\u001b[34m2023-12-04T18:54:18.455+0000\u001b[0m] {\u001b[34mmanager.py:\u001b[0m555} INFO\u001b[0m - Added Permission %s to role %s\u001b[0m\n",
            "[\u001b[34m2023-12-04T18:54:18.469+0000\u001b[0m] {\u001b[34mmanager.py:\u001b[0m499} INFO\u001b[0m - Created Permission View: %s\u001b[0m\n",
            "[\u001b[34m2023-12-04T18:54:18.485+0000\u001b[0m] {\u001b[34mmanager.py:\u001b[0m555} INFO\u001b[0m - Added Permission %s to role %s\u001b[0m\n",
            "[\u001b[34m2023-12-04T18:54:18.538+0000\u001b[0m] {\u001b[34mmanager.py:\u001b[0m499} INFO\u001b[0m - Created Permission View: %s\u001b[0m\n",
            "[\u001b[34m2023-12-04T18:54:18.554+0000\u001b[0m] {\u001b[34mmanager.py:\u001b[0m555} INFO\u001b[0m - Added Permission %s to role %s\u001b[0m\n",
            "[\u001b[34m2023-12-04T18:54:18.567+0000\u001b[0m] {\u001b[34mmanager.py:\u001b[0m499} INFO\u001b[0m - Created Permission View: %s\u001b[0m\n",
            "[\u001b[34m2023-12-04T18:54:18.582+0000\u001b[0m] {\u001b[34mmanager.py:\u001b[0m555} INFO\u001b[0m - Added Permission %s to role %s\u001b[0m\n",
            "[\u001b[34m2023-12-04T18:54:18.598+0000\u001b[0m] {\u001b[34mmanager.py:\u001b[0m499} INFO\u001b[0m - Created Permission View: %s\u001b[0m\n",
            "[\u001b[34m2023-12-04T18:54:18.615+0000\u001b[0m] {\u001b[34mmanager.py:\u001b[0m555} INFO\u001b[0m - Added Permission %s to role %s\u001b[0m\n",
            "[\u001b[34m2023-12-04T18:54:18.631+0000\u001b[0m] {\u001b[34mmanager.py:\u001b[0m499} INFO\u001b[0m - Created Permission View: %s\u001b[0m\n",
            "[\u001b[34m2023-12-04T18:54:18.645+0000\u001b[0m] {\u001b[34mmanager.py:\u001b[0m555} INFO\u001b[0m - Added Permission %s to role %s\u001b[0m\n",
            "[\u001b[34m2023-12-04T18:54:18.697+0000\u001b[0m] {\u001b[34mmanager.py:\u001b[0m499} INFO\u001b[0m - Created Permission View: %s\u001b[0m\n",
            "[\u001b[34m2023-12-04T18:54:18.712+0000\u001b[0m] {\u001b[34mmanager.py:\u001b[0m555} INFO\u001b[0m - Added Permission %s to role %s\u001b[0m\n",
            "[\u001b[34m2023-12-04T18:54:18.761+0000\u001b[0m] {\u001b[34mmanager.py:\u001b[0m499} INFO\u001b[0m - Created Permission View: %s\u001b[0m\n",
            "[\u001b[34m2023-12-04T18:54:18.780+0000\u001b[0m] {\u001b[34mmanager.py:\u001b[0m555} INFO\u001b[0m - Added Permission %s to role %s\u001b[0m\n",
            "[\u001b[34m2023-12-04T18:54:18.813+0000\u001b[0m] {\u001b[34mmanager.py:\u001b[0m499} INFO\u001b[0m - Created Permission View: %s\u001b[0m\n",
            "[\u001b[34m2023-12-04T18:54:18.830+0000\u001b[0m] {\u001b[34mmanager.py:\u001b[0m555} INFO\u001b[0m - Added Permission %s to role %s\u001b[0m\n",
            "[\u001b[34m2023-12-04T18:54:18.858+0000\u001b[0m] {\u001b[34mmanager.py:\u001b[0m499} INFO\u001b[0m - Created Permission View: %s\u001b[0m\n",
            "[\u001b[34m2023-12-04T18:54:18.874+0000\u001b[0m] {\u001b[34mmanager.py:\u001b[0m555} INFO\u001b[0m - Added Permission %s to role %s\u001b[0m\n",
            "[\u001b[34m2023-12-04T18:54:18.901+0000\u001b[0m] {\u001b[34mmanager.py:\u001b[0m499} INFO\u001b[0m - Created Permission View: %s\u001b[0m\n",
            "[\u001b[34m2023-12-04T18:54:18.916+0000\u001b[0m] {\u001b[34mmanager.py:\u001b[0m555} INFO\u001b[0m - Added Permission %s to role %s\u001b[0m\n",
            "[\u001b[34m2023-12-04T18:54:18.944+0000\u001b[0m] {\u001b[34mmanager.py:\u001b[0m499} INFO\u001b[0m - Created Permission View: %s\u001b[0m\n",
            "[\u001b[34m2023-12-04T18:54:18.959+0000\u001b[0m] {\u001b[34mmanager.py:\u001b[0m555} INFO\u001b[0m - Added Permission %s to role %s\u001b[0m\n",
            "[\u001b[34m2023-12-04T18:54:19.541+0000\u001b[0m] {\u001b[34mmanager.py:\u001b[0m499} INFO\u001b[0m - Created Permission View: %s\u001b[0m\n",
            "[\u001b[34m2023-12-04T18:54:19.561+0000\u001b[0m] {\u001b[34mmanager.py:\u001b[0m499} INFO\u001b[0m - Created Permission View: %s\u001b[0m\n",
            "[\u001b[34m2023-12-04T18:54:19.580+0000\u001b[0m] {\u001b[34mmanager.py:\u001b[0m499} INFO\u001b[0m - Created Permission View: %s\u001b[0m\n",
            "[\u001b[34m2023-12-04T18:54:19.766+0000\u001b[0m] {\u001b[34mmanager.py:\u001b[0m499} INFO\u001b[0m - Created Permission View: %s\u001b[0m\n",
            "[\u001b[34m2023-12-04T18:54:19.885+0000\u001b[0m] {\u001b[34mmanager.py:\u001b[0m499} INFO\u001b[0m - Created Permission View: %s\u001b[0m\n",
            "[\u001b[34m2023-12-04T18:54:20.081+0000\u001b[0m] {\u001b[34mmanager.py:\u001b[0m499} INFO\u001b[0m - Created Permission View: %s\u001b[0m\n",
            "[\u001b[34m2023-12-04T18:54:20.134+0000\u001b[0m] {\u001b[34mmanager.py:\u001b[0m499} INFO\u001b[0m - Created Permission View: %s\u001b[0m\n",
            "[\u001b[34m2023-12-04T18:54:20.438+0000\u001b[0m] {\u001b[34mmanager.py:\u001b[0m239} INFO\u001b[0m - Inserted Role: %s\u001b[0m\n",
            "[\u001b[34m2023-12-04T18:54:20.460+0000\u001b[0m] {\u001b[34mmanager.py:\u001b[0m555} INFO\u001b[0m - Added Permission %s to role %s\u001b[0m\n",
            "[\u001b[34m2023-12-04T18:54:20.477+0000\u001b[0m] {\u001b[34mmanager.py:\u001b[0m555} INFO\u001b[0m - Added Permission %s to role %s\u001b[0m\n",
            "[\u001b[34m2023-12-04T18:54:20.498+0000\u001b[0m] {\u001b[34mmanager.py:\u001b[0m499} INFO\u001b[0m - Created Permission View: %s\u001b[0m\n",
            "[\u001b[34m2023-12-04T18:54:20.519+0000\u001b[0m] {\u001b[34mmanager.py:\u001b[0m555} INFO\u001b[0m - Added Permission %s to role %s\u001b[0m\n",
            "[\u001b[34m2023-12-04T18:54:20.534+0000\u001b[0m] {\u001b[34mmanager.py:\u001b[0m555} INFO\u001b[0m - Added Permission %s to role %s\u001b[0m\n",
            "[\u001b[34m2023-12-04T18:54:20.550+0000\u001b[0m] {\u001b[34mmanager.py:\u001b[0m555} INFO\u001b[0m - Added Permission %s to role %s\u001b[0m\n",
            "[\u001b[34m2023-12-04T18:54:20.566+0000\u001b[0m] {\u001b[34mmanager.py:\u001b[0m555} INFO\u001b[0m - Added Permission %s to role %s\u001b[0m\n",
            "[\u001b[34m2023-12-04T18:54:20.587+0000\u001b[0m] {\u001b[34mmanager.py:\u001b[0m499} INFO\u001b[0m - Created Permission View: %s\u001b[0m\n",
            "[\u001b[34m2023-12-04T18:54:20.603+0000\u001b[0m] {\u001b[34mmanager.py:\u001b[0m555} INFO\u001b[0m - Added Permission %s to role %s\u001b[0m\n",
            "[\u001b[34m2023-12-04T18:54:20.619+0000\u001b[0m] {\u001b[34mmanager.py:\u001b[0m555} INFO\u001b[0m - Added Permission %s to role %s\u001b[0m\n",
            "[\u001b[34m2023-12-04T18:54:20.635+0000\u001b[0m] {\u001b[34mmanager.py:\u001b[0m555} INFO\u001b[0m - Added Permission %s to role %s\u001b[0m\n",
            "[\u001b[34m2023-12-04T18:54:20.654+0000\u001b[0m] {\u001b[34mmanager.py:\u001b[0m555} INFO\u001b[0m - Added Permission %s to role %s\u001b[0m\n",
            "[\u001b[34m2023-12-04T18:54:20.669+0000\u001b[0m] {\u001b[34mmanager.py:\u001b[0m555} INFO\u001b[0m - Added Permission %s to role %s\u001b[0m\n",
            "[\u001b[34m2023-12-04T18:54:20.687+0000\u001b[0m] {\u001b[34mmanager.py:\u001b[0m555} INFO\u001b[0m - Added Permission %s to role %s\u001b[0m\n",
            "[\u001b[34m2023-12-04T18:54:20.703+0000\u001b[0m] {\u001b[34mmanager.py:\u001b[0m555} INFO\u001b[0m - Added Permission %s to role %s\u001b[0m\n",
            "[\u001b[34m2023-12-04T18:54:20.720+0000\u001b[0m] {\u001b[34mmanager.py:\u001b[0m555} INFO\u001b[0m - Added Permission %s to role %s\u001b[0m\n",
            "[\u001b[34m2023-12-04T18:54:20.735+0000\u001b[0m] {\u001b[34mmanager.py:\u001b[0m555} INFO\u001b[0m - Added Permission %s to role %s\u001b[0m\n",
            "[\u001b[34m2023-12-04T18:54:20.752+0000\u001b[0m] {\u001b[34mmanager.py:\u001b[0m555} INFO\u001b[0m - Added Permission %s to role %s\u001b[0m\n",
            "[\u001b[34m2023-12-04T18:54:20.767+0000\u001b[0m] {\u001b[34mmanager.py:\u001b[0m555} INFO\u001b[0m - Added Permission %s to role %s\u001b[0m\n",
            "[\u001b[34m2023-12-04T18:54:20.805+0000\u001b[0m] {\u001b[34mmanager.py:\u001b[0m499} INFO\u001b[0m - Created Permission View: %s\u001b[0m\n",
            "[\u001b[34m2023-12-04T18:54:20.820+0000\u001b[0m] {\u001b[34mmanager.py:\u001b[0m555} INFO\u001b[0m - Added Permission %s to role %s\u001b[0m\n",
            "[\u001b[34m2023-12-04T18:54:20.836+0000\u001b[0m] {\u001b[34mmanager.py:\u001b[0m555} INFO\u001b[0m - Added Permission %s to role %s\u001b[0m\n",
            "[\u001b[34m2023-12-04T18:54:20.877+0000\u001b[0m] {\u001b[34mmanager.py:\u001b[0m499} INFO\u001b[0m - Created Permission View: %s\u001b[0m\n",
            "[\u001b[34m2023-12-04T18:54:20.892+0000\u001b[0m] {\u001b[34mmanager.py:\u001b[0m555} INFO\u001b[0m - Added Permission %s to role %s\u001b[0m\n",
            "[\u001b[34m2023-12-04T18:54:20.906+0000\u001b[0m] {\u001b[34mmanager.py:\u001b[0m555} INFO\u001b[0m - Added Permission %s to role %s\u001b[0m\n",
            "[\u001b[34m2023-12-04T18:54:20.921+0000\u001b[0m] {\u001b[34mmanager.py:\u001b[0m555} INFO\u001b[0m - Added Permission %s to role %s\u001b[0m\n",
            "[\u001b[34m2023-12-04T18:54:20.933+0000\u001b[0m] {\u001b[34mmanager.py:\u001b[0m555} INFO\u001b[0m - Added Permission %s to role %s\u001b[0m\n",
            "[\u001b[34m2023-12-04T18:54:20.957+0000\u001b[0m] {\u001b[34mmanager.py:\u001b[0m555} INFO\u001b[0m - Added Permission %s to role %s\u001b[0m\n",
            "[\u001b[34m2023-12-04T18:54:20.970+0000\u001b[0m] {\u001b[34mmanager.py:\u001b[0m555} INFO\u001b[0m - Added Permission %s to role %s\u001b[0m\n",
            "[\u001b[34m2023-12-04T18:54:20.984+0000\u001b[0m] {\u001b[34mmanager.py:\u001b[0m555} INFO\u001b[0m - Added Permission %s to role %s\u001b[0m\n",
            "[\u001b[34m2023-12-04T18:54:20.997+0000\u001b[0m] {\u001b[34mmanager.py:\u001b[0m555} INFO\u001b[0m - Added Permission %s to role %s\u001b[0m\n",
            "[\u001b[34m2023-12-04T18:54:21.010+0000\u001b[0m] {\u001b[34mmanager.py:\u001b[0m555} INFO\u001b[0m - Added Permission %s to role %s\u001b[0m\n",
            "[\u001b[34m2023-12-04T18:54:21.024+0000\u001b[0m] {\u001b[34mmanager.py:\u001b[0m555} INFO\u001b[0m - Added Permission %s to role %s\u001b[0m\n",
            "[\u001b[34m2023-12-04T18:54:21.037+0000\u001b[0m] {\u001b[34mmanager.py:\u001b[0m555} INFO\u001b[0m - Added Permission %s to role %s\u001b[0m\n",
            "[\u001b[34m2023-12-04T18:54:21.050+0000\u001b[0m] {\u001b[34mmanager.py:\u001b[0m555} INFO\u001b[0m - Added Permission %s to role %s\u001b[0m\n",
            "[\u001b[34m2023-12-04T18:54:21.063+0000\u001b[0m] {\u001b[34mmanager.py:\u001b[0m555} INFO\u001b[0m - Added Permission %s to role %s\u001b[0m\n",
            "[\u001b[34m2023-12-04T18:54:21.077+0000\u001b[0m] {\u001b[34mmanager.py:\u001b[0m555} INFO\u001b[0m - Added Permission %s to role %s\u001b[0m\n",
            "[\u001b[34m2023-12-04T18:54:21.094+0000\u001b[0m] {\u001b[34mmanager.py:\u001b[0m239} INFO\u001b[0m - Inserted Role: %s\u001b[0m\n",
            "[\u001b[34m2023-12-04T18:54:21.109+0000\u001b[0m] {\u001b[34mmanager.py:\u001b[0m555} INFO\u001b[0m - Added Permission %s to role %s\u001b[0m\n",
            "[\u001b[34m2023-12-04T18:54:21.124+0000\u001b[0m] {\u001b[34mmanager.py:\u001b[0m555} INFO\u001b[0m - Added Permission %s to role %s\u001b[0m\n",
            "[\u001b[34m2023-12-04T18:54:21.142+0000\u001b[0m] {\u001b[34mmanager.py:\u001b[0m555} INFO\u001b[0m - Added Permission %s to role %s\u001b[0m\n",
            "[\u001b[34m2023-12-04T18:54:21.155+0000\u001b[0m] {\u001b[34mmanager.py:\u001b[0m555} INFO\u001b[0m - Added Permission %s to role %s\u001b[0m\n",
            "[\u001b[34m2023-12-04T18:54:21.169+0000\u001b[0m] {\u001b[34mmanager.py:\u001b[0m555} INFO\u001b[0m - Added Permission %s to role %s\u001b[0m\n",
            "[\u001b[34m2023-12-04T18:54:21.181+0000\u001b[0m] {\u001b[34mmanager.py:\u001b[0m555} INFO\u001b[0m - Added Permission %s to role %s\u001b[0m\n",
            "[\u001b[34m2023-12-04T18:54:21.198+0000\u001b[0m] {\u001b[34mmanager.py:\u001b[0m555} INFO\u001b[0m - Added Permission %s to role %s\u001b[0m\n",
            "[\u001b[34m2023-12-04T18:54:21.217+0000\u001b[0m] {\u001b[34mmanager.py:\u001b[0m555} INFO\u001b[0m - Added Permission %s to role %s\u001b[0m\n",
            "[\u001b[34m2023-12-04T18:54:21.231+0000\u001b[0m] {\u001b[34mmanager.py:\u001b[0m555} INFO\u001b[0m - Added Permission %s to role %s\u001b[0m\n",
            "[\u001b[34m2023-12-04T18:54:21.245+0000\u001b[0m] {\u001b[34mmanager.py:\u001b[0m555} INFO\u001b[0m - Added Permission %s to role %s\u001b[0m\n",
            "[\u001b[34m2023-12-04T18:54:21.257+0000\u001b[0m] {\u001b[34mmanager.py:\u001b[0m555} INFO\u001b[0m - Added Permission %s to role %s\u001b[0m\n",
            "[\u001b[34m2023-12-04T18:54:21.270+0000\u001b[0m] {\u001b[34mmanager.py:\u001b[0m555} INFO\u001b[0m - Added Permission %s to role %s\u001b[0m\n",
            "[\u001b[34m2023-12-04T18:54:21.282+0000\u001b[0m] {\u001b[34mmanager.py:\u001b[0m555} INFO\u001b[0m - Added Permission %s to role %s\u001b[0m\n",
            "[\u001b[34m2023-12-04T18:54:21.296+0000\u001b[0m] {\u001b[34mmanager.py:\u001b[0m555} INFO\u001b[0m - Added Permission %s to role %s\u001b[0m\n",
            "[\u001b[34m2023-12-04T18:54:21.315+0000\u001b[0m] {\u001b[34mmanager.py:\u001b[0m555} INFO\u001b[0m - Added Permission %s to role %s\u001b[0m\n",
            "[\u001b[34m2023-12-04T18:54:21.328+0000\u001b[0m] {\u001b[34mmanager.py:\u001b[0m555} INFO\u001b[0m - Added Permission %s to role %s\u001b[0m\n",
            "[\u001b[34m2023-12-04T18:54:21.341+0000\u001b[0m] {\u001b[34mmanager.py:\u001b[0m555} INFO\u001b[0m - Added Permission %s to role %s\u001b[0m\n",
            "[\u001b[34m2023-12-04T18:54:21.356+0000\u001b[0m] {\u001b[34mmanager.py:\u001b[0m555} INFO\u001b[0m - Added Permission %s to role %s\u001b[0m\n",
            "[\u001b[34m2023-12-04T18:54:21.368+0000\u001b[0m] {\u001b[34mmanager.py:\u001b[0m555} INFO\u001b[0m - Added Permission %s to role %s\u001b[0m\n",
            "[\u001b[34m2023-12-04T18:54:21.385+0000\u001b[0m] {\u001b[34mmanager.py:\u001b[0m555} INFO\u001b[0m - Added Permission %s to role %s\u001b[0m\n",
            "[\u001b[34m2023-12-04T18:54:21.397+0000\u001b[0m] {\u001b[34mmanager.py:\u001b[0m555} INFO\u001b[0m - Added Permission %s to role %s\u001b[0m\n",
            "[\u001b[34m2023-12-04T18:54:21.410+0000\u001b[0m] {\u001b[34mmanager.py:\u001b[0m555} INFO\u001b[0m - Added Permission %s to role %s\u001b[0m\n",
            "[\u001b[34m2023-12-04T18:54:21.427+0000\u001b[0m] {\u001b[34mmanager.py:\u001b[0m555} INFO\u001b[0m - Added Permission %s to role %s\u001b[0m\n",
            "[\u001b[34m2023-12-04T18:54:21.440+0000\u001b[0m] {\u001b[34mmanager.py:\u001b[0m555} INFO\u001b[0m - Added Permission %s to role %s\u001b[0m\n",
            "[\u001b[34m2023-12-04T18:54:21.452+0000\u001b[0m] {\u001b[34mmanager.py:\u001b[0m555} INFO\u001b[0m - Added Permission %s to role %s\u001b[0m\n",
            "[\u001b[34m2023-12-04T18:54:21.465+0000\u001b[0m] {\u001b[34mmanager.py:\u001b[0m555} INFO\u001b[0m - Added Permission %s to role %s\u001b[0m\n",
            "[\u001b[34m2023-12-04T18:54:21.477+0000\u001b[0m] {\u001b[34mmanager.py:\u001b[0m555} INFO\u001b[0m - Added Permission %s to role %s\u001b[0m\n",
            "[\u001b[34m2023-12-04T18:54:21.489+0000\u001b[0m] {\u001b[34mmanager.py:\u001b[0m555} INFO\u001b[0m - Added Permission %s to role %s\u001b[0m\n",
            "[\u001b[34m2023-12-04T18:54:21.501+0000\u001b[0m] {\u001b[34mmanager.py:\u001b[0m555} INFO\u001b[0m - Added Permission %s to role %s\u001b[0m\n",
            "[\u001b[34m2023-12-04T18:54:21.516+0000\u001b[0m] {\u001b[34mmanager.py:\u001b[0m555} INFO\u001b[0m - Added Permission %s to role %s\u001b[0m\n",
            "[\u001b[34m2023-12-04T18:54:21.529+0000\u001b[0m] {\u001b[34mmanager.py:\u001b[0m555} INFO\u001b[0m - Added Permission %s to role %s\u001b[0m\n",
            "[\u001b[34m2023-12-04T18:54:21.543+0000\u001b[0m] {\u001b[34mmanager.py:\u001b[0m555} INFO\u001b[0m - Added Permission %s to role %s\u001b[0m\n",
            "[\u001b[34m2023-12-04T18:54:21.555+0000\u001b[0m] {\u001b[34mmanager.py:\u001b[0m555} INFO\u001b[0m - Added Permission %s to role %s\u001b[0m\n",
            "[\u001b[34m2023-12-04T18:54:21.567+0000\u001b[0m] {\u001b[34mmanager.py:\u001b[0m555} INFO\u001b[0m - Added Permission %s to role %s\u001b[0m\n",
            "[\u001b[34m2023-12-04T18:54:21.579+0000\u001b[0m] {\u001b[34mmanager.py:\u001b[0m555} INFO\u001b[0m - Added Permission %s to role %s\u001b[0m\n",
            "[\u001b[34m2023-12-04T18:54:21.591+0000\u001b[0m] {\u001b[34mmanager.py:\u001b[0m555} INFO\u001b[0m - Added Permission %s to role %s\u001b[0m\n",
            "[\u001b[34m2023-12-04T18:54:21.607+0000\u001b[0m] {\u001b[34mmanager.py:\u001b[0m555} INFO\u001b[0m - Added Permission %s to role %s\u001b[0m\n",
            "[\u001b[34m2023-12-04T18:54:21.622+0000\u001b[0m] {\u001b[34mmanager.py:\u001b[0m555} INFO\u001b[0m - Added Permission %s to role %s\u001b[0m\n",
            "[\u001b[34m2023-12-04T18:54:21.635+0000\u001b[0m] {\u001b[34mmanager.py:\u001b[0m555} INFO\u001b[0m - Added Permission %s to role %s\u001b[0m\n",
            "[\u001b[34m2023-12-04T18:54:21.649+0000\u001b[0m] {\u001b[34mmanager.py:\u001b[0m555} INFO\u001b[0m - Added Permission %s to role %s\u001b[0m\n",
            "[\u001b[34m2023-12-04T18:54:21.661+0000\u001b[0m] {\u001b[34mmanager.py:\u001b[0m555} INFO\u001b[0m - Added Permission %s to role %s\u001b[0m\n",
            "[\u001b[34m2023-12-04T18:54:21.680+0000\u001b[0m] {\u001b[34mmanager.py:\u001b[0m239} INFO\u001b[0m - Inserted Role: %s\u001b[0m\n",
            "[\u001b[34m2023-12-04T18:54:21.694+0000\u001b[0m] {\u001b[34mmanager.py:\u001b[0m555} INFO\u001b[0m - Added Permission %s to role %s\u001b[0m\n",
            "[\u001b[34m2023-12-04T18:54:21.706+0000\u001b[0m] {\u001b[34mmanager.py:\u001b[0m555} INFO\u001b[0m - Added Permission %s to role %s\u001b[0m\n",
            "[\u001b[34m2023-12-04T18:54:21.726+0000\u001b[0m] {\u001b[34mmanager.py:\u001b[0m555} INFO\u001b[0m - Added Permission %s to role %s\u001b[0m\n",
            "[\u001b[34m2023-12-04T18:54:21.739+0000\u001b[0m] {\u001b[34mmanager.py:\u001b[0m555} INFO\u001b[0m - Added Permission %s to role %s\u001b[0m\n",
            "[\u001b[34m2023-12-04T18:54:21.752+0000\u001b[0m] {\u001b[34mmanager.py:\u001b[0m555} INFO\u001b[0m - Added Permission %s to role %s\u001b[0m\n",
            "[\u001b[34m2023-12-04T18:54:21.764+0000\u001b[0m] {\u001b[34mmanager.py:\u001b[0m555} INFO\u001b[0m - Added Permission %s to role %s\u001b[0m\n",
            "[\u001b[34m2023-12-04T18:54:21.780+0000\u001b[0m] {\u001b[34mmanager.py:\u001b[0m555} INFO\u001b[0m - Added Permission %s to role %s\u001b[0m\n",
            "[\u001b[34m2023-12-04T18:54:21.795+0000\u001b[0m] {\u001b[34mmanager.py:\u001b[0m555} INFO\u001b[0m - Added Permission %s to role %s\u001b[0m\n",
            "[\u001b[34m2023-12-04T18:54:21.808+0000\u001b[0m] {\u001b[34mmanager.py:\u001b[0m555} INFO\u001b[0m - Added Permission %s to role %s\u001b[0m\n",
            "[\u001b[34m2023-12-04T18:54:21.822+0000\u001b[0m] {\u001b[34mmanager.py:\u001b[0m555} INFO\u001b[0m - Added Permission %s to role %s\u001b[0m\n",
            "[\u001b[34m2023-12-04T18:54:21.836+0000\u001b[0m] {\u001b[34mmanager.py:\u001b[0m555} INFO\u001b[0m - Added Permission %s to role %s\u001b[0m\n",
            "[\u001b[34m2023-12-04T18:54:21.849+0000\u001b[0m] {\u001b[34mmanager.py:\u001b[0m555} INFO\u001b[0m - Added Permission %s to role %s\u001b[0m\n",
            "[\u001b[34m2023-12-04T18:54:21.864+0000\u001b[0m] {\u001b[34mmanager.py:\u001b[0m555} INFO\u001b[0m - Added Permission %s to role %s\u001b[0m\n",
            "[\u001b[34m2023-12-04T18:54:21.876+0000\u001b[0m] {\u001b[34mmanager.py:\u001b[0m555} INFO\u001b[0m - Added Permission %s to role %s\u001b[0m\n",
            "[\u001b[34m2023-12-04T18:54:21.888+0000\u001b[0m] {\u001b[34mmanager.py:\u001b[0m555} INFO\u001b[0m - Added Permission %s to role %s\u001b[0m\n",
            "[\u001b[34m2023-12-04T18:54:21.902+0000\u001b[0m] {\u001b[34mmanager.py:\u001b[0m555} INFO\u001b[0m - Added Permission %s to role %s\u001b[0m\n",
            "[\u001b[34m2023-12-04T18:54:21.916+0000\u001b[0m] {\u001b[34mmanager.py:\u001b[0m555} INFO\u001b[0m - Added Permission %s to role %s\u001b[0m\n",
            "[\u001b[34m2023-12-04T18:54:21.935+0000\u001b[0m] {\u001b[34mmanager.py:\u001b[0m555} INFO\u001b[0m - Added Permission %s to role %s\u001b[0m\n",
            "[\u001b[34m2023-12-04T18:54:21.948+0000\u001b[0m] {\u001b[34mmanager.py:\u001b[0m555} INFO\u001b[0m - Added Permission %s to role %s\u001b[0m\n",
            "[\u001b[34m2023-12-04T18:54:21.963+0000\u001b[0m] {\u001b[34mmanager.py:\u001b[0m555} INFO\u001b[0m - Added Permission %s to role %s\u001b[0m\n",
            "[\u001b[34m2023-12-04T18:54:21.975+0000\u001b[0m] {\u001b[34mmanager.py:\u001b[0m555} INFO\u001b[0m - Added Permission %s to role %s\u001b[0m\n",
            "[\u001b[34m2023-12-04T18:54:21.987+0000\u001b[0m] {\u001b[34mmanager.py:\u001b[0m555} INFO\u001b[0m - Added Permission %s to role %s\u001b[0m\n",
            "[\u001b[34m2023-12-04T18:54:21.999+0000\u001b[0m] {\u001b[34mmanager.py:\u001b[0m555} INFO\u001b[0m - Added Permission %s to role %s\u001b[0m\n",
            "[\u001b[34m2023-12-04T18:54:22.012+0000\u001b[0m] {\u001b[34mmanager.py:\u001b[0m555} INFO\u001b[0m - Added Permission %s to role %s\u001b[0m\n",
            "[\u001b[34m2023-12-04T18:54:22.026+0000\u001b[0m] {\u001b[34mmanager.py:\u001b[0m555} INFO\u001b[0m - Added Permission %s to role %s\u001b[0m\n",
            "[\u001b[34m2023-12-04T18:54:22.038+0000\u001b[0m] {\u001b[34mmanager.py:\u001b[0m555} INFO\u001b[0m - Added Permission %s to role %s\u001b[0m\n",
            "[\u001b[34m2023-12-04T18:54:22.050+0000\u001b[0m] {\u001b[34mmanager.py:\u001b[0m555} INFO\u001b[0m - Added Permission %s to role %s\u001b[0m\n",
            "[\u001b[34m2023-12-04T18:54:22.064+0000\u001b[0m] {\u001b[34mmanager.py:\u001b[0m555} INFO\u001b[0m - Added Permission %s to role %s\u001b[0m\n",
            "[\u001b[34m2023-12-04T18:54:22.077+0000\u001b[0m] {\u001b[34mmanager.py:\u001b[0m555} INFO\u001b[0m - Added Permission %s to role %s\u001b[0m\n",
            "[\u001b[34m2023-12-04T18:54:22.090+0000\u001b[0m] {\u001b[34mmanager.py:\u001b[0m555} INFO\u001b[0m - Added Permission %s to role %s\u001b[0m\n",
            "[\u001b[34m2023-12-04T18:54:22.103+0000\u001b[0m] {\u001b[34mmanager.py:\u001b[0m555} INFO\u001b[0m - Added Permission %s to role %s\u001b[0m\n",
            "[\u001b[34m2023-12-04T18:54:22.115+0000\u001b[0m] {\u001b[34mmanager.py:\u001b[0m555} INFO\u001b[0m - Added Permission %s to role %s\u001b[0m\n",
            "[\u001b[34m2023-12-04T18:54:22.130+0000\u001b[0m] {\u001b[34mmanager.py:\u001b[0m555} INFO\u001b[0m - Added Permission %s to role %s\u001b[0m\n",
            "[\u001b[34m2023-12-04T18:54:22.143+0000\u001b[0m] {\u001b[34mmanager.py:\u001b[0m555} INFO\u001b[0m - Added Permission %s to role %s\u001b[0m\n",
            "[\u001b[34m2023-12-04T18:54:22.155+0000\u001b[0m] {\u001b[34mmanager.py:\u001b[0m555} INFO\u001b[0m - Added Permission %s to role %s\u001b[0m\n",
            "[\u001b[34m2023-12-04T18:54:22.168+0000\u001b[0m] {\u001b[34mmanager.py:\u001b[0m555} INFO\u001b[0m - Added Permission %s to role %s\u001b[0m\n",
            "[\u001b[34m2023-12-04T18:54:22.179+0000\u001b[0m] {\u001b[34mmanager.py:\u001b[0m555} INFO\u001b[0m - Added Permission %s to role %s\u001b[0m\n",
            "[\u001b[34m2023-12-04T18:54:22.193+0000\u001b[0m] {\u001b[34mmanager.py:\u001b[0m555} INFO\u001b[0m - Added Permission %s to role %s\u001b[0m\n",
            "[\u001b[34m2023-12-04T18:54:22.207+0000\u001b[0m] {\u001b[34mmanager.py:\u001b[0m555} INFO\u001b[0m - Added Permission %s to role %s\u001b[0m\n",
            "[\u001b[34m2023-12-04T18:54:22.219+0000\u001b[0m] {\u001b[34mmanager.py:\u001b[0m555} INFO\u001b[0m - Added Permission %s to role %s\u001b[0m\n",
            "[\u001b[34m2023-12-04T18:54:22.233+0000\u001b[0m] {\u001b[34mmanager.py:\u001b[0m555} INFO\u001b[0m - Added Permission %s to role %s\u001b[0m\n",
            "[\u001b[34m2023-12-04T18:54:22.245+0000\u001b[0m] {\u001b[34mmanager.py:\u001b[0m555} INFO\u001b[0m - Added Permission %s to role %s\u001b[0m\n",
            "[\u001b[34m2023-12-04T18:54:22.257+0000\u001b[0m] {\u001b[34mmanager.py:\u001b[0m555} INFO\u001b[0m - Added Permission %s to role %s\u001b[0m\n",
            "[\u001b[34m2023-12-04T18:54:22.270+0000\u001b[0m] {\u001b[34mmanager.py:\u001b[0m555} INFO\u001b[0m - Added Permission %s to role %s\u001b[0m\n",
            "[\u001b[34m2023-12-04T18:54:22.283+0000\u001b[0m] {\u001b[34mmanager.py:\u001b[0m555} INFO\u001b[0m - Added Permission %s to role %s\u001b[0m\n",
            "[\u001b[34m2023-12-04T18:54:22.295+0000\u001b[0m] {\u001b[34mmanager.py:\u001b[0m555} INFO\u001b[0m - Added Permission %s to role %s\u001b[0m\n",
            "[\u001b[34m2023-12-04T18:54:22.307+0000\u001b[0m] {\u001b[34mmanager.py:\u001b[0m555} INFO\u001b[0m - Added Permission %s to role %s\u001b[0m\n",
            "[\u001b[34m2023-12-04T18:54:22.319+0000\u001b[0m] {\u001b[34mmanager.py:\u001b[0m555} INFO\u001b[0m - Added Permission %s to role %s\u001b[0m\n",
            "[\u001b[34m2023-12-04T18:54:22.338+0000\u001b[0m] {\u001b[34mmanager.py:\u001b[0m555} INFO\u001b[0m - Added Permission %s to role %s\u001b[0m\n",
            "[\u001b[34m2023-12-04T18:54:22.350+0000\u001b[0m] {\u001b[34mmanager.py:\u001b[0m555} INFO\u001b[0m - Added Permission %s to role %s\u001b[0m\n",
            "[\u001b[34m2023-12-04T18:54:22.362+0000\u001b[0m] {\u001b[34mmanager.py:\u001b[0m555} INFO\u001b[0m - Added Permission %s to role %s\u001b[0m\n",
            "[\u001b[34m2023-12-04T18:54:22.373+0000\u001b[0m] {\u001b[34mmanager.py:\u001b[0m555} INFO\u001b[0m - Added Permission %s to role %s\u001b[0m\n",
            "[\u001b[34m2023-12-04T18:54:22.386+0000\u001b[0m] {\u001b[34mmanager.py:\u001b[0m555} INFO\u001b[0m - Added Permission %s to role %s\u001b[0m\n",
            "[\u001b[34m2023-12-04T18:54:22.398+0000\u001b[0m] {\u001b[34mmanager.py:\u001b[0m555} INFO\u001b[0m - Added Permission %s to role %s\u001b[0m\n",
            "[\u001b[34m2023-12-04T18:54:22.410+0000\u001b[0m] {\u001b[34mmanager.py:\u001b[0m555} INFO\u001b[0m - Added Permission %s to role %s\u001b[0m\n",
            "[\u001b[34m2023-12-04T18:54:22.424+0000\u001b[0m] {\u001b[34mmanager.py:\u001b[0m555} INFO\u001b[0m - Added Permission %s to role %s\u001b[0m\n",
            "[\u001b[34m2023-12-04T18:54:22.438+0000\u001b[0m] {\u001b[34mmanager.py:\u001b[0m555} INFO\u001b[0m - Added Permission %s to role %s\u001b[0m\n",
            "[\u001b[34m2023-12-04T18:54:22.451+0000\u001b[0m] {\u001b[34mmanager.py:\u001b[0m555} INFO\u001b[0m - Added Permission %s to role %s\u001b[0m\n",
            "[\u001b[34m2023-12-04T18:54:22.464+0000\u001b[0m] {\u001b[34mmanager.py:\u001b[0m555} INFO\u001b[0m - Added Permission %s to role %s\u001b[0m\n",
            "[\u001b[34m2023-12-04T18:54:22.475+0000\u001b[0m] {\u001b[34mmanager.py:\u001b[0m555} INFO\u001b[0m - Added Permission %s to role %s\u001b[0m\n",
            "[\u001b[34m2023-12-04T18:54:22.487+0000\u001b[0m] {\u001b[34mmanager.py:\u001b[0m555} INFO\u001b[0m - Added Permission %s to role %s\u001b[0m\n",
            "[\u001b[34m2023-12-04T18:54:22.499+0000\u001b[0m] {\u001b[34mmanager.py:\u001b[0m555} INFO\u001b[0m - Added Permission %s to role %s\u001b[0m\n",
            "[\u001b[34m2023-12-04T18:54:22.512+0000\u001b[0m] {\u001b[34mmanager.py:\u001b[0m555} INFO\u001b[0m - Added Permission %s to role %s\u001b[0m\n",
            "[\u001b[34m2023-12-04T18:54:22.534+0000\u001b[0m] {\u001b[34mmanager.py:\u001b[0m555} INFO\u001b[0m - Added Permission %s to role %s\u001b[0m\n",
            "[\u001b[34m2023-12-04T18:54:22.550+0000\u001b[0m] {\u001b[34mmanager.py:\u001b[0m555} INFO\u001b[0m - Added Permission %s to role %s\u001b[0m\n",
            "[\u001b[34m2023-12-04T18:54:22.563+0000\u001b[0m] {\u001b[34mmanager.py:\u001b[0m555} INFO\u001b[0m - Added Permission %s to role %s\u001b[0m\n",
            "[\u001b[34m2023-12-04T18:54:22.580+0000\u001b[0m] {\u001b[34mmanager.py:\u001b[0m555} INFO\u001b[0m - Added Permission %s to role %s\u001b[0m\n",
            "[\u001b[34m2023-12-04T18:54:22.593+0000\u001b[0m] {\u001b[34mmanager.py:\u001b[0m555} INFO\u001b[0m - Added Permission %s to role %s\u001b[0m\n",
            "[\u001b[34m2023-12-04T18:54:22.605+0000\u001b[0m] {\u001b[34mmanager.py:\u001b[0m555} INFO\u001b[0m - Added Permission %s to role %s\u001b[0m\n",
            "[\u001b[34m2023-12-04T18:54:22.628+0000\u001b[0m] {\u001b[34mmanager.py:\u001b[0m555} INFO\u001b[0m - Added Permission %s to role %s\u001b[0m\n",
            "[\u001b[34m2023-12-04T18:54:22.646+0000\u001b[0m] {\u001b[34mmanager.py:\u001b[0m555} INFO\u001b[0m - Added Permission %s to role %s\u001b[0m\n",
            "[\u001b[34m2023-12-04T18:54:22.659+0000\u001b[0m] {\u001b[34mmanager.py:\u001b[0m555} INFO\u001b[0m - Added Permission %s to role %s\u001b[0m\n",
            "[\u001b[34m2023-12-04T18:54:22.671+0000\u001b[0m] {\u001b[34mmanager.py:\u001b[0m555} INFO\u001b[0m - Added Permission %s to role %s\u001b[0m\n",
            "[2023-12-04 18:54:22 +0000] [9821] [INFO] Starting gunicorn 21.2.0\n",
            "[2023-12-04 18:54:22 +0000] [9821] [ERROR] Connection in use: ('0.0.0.0', 8080)\n",
            "[2023-12-04 18:54:22 +0000] [9821] [ERROR] Retrying in 1 second.\n",
            "[2023-12-04 18:54:23 +0000] [9821] [ERROR] Connection in use: ('0.0.0.0', 8080)\n",
            "[2023-12-04 18:54:23 +0000] [9821] [ERROR] Retrying in 1 second.\n",
            "[2023-12-04 18:54:24 +0000] [9821] [ERROR] Connection in use: ('0.0.0.0', 8080)\n",
            "[2023-12-04 18:54:24 +0000] [9821] [ERROR] Retrying in 1 second.\n",
            "[2023-12-04 18:54:25 +0000] [9821] [ERROR] Connection in use: ('0.0.0.0', 8080)\n",
            "[2023-12-04 18:54:25 +0000] [9821] [ERROR] Retrying in 1 second.\n",
            "[2023-12-04 18:54:26 +0000] [9821] [ERROR] Connection in use: ('0.0.0.0', 8080)\n",
            "[2023-12-04 18:54:26 +0000] [9821] [ERROR] Retrying in 1 second.\n",
            "[2023-12-04 18:54:27 +0000] [9821] [ERROR] Can't connect to ('0.0.0.0', 8080)\n",
            "[\u001b[34m2023-12-04T18:56:12.026+0000\u001b[0m] {\u001b[34mwebserver_command.py:\u001b[0m225} \u001b[31mERROR\u001b[0m - \u001b[31mNo response from gunicorn master within 120 seconds\u001b[0m\n",
            "[\u001b[34m2023-12-04T18:56:12.027+0000\u001b[0m] {\u001b[34mwebserver_command.py:\u001b[0m226} \u001b[31mERROR\u001b[0m - \u001b[31mShutting down webserver\u001b[0m\n"
          ]
        }
      ]
    },
    {
      "cell_type": "code",
      "source": [
        "!airflow scheduler\n"
      ],
      "metadata": {
        "colab": {
          "base_uri": "https://localhost:8080/"
        },
        "id": "-gKfSl10VbQ5",
        "outputId": "2a69a301-0366-4a69-8c77-fb4477f90074"
      },
      "execution_count": null,
      "outputs": [
        {
          "output_type": "stream",
          "name": "stdout",
          "text": [
            "\n",
            "Please confirm database initialize (or wait 4 seconds to skip it). Are you sure? [y/N]\n",
            "  ____________       _____________\n",
            " ____    |__( )_________  __/__  /________      __\n",
            "____  /| |_  /__  ___/_  /_ __  /_  __ \\_ | /| / /\n",
            "___  ___ |  / _  /   _  __/ _  / / /_/ /_ |/ |/ /\n",
            " _/_/  |_/_/  /_/    /_/    /_/  \\____/____/|__/\n",
            "[\u001b[34m2023-12-04T18:56:18.611+0000\u001b[0m] {\u001b[34mexecutor_loader.py:\u001b[0m117} INFO\u001b[0m - Loaded executor: \u001b[01mSequentialExecutor\u001b[22m\u001b[0m\n",
            "[2023-12-04 18:56:18 +0000] [10332] [INFO] Starting gunicorn 21.2.0\n",
            "[2023-12-04 18:56:18 +0000] [10332] [INFO] Listening at: http://[::]:8793 (10332)\n",
            "[2023-12-04 18:56:18 +0000] [10332] [INFO] Using worker: sync\n",
            "[2023-12-04 18:56:18 +0000] [10333] [INFO] Booting worker with pid: 10333\n",
            "[\u001b[34m2023-12-04T18:56:18.856+0000\u001b[0m] {\u001b[34mscheduler_job_runner.py:\u001b[0m797} INFO\u001b[0m - Starting the scheduler\u001b[0m\n",
            "[\u001b[34m2023-12-04T18:56:18.858+0000\u001b[0m] {\u001b[34mscheduler_job_runner.py:\u001b[0m804} INFO\u001b[0m - Processing each file at most -1 times\u001b[0m\n",
            "[\u001b[34m2023-12-04T18:56:18.866+0000\u001b[0m] {\u001b[34mmanager.py:\u001b[0m166} INFO\u001b[0m - Launched DagFileProcessorManager with pid: 10334\u001b[0m\n",
            "[\u001b[34m2023-12-04T18:56:18.869+0000\u001b[0m] {\u001b[34mscheduler_job_runner.py:\u001b[0m1605} INFO\u001b[0m - Adopting or resetting orphaned tasks for active dag runs\u001b[0m\n",
            "[\u001b[34m2023-12-04T18:56:18.888+0000\u001b[0m] {\u001b[34msettings.py:\u001b[0m61} INFO\u001b[0m - Configured default timezone \u001b[01mTimezone('UTC')\u001b[22m\u001b[0m\n",
            "[2023-12-04 18:56:18 +0000] [10335] [INFO] Booting worker with pid: 10335\n",
            "[2023-12-04T18:56:19.010+0000] {manager.py:410} WARNING - Because we cannot use more than 1 thread (parsing_processes = 2) when using sqlite. So we set parallelism to 1.\n",
            "[\u001b[34m2023-12-04T19:01:19.255+0000\u001b[0m] {\u001b[34mscheduler_job_runner.py:\u001b[0m1605} INFO\u001b[0m - Adopting or resetting orphaned tasks for active dag runs\u001b[0m\n",
            "[\u001b[34m2023-12-04T19:06:19.509+0000\u001b[0m] {\u001b[34mscheduler_job_runner.py:\u001b[0m1605} INFO\u001b[0m - Adopting or resetting orphaned tasks for active dag runs\u001b[0m\n",
            "[\u001b[34m2023-12-04T19:11:19.756+0000\u001b[0m] {\u001b[34mscheduler_job_runner.py:\u001b[0m1605} INFO\u001b[0m - Adopting or resetting orphaned tasks for active dag runs\u001b[0m\n",
            "[\u001b[34m2023-12-04T19:16:19.905+0000\u001b[0m] {\u001b[34mscheduler_job_runner.py:\u001b[0m1605} INFO\u001b[0m - Adopting or resetting orphaned tasks for active dag runs\u001b[0m\n",
            "[\u001b[34m2023-12-04T19:21:20.072+0000\u001b[0m] {\u001b[34mscheduler_job_runner.py:\u001b[0m1605} INFO\u001b[0m - Adopting or resetting orphaned tasks for active dag runs\u001b[0m\n",
            "[\u001b[34m2023-12-04T19:26:20.332+0000\u001b[0m] {\u001b[34mscheduler_job_runner.py:\u001b[0m1605} INFO\u001b[0m - Adopting or resetting orphaned tasks for active dag runs\u001b[0m\n",
            "[\u001b[34m2023-12-04T19:31:20.394+0000\u001b[0m] {\u001b[34mscheduler_job_runner.py:\u001b[0m1605} INFO\u001b[0m - Adopting or resetting orphaned tasks for active dag runs\u001b[0m\n",
            "[\u001b[34m2023-12-04T19:36:20.498+0000\u001b[0m] {\u001b[34mscheduler_job_runner.py:\u001b[0m1605} INFO\u001b[0m - Adopting or resetting orphaned tasks for active dag runs\u001b[0m\n",
            "[\u001b[34m2023-12-04T19:41:20.529+0000\u001b[0m] {\u001b[34mscheduler_job_runner.py:\u001b[0m1605} INFO\u001b[0m - Adopting or resetting orphaned tasks for active dag runs\u001b[0m\n",
            "[\u001b[34m2023-12-04T19:46:20.678+0000\u001b[0m] {\u001b[34mscheduler_job_runner.py:\u001b[0m1605} INFO\u001b[0m - Adopting or resetting orphaned tasks for active dag runs\u001b[0m\n",
            "[\u001b[34m2023-12-04T19:51:20.825+0000\u001b[0m] {\u001b[34mscheduler_job_runner.py:\u001b[0m1605} INFO\u001b[0m - Adopting or resetting orphaned tasks for active dag runs\u001b[0m\n",
            "[\u001b[34m2023-12-04T19:56:20.975+0000\u001b[0m] {\u001b[34mscheduler_job_runner.py:\u001b[0m1605} INFO\u001b[0m - Adopting or resetting orphaned tasks for active dag runs\u001b[0m\n",
            "[\u001b[34m2023-12-04T20:01:21.225+0000\u001b[0m] {\u001b[34mscheduler_job_runner.py:\u001b[0m1605} INFO\u001b[0m - Adopting or resetting orphaned tasks for active dag runs\u001b[0m\n",
            "[\u001b[34m2023-12-04T20:06:21.374+0000\u001b[0m] {\u001b[34mscheduler_job_runner.py:\u001b[0m1605} INFO\u001b[0m - Adopting or resetting orphaned tasks for active dag runs\u001b[0m\n",
            "[\u001b[34m2023-12-04T20:11:21.541+0000\u001b[0m] {\u001b[34mscheduler_job_runner.py:\u001b[0m1605} INFO\u001b[0m - Adopting or resetting orphaned tasks for active dag runs\u001b[0m\n",
            "[\u001b[34m2023-12-04T20:16:22.000+0000\u001b[0m] {\u001b[34mscheduler_job_runner.py:\u001b[0m1605} INFO\u001b[0m - Adopting or resetting orphaned tasks for active dag runs\u001b[0m\n",
            "[\u001b[34m2023-12-04T20:21:22.148+0000\u001b[0m] {\u001b[34mscheduler_job_runner.py:\u001b[0m1605} INFO\u001b[0m - Adopting or resetting orphaned tasks for active dag runs\u001b[0m\n",
            "[\u001b[34m2023-12-04T20:26:22.397+0000\u001b[0m] {\u001b[34mscheduler_job_runner.py:\u001b[0m1605} INFO\u001b[0m - Adopting or resetting orphaned tasks for active dag runs\u001b[0m\n",
            "[\u001b[34m2023-12-04T20:31:22.559+0000\u001b[0m] {\u001b[34mscheduler_job_runner.py:\u001b[0m1605} INFO\u001b[0m - Adopting or resetting orphaned tasks for active dag runs\u001b[0m\n",
            "[\u001b[34m2023-12-04T20:36:22.814+0000\u001b[0m] {\u001b[34mscheduler_job_runner.py:\u001b[0m1605} INFO\u001b[0m - Adopting or resetting orphaned tasks for active dag runs\u001b[0m\n"
          ]
        }
      ]
    }
  ]
}